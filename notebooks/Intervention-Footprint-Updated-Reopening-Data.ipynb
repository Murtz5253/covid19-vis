{
 "cells": [
  {
   "cell_type": "code",
   "execution_count": 1,
   "metadata": {},
   "outputs": [
    {
     "name": "stdout",
     "output_type": "stream",
     "text": [
      "/Users/dorislee/Desktop/Research/covid/covid19-vis/chartlib\n"
     ]
    }
   ],
   "source": [
    "cd ../chartlib/"
   ]
  },
  {
   "cell_type": "code",
   "execution_count": 2,
   "metadata": {},
   "outputs": [
    {
     "name": "stdout",
     "output_type": "stream",
     "text": [
      "Populating the interactive namespace from numpy and matplotlib\n"
     ]
    }
   ],
   "source": [
    "%pylab inline"
   ]
  },
  {
   "cell_type": "code",
   "execution_count": 3,
   "metadata": {},
   "outputs": [],
   "source": [
    "severityScore = {'e':0.1,'g':0.3, 'c':0.3, 's':0.4,'r':0.6 , 't':0.6, 'n':0.8, 'l':1, 'f':0.5,\n",
    "                 'a':-0.1, 'd':-0.6, 'k':-0.3, 'h':-1, 'n':-0.8, 'p':-0.5, 'q':-0.6, 'o':-0.8, 'j':-0.3}\n",
    "\n",
    "\n",
    "import pandas as pd\n",
    "import numpy as np\n",
    "from utils import create_lockdown_type, split_into_list, str2emo\n",
    "df = pd.read_csv(\"../data/combined-activity-US-Jun9-with-partial-pop-b4-Apr16.csv\")"
   ]
  },
  {
   "cell_type": "code",
   "execution_count": 4,
   "metadata": {},
   "outputs": [
    {
     "data": {
      "text/html": [
       "<div>\n",
       "<style scoped>\n",
       "    .dataframe tbody tr th:only-of-type {\n",
       "        vertical-align: middle;\n",
       "    }\n",
       "\n",
       "    .dataframe tbody tr th {\n",
       "        vertical-align: top;\n",
       "    }\n",
       "\n",
       "    .dataframe thead th {\n",
       "        text-align: right;\n",
       "    }\n",
       "</style>\n",
       "<table border=\"1\" class=\"dataframe\">\n",
       "  <thead>\n",
       "    <tr style=\"text-align: right;\">\n",
       "      <th></th>\n",
       "      <th>Unnamed: 0</th>\n",
       "      <th>State</th>\n",
       "      <th>Coverage.type</th>\n",
       "      <th>Coverage.location</th>\n",
       "      <th>Effective Date</th>\n",
       "      <th>State of Emergency Declaration</th>\n",
       "      <th>Travel Restrictions</th>\n",
       "      <th>Shelter-in-place Order</th>\n",
       "      <th>Gathering Limitations</th>\n",
       "      <th>Banning Gatherings of a Certain Size</th>\n",
       "      <th>...</th>\n",
       "      <th>Reference links</th>\n",
       "      <th>Timestamp</th>\n",
       "      <th>population_size</th>\n",
       "      <th>population_reference</th>\n",
       "      <th>Coverage.county.FIPS</th>\n",
       "      <th>Coverage.city.FIPS</th>\n",
       "      <th>population_reference.1</th>\n",
       "      <th>Coverage</th>\n",
       "      <th>Face Covering Requirements</th>\n",
       "      <th>Details (if any)</th>\n",
       "    </tr>\n",
       "  </thead>\n",
       "  <tbody>\n",
       "    <tr>\n",
       "      <th>0</th>\n",
       "      <td>0</td>\n",
       "      <td>Alabama</td>\n",
       "      <td>State-wide</td>\n",
       "      <td>Alabama</td>\n",
       "      <td>2020-03-13</td>\n",
       "      <td>State of Emergency declared</td>\n",
       "      <td>NaN</td>\n",
       "      <td>NaN</td>\n",
       "      <td>NaN</td>\n",
       "      <td>NaN</td>\n",
       "      <td>...</td>\n",
       "      <td>https://en.wikipedia.org/wiki/U.S._state_and_l...</td>\n",
       "      <td>4/10/20</td>\n",
       "      <td>4903185</td>\n",
       "      <td>1.0</td>\n",
       "      <td>NaN</td>\n",
       "      <td>NaN</td>\n",
       "      <td>https://www.census.gov/data/datasets/time-seri...</td>\n",
       "      <td>NaN</td>\n",
       "      <td>NaN</td>\n",
       "      <td>NaN</td>\n",
       "    </tr>\n",
       "    <tr>\n",
       "      <th>1</th>\n",
       "      <td>1</td>\n",
       "      <td>Alabama</td>\n",
       "      <td>State-wide</td>\n",
       "      <td>Alabama</td>\n",
       "      <td>2020-03-27</td>\n",
       "      <td>NaN</td>\n",
       "      <td>NaN</td>\n",
       "      <td>NaN</td>\n",
       "      <td>NaN</td>\n",
       "      <td>NaN</td>\n",
       "      <td>...</td>\n",
       "      <td>https://en.wikipedia.org/wiki/2020_coronavirus...</td>\n",
       "      <td>4/10/20</td>\n",
       "      <td>4903185</td>\n",
       "      <td>1.0</td>\n",
       "      <td>NaN</td>\n",
       "      <td>NaN</td>\n",
       "      <td>https://www.census.gov/data/datasets/time-seri...</td>\n",
       "      <td>NaN</td>\n",
       "      <td>NaN</td>\n",
       "      <td>NaN</td>\n",
       "    </tr>\n",
       "    <tr>\n",
       "      <th>2</th>\n",
       "      <td>2</td>\n",
       "      <td>Alabama</td>\n",
       "      <td>State-wide</td>\n",
       "      <td>Alabama</td>\n",
       "      <td>2020-03-02</td>\n",
       "      <td>NaN</td>\n",
       "      <td>NaN</td>\n",
       "      <td>NaN</td>\n",
       "      <td>Suggested social distancing</td>\n",
       "      <td>NaN</td>\n",
       "      <td>...</td>\n",
       "      <td>https://en.wikipedia.org/wiki/2020_coronavirus...</td>\n",
       "      <td>4/10/20</td>\n",
       "      <td>4903185</td>\n",
       "      <td>1.0</td>\n",
       "      <td>NaN</td>\n",
       "      <td>NaN</td>\n",
       "      <td>https://www.census.gov/data/datasets/time-seri...</td>\n",
       "      <td>NaN</td>\n",
       "      <td>NaN</td>\n",
       "      <td>NaN</td>\n",
       "    </tr>\n",
       "    <tr>\n",
       "      <th>3</th>\n",
       "      <td>3</td>\n",
       "      <td>Alabama</td>\n",
       "      <td>State-wide</td>\n",
       "      <td>Alabama</td>\n",
       "      <td>2020-04-04</td>\n",
       "      <td>NaN</td>\n",
       "      <td>NaN</td>\n",
       "      <td>Shelter-in-place order</td>\n",
       "      <td>NaN</td>\n",
       "      <td>NaN</td>\n",
       "      <td>...</td>\n",
       "      <td>https://en.wikipedia.org/wiki/2020_coronavirus...</td>\n",
       "      <td>4/10/20</td>\n",
       "      <td>4903185</td>\n",
       "      <td>1.0</td>\n",
       "      <td>NaN</td>\n",
       "      <td>NaN</td>\n",
       "      <td>https://www.census.gov/data/datasets/time-seri...</td>\n",
       "      <td>NaN</td>\n",
       "      <td>NaN</td>\n",
       "      <td>NaN</td>\n",
       "    </tr>\n",
       "    <tr>\n",
       "      <th>4</th>\n",
       "      <td>4</td>\n",
       "      <td>Alabama</td>\n",
       "      <td>State-wide</td>\n",
       "      <td>Alabama</td>\n",
       "      <td>2020-03-18</td>\n",
       "      <td>NaN</td>\n",
       "      <td>NaN</td>\n",
       "      <td>NaN</td>\n",
       "      <td>Banned gatherings of a certain size</td>\n",
       "      <td>50.0</td>\n",
       "      <td>...</td>\n",
       "      <td>https://en.wikipedia.org/wiki/2020_coronavirus...</td>\n",
       "      <td>4/10/20</td>\n",
       "      <td>4903185</td>\n",
       "      <td>1.0</td>\n",
       "      <td>NaN</td>\n",
       "      <td>NaN</td>\n",
       "      <td>https://www.census.gov/data/datasets/time-seri...</td>\n",
       "      <td>NaN</td>\n",
       "      <td>NaN</td>\n",
       "      <td>NaN</td>\n",
       "    </tr>\n",
       "    <tr>\n",
       "      <th>...</th>\n",
       "      <td>...</td>\n",
       "      <td>...</td>\n",
       "      <td>...</td>\n",
       "      <td>...</td>\n",
       "      <td>...</td>\n",
       "      <td>...</td>\n",
       "      <td>...</td>\n",
       "      <td>...</td>\n",
       "      <td>...</td>\n",
       "      <td>...</td>\n",
       "      <td>...</td>\n",
       "      <td>...</td>\n",
       "      <td>...</td>\n",
       "      <td>...</td>\n",
       "      <td>...</td>\n",
       "      <td>...</td>\n",
       "      <td>...</td>\n",
       "      <td>...</td>\n",
       "      <td>...</td>\n",
       "      <td>...</td>\n",
       "      <td>...</td>\n",
       "    </tr>\n",
       "    <tr>\n",
       "      <th>710</th>\n",
       "      <td>103</td>\n",
       "      <td>NaN</td>\n",
       "      <td>NaN</td>\n",
       "      <td>NaN</td>\n",
       "      <td>04-27-2020</td>\n",
       "      <td>NaN</td>\n",
       "      <td>NaN</td>\n",
       "      <td>NaN</td>\n",
       "      <td>NaN</td>\n",
       "      <td>NaN</td>\n",
       "      <td>...</td>\n",
       "      <td>https://www.npr.org/2020/05/01/847413697/midwe...</td>\n",
       "      <td>NaN</td>\n",
       "      <td>NaN</td>\n",
       "      <td>NaN</td>\n",
       "      <td>NaN</td>\n",
       "      <td>NaN</td>\n",
       "      <td>NaN</td>\n",
       "      <td>State-wide</td>\n",
       "      <td>NaN</td>\n",
       "      <td>“An April 27 executive order further eases res...</td>\n",
       "    </tr>\n",
       "    <tr>\n",
       "      <th>711</th>\n",
       "      <td>104</td>\n",
       "      <td>NaN</td>\n",
       "      <td>NaN</td>\n",
       "      <td>NaN</td>\n",
       "      <td>05-13-2020</td>\n",
       "      <td>NaN</td>\n",
       "      <td>NaN</td>\n",
       "      <td>Shelter-in-place order lifted</td>\n",
       "      <td>NaN</td>\n",
       "      <td>NaN</td>\n",
       "      <td>...</td>\n",
       "      <td>https://www.npr.org/2020/05/01/847413697/midwe...</td>\n",
       "      <td>NaN</td>\n",
       "      <td>NaN</td>\n",
       "      <td>NaN</td>\n",
       "      <td>NaN</td>\n",
       "      <td>NaN</td>\n",
       "      <td>NaN</td>\n",
       "      <td>State-wide</td>\n",
       "      <td>NaN</td>\n",
       "      <td>\"The state Supreme Court struck down Gov. Tony...</td>\n",
       "    </tr>\n",
       "    <tr>\n",
       "      <th>712</th>\n",
       "      <td>105</td>\n",
       "      <td>NaN</td>\n",
       "      <td>NaN</td>\n",
       "      <td>NaN</td>\n",
       "      <td>05-01-2020</td>\n",
       "      <td>NaN</td>\n",
       "      <td>NaN</td>\n",
       "      <td>NaN</td>\n",
       "      <td>Banned gatherings of a certain size</td>\n",
       "      <td>10.0</td>\n",
       "      <td>...</td>\n",
       "      <td>https://www.npr.org/2020/05/01/847416108/west-...</td>\n",
       "      <td>NaN</td>\n",
       "      <td>NaN</td>\n",
       "      <td>NaN</td>\n",
       "      <td>NaN</td>\n",
       "      <td>NaN</td>\n",
       "      <td>NaN</td>\n",
       "      <td>State-wide</td>\n",
       "      <td>NaN</td>\n",
       "      <td>\"Public health orders effective May 1 allow gy...</td>\n",
       "    </tr>\n",
       "    <tr>\n",
       "      <th>713</th>\n",
       "      <td>106</td>\n",
       "      <td>NaN</td>\n",
       "      <td>NaN</td>\n",
       "      <td>NaN</td>\n",
       "      <td>05-08-2020</td>\n",
       "      <td>NaN</td>\n",
       "      <td>Travel restrictions for out of state travelers...</td>\n",
       "      <td>NaN</td>\n",
       "      <td>NaN</td>\n",
       "      <td>NaN</td>\n",
       "      <td>...</td>\n",
       "      <td>https://www.npr.org/2020/05/01/847416108/west-...</td>\n",
       "      <td>NaN</td>\n",
       "      <td>NaN</td>\n",
       "      <td>NaN</td>\n",
       "      <td>NaN</td>\n",
       "      <td>NaN</td>\n",
       "      <td>NaN</td>\n",
       "      <td>State-wide</td>\n",
       "      <td>NaN</td>\n",
       "      <td>\"Beginning May 8, out-of-state travelers are n...</td>\n",
       "    </tr>\n",
       "    <tr>\n",
       "      <th>714</th>\n",
       "      <td>107</td>\n",
       "      <td>NaN</td>\n",
       "      <td>NaN</td>\n",
       "      <td>NaN</td>\n",
       "      <td>05-15-2020</td>\n",
       "      <td>NaN</td>\n",
       "      <td>NaN</td>\n",
       "      <td>NaN</td>\n",
       "      <td>Banned gatherings of a certain size</td>\n",
       "      <td>25.0</td>\n",
       "      <td>...</td>\n",
       "      <td>https://www.npr.org/2020/05/01/847416108/west-...</td>\n",
       "      <td>NaN</td>\n",
       "      <td>NaN</td>\n",
       "      <td>NaN</td>\n",
       "      <td>NaN</td>\n",
       "      <td>NaN</td>\n",
       "      <td>NaN</td>\n",
       "      <td>State-wide</td>\n",
       "      <td>NaN</td>\n",
       "      <td>\"A modified public health order effective May ...</td>\n",
       "    </tr>\n",
       "  </tbody>\n",
       "</table>\n",
       "<p>715 rows × 24 columns</p>\n",
       "</div>"
      ],
      "text/plain": [
       "     Unnamed: 0    State Coverage.type Coverage.location Effective Date  \\\n",
       "0             0  Alabama    State-wide           Alabama     2020-03-13   \n",
       "1             1  Alabama    State-wide           Alabama     2020-03-27   \n",
       "2             2  Alabama    State-wide           Alabama     2020-03-02   \n",
       "3             3  Alabama    State-wide           Alabama     2020-04-04   \n",
       "4             4  Alabama    State-wide           Alabama     2020-03-18   \n",
       "..          ...      ...           ...               ...            ...   \n",
       "710         103      NaN           NaN               NaN     04-27-2020   \n",
       "711         104      NaN           NaN               NaN     05-13-2020   \n",
       "712         105      NaN           NaN               NaN     05-01-2020   \n",
       "713         106      NaN           NaN               NaN     05-08-2020   \n",
       "714         107      NaN           NaN               NaN     05-15-2020   \n",
       "\n",
       "    State of Emergency Declaration  \\\n",
       "0      State of Emergency declared   \n",
       "1                              NaN   \n",
       "2                              NaN   \n",
       "3                              NaN   \n",
       "4                              NaN   \n",
       "..                             ...   \n",
       "710                            NaN   \n",
       "711                            NaN   \n",
       "712                            NaN   \n",
       "713                            NaN   \n",
       "714                            NaN   \n",
       "\n",
       "                                   Travel Restrictions  \\\n",
       "0                                                  NaN   \n",
       "1                                                  NaN   \n",
       "2                                                  NaN   \n",
       "3                                                  NaN   \n",
       "4                                                  NaN   \n",
       "..                                                 ...   \n",
       "710                                                NaN   \n",
       "711                                                NaN   \n",
       "712                                                NaN   \n",
       "713  Travel restrictions for out of state travelers...   \n",
       "714                                                NaN   \n",
       "\n",
       "            Shelter-in-place Order                Gathering Limitations  \\\n",
       "0                              NaN                                  NaN   \n",
       "1                              NaN                                  NaN   \n",
       "2                              NaN          Suggested social distancing   \n",
       "3           Shelter-in-place order                                  NaN   \n",
       "4                              NaN  Banned gatherings of a certain size   \n",
       "..                             ...                                  ...   \n",
       "710                            NaN                                  NaN   \n",
       "711  Shelter-in-place order lifted                                  NaN   \n",
       "712                            NaN  Banned gatherings of a certain size   \n",
       "713                            NaN                                  NaN   \n",
       "714                            NaN  Banned gatherings of a certain size   \n",
       "\n",
       "     Banning Gatherings of a Certain Size  ...  \\\n",
       "0                                     NaN  ...   \n",
       "1                                     NaN  ...   \n",
       "2                                     NaN  ...   \n",
       "3                                     NaN  ...   \n",
       "4                                    50.0  ...   \n",
       "..                                    ...  ...   \n",
       "710                                   NaN  ...   \n",
       "711                                   NaN  ...   \n",
       "712                                  10.0  ...   \n",
       "713                                   NaN  ...   \n",
       "714                                  25.0  ...   \n",
       "\n",
       "                                       Reference links Timestamp  \\\n",
       "0    https://en.wikipedia.org/wiki/U.S._state_and_l...   4/10/20   \n",
       "1    https://en.wikipedia.org/wiki/2020_coronavirus...   4/10/20   \n",
       "2    https://en.wikipedia.org/wiki/2020_coronavirus...   4/10/20   \n",
       "3    https://en.wikipedia.org/wiki/2020_coronavirus...   4/10/20   \n",
       "4    https://en.wikipedia.org/wiki/2020_coronavirus...   4/10/20   \n",
       "..                                                 ...       ...   \n",
       "710  https://www.npr.org/2020/05/01/847413697/midwe...       NaN   \n",
       "711  https://www.npr.org/2020/05/01/847413697/midwe...       NaN   \n",
       "712  https://www.npr.org/2020/05/01/847416108/west-...       NaN   \n",
       "713  https://www.npr.org/2020/05/01/847416108/west-...       NaN   \n",
       "714  https://www.npr.org/2020/05/01/847416108/west-...       NaN   \n",
       "\n",
       "    population_size population_reference Coverage.county.FIPS  \\\n",
       "0           4903185                  1.0                  NaN   \n",
       "1           4903185                  1.0                  NaN   \n",
       "2           4903185                  1.0                  NaN   \n",
       "3           4903185                  1.0                  NaN   \n",
       "4           4903185                  1.0                  NaN   \n",
       "..              ...                  ...                  ...   \n",
       "710             NaN                  NaN                  NaN   \n",
       "711             NaN                  NaN                  NaN   \n",
       "712             NaN                  NaN                  NaN   \n",
       "713             NaN                  NaN                  NaN   \n",
       "714             NaN                  NaN                  NaN   \n",
       "\n",
       "    Coverage.city.FIPS                             population_reference.1  \\\n",
       "0                  NaN  https://www.census.gov/data/datasets/time-seri...   \n",
       "1                  NaN  https://www.census.gov/data/datasets/time-seri...   \n",
       "2                  NaN  https://www.census.gov/data/datasets/time-seri...   \n",
       "3                  NaN  https://www.census.gov/data/datasets/time-seri...   \n",
       "4                  NaN  https://www.census.gov/data/datasets/time-seri...   \n",
       "..                 ...                                                ...   \n",
       "710                NaN                                                NaN   \n",
       "711                NaN                                                NaN   \n",
       "712                NaN                                                NaN   \n",
       "713                NaN                                                NaN   \n",
       "714                NaN                                                NaN   \n",
       "\n",
       "       Coverage Face Covering Requirements  \\\n",
       "0           NaN                        NaN   \n",
       "1           NaN                        NaN   \n",
       "2           NaN                        NaN   \n",
       "3           NaN                        NaN   \n",
       "4           NaN                        NaN   \n",
       "..          ...                        ...   \n",
       "710  State-wide                        NaN   \n",
       "711  State-wide                        NaN   \n",
       "712  State-wide                        NaN   \n",
       "713  State-wide                        NaN   \n",
       "714  State-wide                        NaN   \n",
       "\n",
       "                                     Details (if any)   \n",
       "0                                                  NaN  \n",
       "1                                                  NaN  \n",
       "2                                                  NaN  \n",
       "3                                                  NaN  \n",
       "4                                                  NaN  \n",
       "..                                                 ...  \n",
       "710  “An April 27 executive order further eases res...  \n",
       "711  \"The state Supreme Court struck down Gov. Tony...  \n",
       "712  \"Public health orders effective May 1 allow gy...  \n",
       "713  \"Beginning May 8, out-of-state travelers are n...  \n",
       "714  \"A modified public health order effective May ...  \n",
       "\n",
       "[715 rows x 24 columns]"
      ]
     },
     "execution_count": 4,
     "metadata": {},
     "output_type": "execute_result"
    }
   ],
   "source": [
    "df"
   ]
  },
  {
   "cell_type": "code",
   "execution_count": null,
   "metadata": {},
   "outputs": [],
   "source": []
  }
 ],
 "metadata": {
  "history": [
   {
    "time": "2020-07-04T09:01:34.231Z",
    "type": "kernelReady"
   },
   {
    "time": "2020-07-04T09:01:39.993Z",
    "type": "kernelReady"
   },
   {
    "code": "cd ..",
    "id": "39951ec7d67d4d6f903b73a1f519b782",
    "order_count": 0,
    "time": "2020-07-04T09:02:00.880Z",
    "type": "executeCodeCell"
   },
   {
    "id": "39951ec7d67d4d6f903b73a1f519b782",
    "isPrintDataFrame": false,
    "time": "2020-07-04T09:02:00.913Z",
    "type": "completeCodeCell"
   },
   {
    "code": "%pylab inline",
    "id": "82b9797bdf6949ddaf846e1fd51402cf",
    "order_count": 1,
    "time": "2020-07-04T09:02:01.082Z",
    "type": "executeCodeCell"
   },
   {
    "id": "82b9797bdf6949ddaf846e1fd51402cf",
    "isPrintDataFrame": false,
    "time": "2020-07-04T09:02:01.518Z",
    "type": "completeCodeCell"
   },
   {
    "code": "### Changing to Step Function",
    "id": "0a74fab52e4b4ce181eed9207fde6fcf",
    "order_count": null,
    "time": "2020-07-04T09:02:02.300Z",
    "type": "deleteMarkdownCell"
   },
   {
    "code": "import pandas as pd\ndf_all = pd.read_csv(\"interventionFootprintByState.csv\",index_col=0)",
    "id": "ca949c4ab8ce4c6e871959b8808c7831",
    "order_count": null,
    "time": "2020-07-04T09:02:02.468Z",
    "type": "deleteCodeCell"
   },
   {
    "code": "tseries = df_all.pivot(index=\"State\",columns='dateBefore',values=\"interventionFootprint\")\ntseries[tseries.columns.min()] = tseries[tseries.columns.min()].fillna(0)\ntseries[tseries.columns.max()] = tseries[tseries.columns.max()].fillna(tseries.max(axis=1))",
    "id": "f91d6fcb82f149078b25a8308169a54f",
    "order_count": null,
    "time": "2020-07-04T09:02:02.636Z",
    "type": "deleteCodeCell"
   },
   {
    "code": "tseries.head()",
    "id": "1a67dc36b5cb449ca78983cf4d9334aa",
    "order_count": null,
    "time": "2020-07-04T09:02:02.807Z",
    "type": "deleteCodeCell"
   },
   {
    "code": "tseries.columns.astype(pd.DatetimeIndex)",
    "id": "6f9e0b916ed1462b99f5515afea77f9d",
    "order_count": null,
    "time": "2020-07-04T09:02:02.974Z",
    "type": "deleteCodeCell"
   },
   {
    "code": "tseries.columns = pd.DatetimeIndex(tseries.columns)",
    "id": "769f9f2031b34afb85965fbd7de58b8c",
    "order_count": null,
    "time": "2020-07-04T09:02:03.142Z",
    "type": "deleteCodeCell"
   },
   {
    "code": "# tseries.interpolate?",
    "id": "d883f6091998486b85bb4e99759c5d0d",
    "order_count": null,
    "time": "2020-07-04T09:02:03.310Z",
    "type": "deleteCodeCell"
   },
   {
    "code": "tseries = tseries.interpolate('zero',axis=1)",
    "id": "8a486041c15842c28e3a72ffad4b5eff",
    "order_count": null,
    "time": "2020-07-04T09:02:03.479Z",
    "type": "deleteCodeCell"
   },
   {
    "code": "tseries.head()",
    "id": "3a151e79cdfc476cafd2028cf3ffaef7",
    "order_count": null,
    "time": "2020-07-04T09:02:03.647Z",
    "type": "deleteCodeCell"
   },
   {
    "code": "tseries4plot = tseries.transpose().melt()\nseries = []\nfor state in tseries4plot.State.unique():\n    series.extend(range(40))\nindex = pd.Series(series)\ntseries4plot[\"index\"]=index",
    "id": "853c5fbda22c4c668991e893f052447c",
    "order_count": null,
    "time": "2020-07-04T09:02:03.812Z",
    "type": "deleteCodeCell"
   },
   {
    "code": "tseries4plot",
    "id": "dd387505d4f14da98d2383d646e67f77",
    "order_count": null,
    "time": "2020-07-04T09:02:03.980Z",
    "type": "deleteCodeCell"
   },
   {
    "code": "import altair as alt",
    "id": "f0417cb9e187484789d3f5c8cf88edc1",
    "order_count": null,
    "time": "2020-07-04T09:02:04.148Z",
    "type": "deleteCodeCell"
   },
   {
    "code": "chart = alt.Chart(tseries4plot).mark_line().encode(\n        x = alt.X(\"index\"),\n        y = alt.Y(\"value\", scale=alt.Scale(0,1)),\n        facet=alt.Facet('State:O', columns=4),\n    )\nchart.properties(width=150,height=100,title=\"Step-Function Curve\").interactive()",
    "id": "3a3c02c399454042b58670aca0687d9c",
    "order_count": null,
    "time": "2020-07-04T09:02:04.315Z",
    "type": "deleteCodeCell"
   },
   {
    "code": "from sklearn.cluster import AgglomerativeClustering\n\nnum_clusters = 4\nclustering = AgglomerativeClustering(n_clusters=num_clusters)\nclustering.fit(tseries.values)\nlabels = pd.Series(clustering.labels_,name=\"Cluster\")\nlabels.value_counts()",
    "id": "bd08fe4ea6c64fa584ac135f913b0bd3",
    "order_count": null,
    "time": "2020-07-04T09:02:04.481Z",
    "type": "deleteCodeCell"
   },
   {
    "code": "y_predict = clustering.fit_predict(tseries.values)",
    "id": "3cc30298a19843a9be246948c451d62c",
    "order_count": null,
    "time": "2020-07-04T09:02:06.981Z",
    "type": "deleteCodeCell"
   },
   {
    "code": "from sklearn.neighbors.nearest_centroid import NearestCentroid\nclf = NearestCentroid()\nclf.fit(tseries.values, y_predict)\n# print(clf.centroids_)",
    "id": "53ffec85258b4dc69aadc0afc15dc3dc",
    "order_count": null,
    "time": "2020-07-04T09:02:07.149Z",
    "type": "deleteCodeCell"
   },
   {
    "code": "clustResult = pd.DataFrame(tseries.index)\nclustResult[\"cluster\"] = labels\n\ntseries4plot_clust = tseries4plot.merge(clustResult)",
    "id": "6efef038bd644480b3bd2f64172ffb52",
    "order_count": null,
    "time": "2020-07-04T09:02:07.313Z",
    "type": "deleteCodeCell"
   },
   {
    "code": "for idx,centroid in enumerate(clf.centroids_):\n#     plt.figure()\n    plt.plot(centroid,label=idx)\n    plt.legend()",
    "id": "6c51ff3582d045b782d8cfd0326c487b",
    "order_count": null,
    "time": "2020-07-04T09:02:07.481Z",
    "type": "deleteCodeCell"
   },
   {
    "code": "# mapOriginal2InferredCentroid = {0:1,1:0,2:2,3:3}\nmapOriginal2InferredCentroid = {0:0,1:1,2:2,3:3}",
    "id": "31704a1a257442a38911c6170f203c5d",
    "order_count": null,
    "time": "2020-07-04T09:02:07.650Z",
    "type": "deleteCodeCell"
   },
   {
    "code": "for idx,centroid in enumerate(clf.centroids_):\n    origClust= mapOriginal2InferredCentroid[idx]\n    stateLst = list(clustResult[clustResult[\"cluster\"]==idx].State)\n    print (f\"Cluster {idx}:{stateLst}\")",
    "id": "b33bf13384844b6d8f6dbfeb7322a2a1",
    "order_count": null,
    "time": "2020-07-04T09:02:07.816Z",
    "type": "deleteCodeCell"
   },
   {
    "code": "fig, axs = plt.subplots(2, 2,figsize=(10,5))\nfor idx,centroid in enumerate(clf.centroids_):\n    ax = axs.flat[idx]\n    origClust= mapOriginal2InferredCentroid[idx]\n    stateLst = list(clustResult[clustResult[\"cluster\"]==origClust].State)\n    ax.plot(centroid,linewidth=3,linestyle='--')\n    for state in stateLst:\n        state_df = tseries4plot_clust[tseries4plot_clust[\"State\"]==state]\n        ax.plot(state_df[\"index\"],state_df[\"value\"],color=\"blue\",alpha=0.1)\n    ax.set_title(f\"Cluster {origClust}\")\n    ax.set_ylim(0,1)\n    ax.set_ylabel(\"Intervention Footprint\")\n    ax.set_xlabel(\"Time Index\")\n#     plt.title(stateLst)\nplt.tight_layout()\n# plt.ylabel(\"Intervention Footprint\")",
    "id": "ac59d1b3baa44afc81824246e73d2cfa",
    "order_count": null,
    "time": "2020-07-04T09:02:07.981Z",
    "type": "deleteCodeCell"
   },
   {
    "code": "for idx,centroid in enumerate(clf.centroids_):\n    origClust= mapOriginal2InferredCentroid[idx]\n    stateLst = list(clustResult[clustResult[\"cluster\"]==origClust].State)\n    plt.figure()\n    plt.plot(centroid,linewidth=3,linestyle='--')\n    for state in stateLst:\n        state_df = tseries4plot_clust[tseries4plot_clust[\"State\"]==state]\n        plt.plot(state_df[\"index\"],state_df[\"value\"],color=\"blue\",alpha=0.1)\n    plt.title(f\"Cluster {origClust}\")\n#     plt.title(stateLst)",
    "id": "8f695d3952e446968d890b8a9a69da9e",
    "order_count": null,
    "time": "2020-07-04T09:02:08.147Z",
    "type": "deleteCodeCell"
   },
   {
    "code": "clustResult = pd.DataFrame(tseries.index)\nclustResult[\"cluster\"] = labels\n\ntseries4plot_clust = tseries4plot.merge(clustResult)",
    "id": "a20e76fba5ae4a359626e8bbf3124de0",
    "order_count": null,
    "time": "2020-07-04T09:02:08.316Z",
    "type": "deleteCodeCell"
   },
   {
    "code": "chart = alt.Chart(tseries4plot_clust).mark_line().encode(\n        x = alt.X(\"index\"),\n        y = alt.Y(\"value\", scale=alt.Scale(0,1)),\n        facet=alt.Facet('State:O', columns=5),\n        color=alt.Color(\"cluster\",type=\"nominal\")\n    )\nchart.properties(width=150,height=100,title=\"Step-Function Curve\").interactive()",
    "id": "50c87cf4c5524e5287c28c40204ee4cc",
    "order_count": null,
    "time": "2020-07-04T09:02:08.481Z",
    "type": "deleteCodeCell"
   },
   {
    "code": "",
    "id": "82b0f3556233420786d94a245ed1df0d",
    "order_count": null,
    "time": "2020-07-04T09:02:08.649Z",
    "type": "deleteCodeCell"
   },
   {
    "code": "",
    "id": "5592f1305d7d4fa687450429abd0c665",
    "order_count": 2,
    "time": "2020-07-04T09:02:17.364Z",
    "type": "editCodeCell"
   },
   {
    "code": "severityScore = {'e':0.1,'g':0.3, 'c':0.3, 's':0.4,'r':0.6 , 't':0.6, 'n':0.8, 'l':1, 'f':0.5,\n                 'a':-0.1, 'd':-0.6, 'k':-0.3, 'h':-1, 'n':-0.8, 'p':-0.5, 'q':-0.6, 'o':-0.8, 'j':-0.3}\n\n\nimport pandas as pd\nimport numpy as np\nfrom utils import create_lockdown_type, split_into_list, str2emo\ndf = pd.read_csv(\"../data/combined-activity-US-Jun9.csv\")",
    "id": "5592f1305d7d4fa687450429abd0c665",
    "order_count": 2,
    "time": "2020-07-04T09:02:19.704Z",
    "type": "executeCodeCell"
   },
   {
    "code": "",
    "id": "47dfb9ebf6bf48ed9ff310ff517e605a",
    "order_count": 3,
    "time": "2020-07-04T09:02:19.736Z",
    "type": "editCodeCell"
   },
   {
    "id": "5592f1305d7d4fa687450429abd0c665",
    "isPrintDataFrame": false,
    "time": "2020-07-04T09:02:20.143Z",
    "type": "completeCodeCell"
   },
   {
    "code": "cd ..",
    "id": "39951ec7d67d4d6f903b73a1f519b782",
    "order_count": 0,
    "time": "2020-07-04T09:02:24.119Z",
    "type": "editCodeCell"
   },
   {
    "time": "2020-07-04T09:02:27.945Z",
    "type": "kernelRestart"
   },
   {
    "time": "2020-07-04T09:02:28.742Z",
    "type": "kernelReady"
   },
   {
    "code": "cd ..",
    "id": "39951ec7d67d4d6f903b73a1f519b782",
    "order_count": 0,
    "time": "2020-07-04T09:02:28.946Z",
    "type": "executeCodeCell"
   },
   {
    "id": "39951ec7d67d4d6f903b73a1f519b782",
    "isPrintDataFrame": false,
    "time": "2020-07-04T09:02:28.962Z",
    "type": "completeCodeCell"
   },
   {
    "time": "2020-07-04T09:02:31.361Z",
    "type": "kernelRestart"
   },
   {
    "time": "2020-07-04T09:02:31.998Z",
    "type": "kernelReady"
   },
   {
    "code": "cd ..",
    "id": "39951ec7d67d4d6f903b73a1f519b782",
    "order_count": 0,
    "time": "2020-07-04T09:02:32.138Z",
    "type": "editCodeCell"
   },
   {
    "code": "cd ../chartlib/",
    "id": "39951ec7d67d4d6f903b73a1f519b782",
    "order_count": 0,
    "time": "2020-07-04T09:02:38.900Z",
    "type": "executeCodeCell"
   },
   {
    "id": "39951ec7d67d4d6f903b73a1f519b782",
    "isPrintDataFrame": false,
    "time": "2020-07-04T09:02:38.921Z",
    "type": "completeCodeCell"
   },
   {
    "code": "%pylab inline",
    "id": "82b9797bdf6949ddaf846e1fd51402cf",
    "order_count": 1,
    "time": "2020-07-04T09:02:39.216Z",
    "type": "executeCodeCell"
   },
   {
    "id": "82b9797bdf6949ddaf846e1fd51402cf",
    "isPrintDataFrame": false,
    "time": "2020-07-04T09:02:39.507Z",
    "type": "completeCodeCell"
   },
   {
    "code": "severityScore = {'e':0.1,'g':0.3, 'c':0.3, 's':0.4,'r':0.6 , 't':0.6, 'n':0.8, 'l':1, 'f':0.5,\n                 'a':-0.1, 'd':-0.6, 'k':-0.3, 'h':-1, 'n':-0.8, 'p':-0.5, 'q':-0.6, 'o':-0.8, 'j':-0.3}\n\n\nimport pandas as pd\nimport numpy as np\nfrom utils import create_lockdown_type, split_into_list, str2emo\ndf = pd.read_csv(\"../data/combined-activity-US-Jun9.csv\")",
    "id": "5592f1305d7d4fa687450429abd0c665",
    "order_count": 2,
    "time": "2020-07-04T09:02:39.538Z",
    "type": "executeCodeCell"
   },
   {
    "id": "5592f1305d7d4fa687450429abd0c665",
    "isPrintDataFrame": false,
    "time": "2020-07-04T09:02:39.706Z",
    "type": "completeCodeCell"
   },
   {
    "code": "",
    "id": "47dfb9ebf6bf48ed9ff310ff517e605a",
    "order_count": 3,
    "time": "2020-07-04T09:02:40.682Z",
    "type": "editCodeCell"
   },
   {
    "code": "df",
    "id": "47dfb9ebf6bf48ed9ff310ff517e605a",
    "order_count": 3,
    "time": "2020-07-04T09:02:41.697Z",
    "type": "executeCodeCell"
   },
   {
    "code": "",
    "id": "7571f5ef1df2457f855b8116cafc1e0b",
    "order_count": 4,
    "time": "2020-07-04T09:02:41.726Z",
    "type": "editCodeCell"
   },
   {
    "id": "47dfb9ebf6bf48ed9ff310ff517e605a",
    "isPrintDataFrame": true,
    "time": "2020-07-04T09:02:41.744Z",
    "type": "completeCodeCell"
   },
   {
    "code": "",
    "id": "7571f5ef1df2457f855b8116cafc1e0b",
    "order_count": 4,
    "time": "2020-07-04T09:03:31.141Z",
    "type": "editCodeCell"
   },
   {
    "code": "df",
    "id": "47dfb9ebf6bf48ed9ff310ff517e605a",
    "order_count": 3,
    "time": "2020-07-04T09:03:33.454Z",
    "type": "editCodeCell"
   },
   {
    "code": "df",
    "id": "47dfb9ebf6bf48ed9ff310ff517e605a",
    "order_count": 3,
    "time": "2020-07-04T09:03:49.120Z",
    "type": "editCodeCell"
   },
   {
    "code": "df",
    "id": "47dfb9ebf6bf48ed9ff310ff517e605a",
    "order_count": 3,
    "time": "2020-07-04T09:05:28.699Z",
    "type": "editCodeCell"
   },
   {
    "code": "df",
    "id": "47dfb9ebf6bf48ed9ff310ff517e605a",
    "order_count": 3,
    "time": "2020-07-04T09:15:03.861Z",
    "type": "editCodeCell"
   },
   {
    "code": "severityScore = {'e':0.1,'g':0.3, 'c':0.3, 's':0.4,'r':0.6 , 't':0.6, 'n':0.8, 'l':1, 'f':0.5,\n                 'a':-0.1, 'd':-0.6, 'k':-0.3, 'h':-1, 'n':-0.8, 'p':-0.5, 'q':-0.6, 'o':-0.8, 'j':-0.3}\n\n\nimport pandas as pd\nimport numpy as np\nfrom utils import create_lockdown_type, split_into_list, str2emo\ndf = pd.read_csv(\"../data/combined-activity-US-Jun9.csv\")",
    "id": "5592f1305d7d4fa687450429abd0c665",
    "order_count": 2,
    "time": "2020-07-04T09:15:12.259Z",
    "type": "editCodeCell"
   },
   {
    "code": "severityScore = {'e':0.1,'g':0.3, 'c':0.3, 's':0.4,'r':0.6 , 't':0.6, 'n':0.8, 'l':1, 'f':0.5,\n                 'a':-0.1, 'd':-0.6, 'k':-0.3, 'h':-1, 'n':-0.8, 'p':-0.5, 'q':-0.6, 'o':-0.8, 'j':-0.3}\n\n\nimport pandas as pd\nimport numpy as np\nfrom utils import create_lockdown_type, split_into_list, str2emo\ndf = pd.read_csv(\"../data/combined-activity-US-Jun9-with-partial-pop-b4-Apr16.csv\")",
    "id": "5592f1305d7d4fa687450429abd0c665",
    "order_count": 2,
    "time": "2020-07-04T09:15:20.524Z",
    "type": "executeCodeCell"
   },
   {
    "id": "5592f1305d7d4fa687450429abd0c665",
    "isPrintDataFrame": false,
    "time": "2020-07-04T09:15:20.553Z",
    "type": "completeCodeCell"
   },
   {
    "code": "df",
    "id": "47dfb9ebf6bf48ed9ff310ff517e605a",
    "order_count": 3,
    "time": "2020-07-04T09:15:21.015Z",
    "type": "executeCodeCell"
   },
   {
    "id": "47dfb9ebf6bf48ed9ff310ff517e605a",
    "isPrintDataFrame": true,
    "time": "2020-07-04T09:15:21.076Z",
    "type": "completeCodeCell"
   },
   {
    "code": "severityScore = {'e':0.1,'g':0.3, 'c':0.3, 's':0.4,'r':0.6 , 't':0.6, 'n':0.8, 'l':1, 'f':0.5,\n                 'a':-0.1, 'd':-0.6, 'k':-0.3, 'h':-1, 'n':-0.8, 'p':-0.5, 'q':-0.6, 'o':-0.8, 'j':-0.3}\n\n\nimport pandas as pd\nimport numpy as np\nfrom utils import create_lockdown_type, split_into_list, str2emo\ndf = pd.read_csv(\"../data/combined-activity-US-Jun9-with-partial-pop-b4-Apr16.csv\")",
    "id": "5592f1305d7d4fa687450429abd0c665",
    "order_count": 2,
    "time": "2020-07-04T09:15:25.505Z",
    "type": "editCodeCell"
   },
   {
    "code": "severityScore = {'e':0.1,'g':0.3, 'c':0.3, 's':0.4,'r':0.6 , 't':0.6, 'n':0.8, 'l':1, 'f':0.5,\n                 'a':-0.1, 'd':-0.6, 'k':-0.3, 'h':-1, 'n':-0.8, 'p':-0.5, 'q':-0.6, 'o':-0.8, 'j':-0.3}\n\n\nimport pandas as pd\nimport numpy as np\nfrom utils import create_lockdown_type, split_into_list, str2emo\ndf = pd.read_csv(\"../data/combined-activity-US-Jun9-with-partial-pop-b4-Apr16.csv\",index=None)",
    "id": "5592f1305d7d4fa687450429abd0c665",
    "order_count": 2,
    "time": "2020-07-04T09:15:34.185Z",
    "type": "executeCodeCell"
   },
   {
    "id": "5592f1305d7d4fa687450429abd0c665",
    "isPrintDataFrame": false,
    "time": "2020-07-04T09:15:34.301Z",
    "type": "completeCodeCell"
   },
   {
    "code": "severityScore = {'e':0.1,'g':0.3, 'c':0.3, 's':0.4,'r':0.6 , 't':0.6, 'n':0.8, 'l':1, 'f':0.5,\n                 'a':-0.1, 'd':-0.6, 'k':-0.3, 'h':-1, 'n':-0.8, 'p':-0.5, 'q':-0.6, 'o':-0.8, 'j':-0.3}\n\n\nimport pandas as pd\nimport numpy as np\nfrom utils import create_lockdown_type, split_into_list, str2emo\ndf = pd.read_csv(\"../data/combined-activity-US-Jun9-with-partial-pop-b4-Apr16.csv\",index=None)",
    "id": "5592f1305d7d4fa687450429abd0c665",
    "order_count": 2,
    "time": "2020-07-04T09:15:35.692Z",
    "type": "editCodeCell"
   },
   {
    "code": "severityScore = {'e':0.1,'g':0.3, 'c':0.3, 's':0.4,'r':0.6 , 't':0.6, 'n':0.8, 'l':1, 'f':0.5,\n                 'a':-0.1, 'd':-0.6, 'k':-0.3, 'h':-1, 'n':-0.8, 'p':-0.5, 'q':-0.6, 'o':-0.8, 'j':-0.3}\n\n\nimport pandas as pd\nimport numpy as np\nfrom utils import create_lockdown_type, split_into_list, str2emo\ndf = pd.read_csv(\"../data/combined-activity-US-Jun9-with-partial-pop-b4-Apr16.csv\")",
    "id": "5592f1305d7d4fa687450429abd0c665",
    "order_count": 2,
    "time": "2020-07-04T09:15:48.449Z",
    "type": "executeCodeCell"
   },
   {
    "id": "5592f1305d7d4fa687450429abd0c665",
    "isPrintDataFrame": false,
    "time": "2020-07-04T09:15:48.480Z",
    "type": "completeCodeCell"
   },
   {
    "code": "cd ../chartlib/",
    "id": "39951ec7d67d4d6f903b73a1f519b782",
    "order_count": 0,
    "time": "2020-07-04T09:15:50.439Z",
    "type": "executeCodeCell"
   },
   {
    "id": "39951ec7d67d4d6f903b73a1f519b782",
    "isPrintDataFrame": false,
    "time": "2020-07-04T09:15:50.455Z",
    "type": "completeCodeCell"
   },
   {
    "code": "%pylab inline",
    "id": "82b9797bdf6949ddaf846e1fd51402cf",
    "order_count": 1,
    "time": "2020-07-04T09:15:50.663Z",
    "type": "executeCodeCell"
   },
   {
    "id": "82b9797bdf6949ddaf846e1fd51402cf",
    "isPrintDataFrame": false,
    "time": "2020-07-04T09:15:50.687Z",
    "type": "completeCodeCell"
   },
   {
    "code": "severityScore = {'e':0.1,'g':0.3, 'c':0.3, 's':0.4,'r':0.6 , 't':0.6, 'n':0.8, 'l':1, 'f':0.5,\n                 'a':-0.1, 'd':-0.6, 'k':-0.3, 'h':-1, 'n':-0.8, 'p':-0.5, 'q':-0.6, 'o':-0.8, 'j':-0.3}\n\n\nimport pandas as pd\nimport numpy as np\nfrom utils import create_lockdown_type, split_into_list, str2emo\ndf = pd.read_csv(\"../data/combined-activity-US-Jun9-with-partial-pop-b4-Apr16.csv\")",
    "id": "5592f1305d7d4fa687450429abd0c665",
    "order_count": 2,
    "time": "2020-07-04T09:15:50.997Z",
    "type": "executeCodeCell"
   },
   {
    "id": "5592f1305d7d4fa687450429abd0c665",
    "isPrintDataFrame": false,
    "time": "2020-07-04T09:15:51.016Z",
    "type": "completeCodeCell"
   },
   {
    "time": "2020-07-04T09:15:54.126Z",
    "type": "kernelRestart"
   },
   {
    "time": "2020-07-04T09:15:54.261Z",
    "type": "kernelRestart"
   },
   {
    "code": "cd ../chartlib/",
    "id": "39951ec7d67d4d6f903b73a1f519b782",
    "order_count": 0,
    "time": "2020-07-04T09:15:54.828Z",
    "type": "executeCodeCell"
   },
   {
    "code": "%pylab inline",
    "id": "82b9797bdf6949ddaf846e1fd51402cf",
    "order_count": 1,
    "time": "2020-07-04T09:15:55.156Z",
    "type": "executeCodeCell"
   },
   {
    "code": "severityScore = {'e':0.1,'g':0.3, 'c':0.3, 's':0.4,'r':0.6 , 't':0.6, 'n':0.8, 'l':1, 'f':0.5,\n                 'a':-0.1, 'd':-0.6, 'k':-0.3, 'h':-1, 'n':-0.8, 'p':-0.5, 'q':-0.6, 'o':-0.8, 'j':-0.3}\n\n\nimport pandas as pd\nimport numpy as np\nfrom utils import create_lockdown_type, split_into_list, str2emo\ndf = pd.read_csv(\"../data/combined-activity-US-Jun9-with-partial-pop-b4-Apr16.csv\")",
    "id": "5592f1305d7d4fa687450429abd0c665",
    "order_count": 2,
    "time": "2020-07-04T09:15:55.612Z",
    "type": "executeCodeCell"
   },
   {
    "id": "39951ec7d67d4d6f903b73a1f519b782",
    "isPrintDataFrame": false,
    "time": "2020-07-04T09:15:55.920Z",
    "type": "completeCodeCell"
   },
   {
    "id": "82b9797bdf6949ddaf846e1fd51402cf",
    "isPrintDataFrame": false,
    "time": "2020-07-04T09:15:56.144Z",
    "type": "completeCodeCell"
   },
   {
    "time": "2020-07-04T09:15:56.151Z",
    "type": "kernelReady"
   },
   {
    "id": "5592f1305d7d4fa687450429abd0c665",
    "isPrintDataFrame": false,
    "time": "2020-07-04T09:15:56.317Z",
    "type": "completeCodeCell"
   },
   {
    "time": "2020-07-04T09:15:56.320Z",
    "type": "kernelReady"
   },
   {
    "time": "2020-07-04T09:15:56.323Z",
    "type": "kernelReady"
   },
   {
    "code": "df",
    "id": "47dfb9ebf6bf48ed9ff310ff517e605a",
    "order_count": 3,
    "time": "2020-07-04T09:15:56.832Z",
    "type": "executeCodeCell"
   },
   {
    "id": "47dfb9ebf6bf48ed9ff310ff517e605a",
    "isPrintDataFrame": true,
    "time": "2020-07-04T09:15:56.885Z",
    "type": "completeCodeCell"
   },
   {
    "code": "severityScore = {'e':0.1,'g':0.3, 'c':0.3, 's':0.4,'r':0.6 , 't':0.6, 'n':0.8, 'l':1, 'f':0.5,\n                 'a':-0.1, 'd':-0.6, 'k':-0.3, 'h':-1, 'n':-0.8, 'p':-0.5, 'q':-0.6, 'o':-0.8, 'j':-0.3}\n\n\nimport pandas as pd\nimport numpy as np\nfrom utils import create_lockdown_type, split_into_list, str2emo\ndf = pd.read_csv(\"../data/combined-activity-US-Jun9-with-partial-pop-b4-Apr16.csv\")",
    "id": "5592f1305d7d4fa687450429abd0c665",
    "order_count": 2,
    "time": "2020-07-04T09:15:59.696Z",
    "type": "editCodeCell"
   },
   {
    "code": "df",
    "id": "47dfb9ebf6bf48ed9ff310ff517e605a",
    "order_count": 3,
    "time": "2020-07-04T09:16:07.056Z",
    "type": "editCodeCell"
   },
   {
    "time": "2020-07-04T09:30:11.180Z",
    "type": "kernelReady"
   },
   {
    "time": "2020-07-04T09:52:01.345Z",
    "type": "kernelReady"
   },
   {
    "time": "2020-07-04T10:16:15.905Z",
    "type": "kernelReady"
   },
   {
    "time": "2020-07-04T11:24:49.073Z",
    "type": "kernelReady"
   },
   {
    "time": "2020-07-04T11:25:08.770Z",
    "type": "kernelReady"
   },
   {
    "time": "2020-07-04T14:44:10.586Z",
    "type": "kernelReady"
   },
   {
    "time": "2020-07-04T20:08:32.102Z",
    "type": "kernelReady"
   },
   {
    "time": "2020-07-05T00:32:35.337Z",
    "type": "kernelReady"
   },
   {
    "time": "2020-07-05T00:36:32.883Z",
    "type": "kernelReady"
   },
   {
    "time": "2020-07-05T01:51:24.452Z",
    "type": "kernelReady"
   },
   {
    "time": "2020-07-05T01:57:34.884Z",
    "type": "kernelReady"
   },
   {
    "time": "2020-07-05T04:41:16.442Z",
    "type": "kernelReady"
   },
   {
    "time": "2020-07-05T06:02:45.969Z",
    "type": "kernelReady"
   },
   {
    "time": "2020-07-05T06:30:14.837Z",
    "type": "kernelReady"
   },
   {
    "time": "2020-07-05T07:00:53.390Z",
    "type": "kernelReady"
   },
   {
    "code": "severityScore = {'e':0.1,'g':0.3, 'c':0.3, 's':0.4,'r':0.6 , 't':0.6, 'n':0.8, 'l':1, 'f':0.5,\n                 'a':-0.1, 'd':-0.6, 'k':-0.3, 'h':-1, 'n':-0.8, 'p':-0.5, 'q':-0.6, 'o':-0.8, 'j':-0.3}\n\n\nimport pandas as pd\nimport numpy as np\nfrom utils import create_lockdown_type, split_into_list, str2emo\ndf = pd.read_csv(\"../data/combined-activity-US-Jun9-with-partial-pop-b4-Apr16.csv\")",
    "id": "5592f1305d7d4fa687450429abd0c665",
    "order_count": 2,
    "time": "2020-07-05T08:06:13.265Z",
    "type": "editCodeCell"
   },
   {
    "code": "severityScore = {'e':0.1,'g':0.3, 'c':0.3, 's':0.4,'r':0.6 , 't':0.6, 'n':0.8, 'l':1, 'f':0.5,\n                 'a':-0.1, 'd':-0.6, 'k':-0.3, 'h':-1, 'n':-0.8, 'p':-0.5, 'q':-0.6, 'o':-0.8, 'j':-0.3}\n\n\nimport pandas as pd\nimport numpy as np\nfrom utils import create_lockdown_type, split_into_list, str2emo\ndf = pd.read_csv(\"../data/combined-activity-US-Jun9-with-partial-pop-b4-Apr16.csv\")",
    "id": "5592f1305d7d4fa687450429abd0c665",
    "order_count": 2,
    "time": "2020-07-05T08:06:43.000Z",
    "type": "editCodeCell"
   },
   {
    "code": "severityScore = {'e':0.1,'g':0.3, 'c':0.3, 's':0.4,'r':0.6 , 't':0.6, 'n':0.8, 'l':1, 'f':0.5,\n                 'a':-0.1, 'd':-0.6, 'k':-0.3, 'h':-1, 'n':-0.8, 'p':-0.5, 'q':-0.6, 'o':-0.8, 'j':-0.3}\n\n\nimport pandas as pd\nimport numpy as np\nfrom utils import create_lockdown_type, split_into_list, str2emo\ndf = pd.read_csv(\"../data/combined-activity-US-Jun9-with-partial-pop-b4-Apr16.csv\")",
    "id": "5592f1305d7d4fa687450429abd0c665",
    "order_count": 2,
    "time": "2020-07-05T08:06:48.646Z",
    "type": "editCodeCell"
   },
   {
    "code": "severityScore = {'e':0.1,'g':0.3, 'c':0.3, 's':0.4,'r':0.6 , 't':0.6, 'n':0.8, 'l':1, 'f':0.5,\n                 'a':-0.1, 'd':-0.6, 'k':-0.3, 'h':-1, 'n':-0.8, 'p':-0.5, 'q':-0.6, 'o':-0.8, 'j':-0.3}\n\n\nimport pandas as pd\nimport numpy as np\nfrom utils import create_lockdown_type, split_into_list, str2emo\ndf = pd.read_csv(\"../data/combined-activity-US-Jun9-with-partial-pop-b4-Apr16.csv\")",
    "id": "5592f1305d7d4fa687450429abd0c665",
    "order_count": 2,
    "time": "2020-07-05T08:07:02.562Z",
    "type": "editCodeCell"
   },
   {
    "code": "severityScore = {'e':0.1,'g':0.3, 'c':0.3, 's':0.4,'r':0.6 , 't':0.6, 'n':0.8, 'l':1, 'f':0.5,\n                 'a':-0.1, 'd':-0.6, 'k':-0.3, 'h':-1, 'n':-0.8, 'p':-0.5, 'q':-0.6, 'o':-0.8, 'j':-0.3}\n\n\nimport pandas as pd\nimport numpy as np\nfrom utils import create_lockdown_type, split_into_list, str2emo\ndf = pd.read_csv(\"../data/combined-activity-US-Jun9-with-partial-pop-b4-Apr16.csv\")",
    "id": "5592f1305d7d4fa687450429abd0c665",
    "order_count": 2,
    "time": "2020-07-05T08:09:35.309Z",
    "type": "editCodeCell"
   },
   {
    "code": "severityScore = {'e':0.1,'g':0.3, 'c':0.3, 's':0.4,'r':0.6 , 't':0.6, 'n':0.8, 'l':1, 'f':0.5,\n                 'a':-0.1, 'd':-0.6, 'k':-0.3, 'h':-1, 'n':-0.8, 'p':-0.5, 'q':-0.6, 'o':-0.8, 'j':-0.3}\n\n\nimport pandas as pd\nimport numpy as np\nfrom utils import create_lockdown_type, split_into_list, str2emo\ndf = pd.read_csv(\"../data/combined-activity-US-Jun9-with-partial-pop-b4-Apr16.csv\")",
    "id": "5592f1305d7d4fa687450429abd0c665",
    "order_count": 2,
    "time": "2020-07-05T08:09:40.795Z",
    "type": "editCodeCell"
   },
   {
    "code": "severityScore = {'e':0.1,'g':0.3, 'c':0.3, 's':0.4,'r':0.6 , 't':0.6, 'n':0.8, 'l':1, 'f':0.5,\n                 'a':-0.1, 'd':-0.6, 'k':-0.3, 'h':-1, 'n':-0.8, 'p':-0.5, 'q':-0.6, 'o':-0.8, 'j':-0.3}\n\n\nimport pandas as pd\nimport numpy as np\nfrom utils import create_lockdown_type, split_into_list, str2emo\ndf = pd.read_csv(\"../data/combined-activity-US-Jun9-with-partial-pop-b4-Apr16.csv\")",
    "id": "5592f1305d7d4fa687450429abd0c665",
    "order_count": 2,
    "time": "2020-07-05T08:09:45.681Z",
    "type": "editCodeCell"
   },
   {
    "code": "severityScore = {'e':0.1,'g':0.3, 'c':0.3, 's':0.4,'r':0.6 , 't':0.6, 'n':0.8, 'l':1, 'f':0.5,\n                 'a':-0.1, 'd':-0.6, 'k':-0.3, 'h':-1, 'n':-0.8, 'p':-0.5, 'q':-0.6, 'o':-0.8, 'j':-0.3}\n\n\nimport pandas as pd\nimport numpy as np\nfrom utils import create_lockdown_type, split_into_list, str2emo\ndf = pd.read_csv(\"../data/combined-activity-US-Jun9-with-partial-pop-b4-Apr16.csv\")",
    "id": "5592f1305d7d4fa687450429abd0c665",
    "order_count": 2,
    "time": "2020-07-05T08:10:10.022Z",
    "type": "editCodeCell"
   },
   {
    "code": "severityScore = {'e':0.1,'g':0.3, 'c':0.3, 's':0.4,'r':0.6 , 't':0.6, 'n':0.8, 'l':1, 'f':0.5,\n                 'a':-0.1, 'd':-0.6, 'k':-0.3, 'h':-1, 'n':-0.8, 'p':-0.5, 'q':-0.6, 'o':-0.8, 'j':-0.3}\n\n\nimport pandas as pd\nimport numpy as np\nfrom utils import create_lockdown_type, split_into_list, str2emo\ndf = pd.read_csv(\"../data/combined-activity-US-Jun9-with-partial-pop-b4-Apr16.csv\")",
    "id": "5592f1305d7d4fa687450429abd0c665",
    "order_count": 2,
    "time": "2020-07-05T08:10:39.417Z",
    "type": "editCodeCell"
   },
   {
    "time": "2020-07-05T08:57:56.592Z",
    "type": "kernelReady"
   },
   {
    "time": "2020-07-05T08:58:59.917Z",
    "type": "kernelReady"
   },
   {
    "code": "%pylab inline",
    "id": "bf5bd737ebd1480c8c5f9077210a61aa",
    "order_count": 1,
    "time": "2020-07-05T08:59:16.942Z",
    "type": "editCodeCell"
   },
   {
    "time": "2020-07-05T08:59:18.415Z",
    "type": "pageClose"
   },
   {
    "time": "2020-07-05T08:59:18.944Z",
    "type": "kernelReady"
   }
  ],
  "kernelspec": {
   "display_name": "Python 3",
   "language": "python",
   "name": "python3"
  },
  "language_info": {
   "codemirror_mode": {
    "name": "ipython",
    "version": 3
   },
   "file_extension": ".py",
   "mimetype": "text/x-python",
   "name": "python",
   "nbconvert_exporter": "python",
   "pygments_lexer": "ipython3",
   "version": "3.7.7"
  }
 },
 "nbformat": 4,
 "nbformat_minor": 2
}
