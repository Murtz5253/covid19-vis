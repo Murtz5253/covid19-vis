{
 "cells": [
  {
   "cell_type": "code",
   "execution_count": 1,
   "metadata": {},
   "outputs": [
    {
     "name": "stdout",
     "output_type": "stream",
     "text": [
      "/Users/dorislee/Desktop/Research/covid/covid19-vis\n"
     ]
    }
   ],
   "source": [
    "cd .."
   ]
  },
  {
   "cell_type": "code",
   "execution_count": 2,
   "metadata": {},
   "outputs": [],
   "source": [
    "import pandas as pd"
   ]
  },
  {
   "cell_type": "code",
   "execution_count": 3,
   "metadata": {},
   "outputs": [],
   "source": [
    "df = pd.read_csv(\"data/quarantine-activity-US-Apr16-long.csv\")"
   ]
  },
  {
   "cell_type": "code",
   "execution_count": 4,
   "metadata": {},
   "outputs": [],
   "source": [
    "import numpy as np"
   ]
  },
  {
   "cell_type": "code",
   "execution_count": 5,
   "metadata": {},
   "outputs": [],
   "source": [
    "from chartlib.utils import create_lockdown_type, split_into_list, str2emo"
   ]
  },
  {
   "cell_type": "code",
   "execution_count": 6,
   "metadata": {},
   "outputs": [],
   "source": [
    "# START modified from _ingest_usa_quarantine_df\n",
    "quarantine_csv = \"data/quarantine-activity-US-Apr16-long.csv\"\n",
    "quarantine_df = pd.read_csv(quarantine_csv)\n",
    "groupcol = 'Province_State'\n",
    "\n",
    "quarantine_df = quarantine_df.rename(columns={'State': 'Province_State', 'Effective Date': 'lockdown_date','Coverage.type':'Coverage'})\n",
    "quarantine_df = quarantine_df.sort_values('Coverage', ascending=True)\n",
    "quarantine_df['lockdown_type'] = quarantine_df.apply(lambda x: create_lockdown_type(x, 0), axis=1)\n",
    "quarantine_df['emoji_string'] = quarantine_df.apply(lambda x: create_lockdown_type(x, 1), axis=1)\n",
    "quarantine_df['lockdown_type'].replace('', np.nan, inplace=True)\n",
    "\n",
    "quarantine_df = quarantine_df.dropna(subset=['lockdown_type'])\n",
    "# #TODO: this is where the columns get dropped\n",
    "# quarantine_df = quarantine_df.groupby(['lockdown_date', 'Province_State']).agg({\n",
    "#     'lockdown_type': lambda col: '; '.join(col),\n",
    "#     'emoji_string': lambda col: ''.join(col),\n",
    "#     'population_size': lambda col:col,\n",
    "#     'Coverage.location': lambda col:col\n",
    "# }).reset_index()\n",
    "\n",
    "quarantine_df.loc[quarantine_df.lockdown_type==\"Regional Border Closure/Visitor Quarantine\",\"emoji_string\"]=\"t\"#bugfix\n",
    "# Breaking up emoji into separate rows for vertical stacking\n",
    "quarantine_df.emoji_string = quarantine_df.emoji_string.apply(split_into_list)\n",
    "\n",
    "quarantine_df = quarantine_df.explode(column='emoji_string')\n",
    "quarantine_df['Coverage'] = quarantine_df.emoji_string.apply(\n",
    "    lambda x: 'Statewide' if str(x).isupper() else 'Regional'\n",
    ")\n",
    "quarantine_df = quarantine_df.sort_values('Coverage', ascending=False)\n",
    "quarantine_df.emoji_string = quarantine_df.emoji_string.str.lower()\n",
    "quarantine_df['emoji'] = quarantine_df['emoji_string'].map(str2emo)\n",
    "quarantine_df['event_index'] = quarantine_df.groupby(['Province_State', 'lockdown_date']).cumcount()\n",
    "\n",
    "# # quarantine_cols = [\n",
    "# #     groupcol, 'lockdown_date', 'lockdown_type', 'emoji', 'emoji_string', 'event_index', 'Coverage','Coverage.location'\n",
    "# # ]\n",
    "quarantine_cols = ['Province_State', 'Coverage', 'Coverage.location', 'lockdown_date','population_size','lockdown_type', 'emoji_string', 'emoji',\n",
    "       'event_index']\n",
    "quarantine_df = quarantine_df[quarantine_cols]\n",
    "\n",
    "# # END modified from _ingest_usa_quarantine_df"
   ]
  },
  {
   "cell_type": "code",
   "execution_count": 9,
   "metadata": {},
   "outputs": [],
   "source": [
    "quarantine_df_orig = pd.read_csv(quarantine_csv)\n",
    "state_populations = quarantine_df_orig[quarantine_df_orig[\"Coverage.type\"]==\"State-wide\"][[\"State\",\"population_size\"]].drop_duplicates()\n",
    "state_populations = state_populations.rename(columns={'State': 'Province_State',\"population_size\":\"state_population_size\"})\n",
    "state_populations.loc[state_populations[\"Province_State\"]==\"Puerto Rico\",\"state_population_size\"] = 3725789 # Obtained from https://www.census.gov/quickfacts/PR\n",
    "state_populations.state_population_size = state_populations.state_population_size.astype(\"int\")"
   ]
  },
  {
   "cell_type": "code",
   "execution_count": 10,
   "metadata": {},
   "outputs": [],
   "source": [
    "quarantine_df = quarantine_df.merge(state_populations)"
   ]
  },
  {
   "cell_type": "code",
   "execution_count": 11,
   "metadata": {},
   "outputs": [],
   "source": [
    "severityScore = {'g':0.2, 's':0.5, 'r':0.4, 'n':0.7, 'l':1, 't':0.3, 'c':0.4, 'e':0.1}"
   ]
  },
  {
   "cell_type": "code",
   "execution_count": 14,
   "metadata": {},
   "outputs": [],
   "source": [
    "# quarantine_df[quarantine_df[\"population_size\"].isna()]\n",
    "quarantine_df = quarantine_df.dropna(subset=[\"population_size\"])\n",
    "quarantine_df.population_size = quarantine_df.population_size.str.replace(\",\",\"\")\n",
    "quarantine_df.population_size = quarantine_df.population_size.astype(\"int\")"
   ]
  },
  {
   "cell_type": "code",
   "execution_count": 15,
   "metadata": {},
   "outputs": [],
   "source": [
    "quarantine_df[\"severityScore\"] = quarantine_df.emoji_string.apply(lambda x: severityScore[x])"
   ]
  },
  {
   "cell_type": "code",
   "execution_count": 16,
   "metadata": {},
   "outputs": [],
   "source": [
    "quarantine_df.lockdown_date = quarantine_df.lockdown_date.str.replace(\"/\",\"-\")"
   ]
  },
  {
   "cell_type": "code",
   "execution_count": 17,
   "metadata": {},
   "outputs": [],
   "source": [
    "quarantine_df.lockdown_date = pd.to_datetime(quarantine_df.lockdown_date)"
   ]
  },
  {
   "cell_type": "code",
   "execution_count": 18,
   "metadata": {},
   "outputs": [],
   "source": [
    "quarantine_df = quarantine_df[['Province_State', 'Coverage', 'Coverage.location', 'lockdown_date',\n",
    "       'population_size', 'state_population_size', 'severityScore']]"
   ]
  },
  {
   "cell_type": "code",
   "execution_count": 66,
   "metadata": {},
   "outputs": [],
   "source": [
    "qdf = quarantine_df[quarantine_df[\"Province_State\"]==\"Missouri\"]"
   ]
  },
  {
   "cell_type": "code",
   "execution_count": 68,
   "metadata": {},
   "outputs": [],
   "source": [
    "def compute_state_replacements(qdf,state):\n",
    "    df_state_replacements = []\n",
    "    qdf = quarantine_df[quarantine_df[\"Province_State\"]==state]\n",
    "    statewideEvents = qdf[qdf[\"Coverage\"]==\"Statewide\"]\n",
    "    relevantCountiesInState= list(set(qdf[qdf[\"Province_State\"]==state][\"Coverage.location\"]) - set([state]))\n",
    "    # adding \"Others\" dummy state populated with statewide population - sum(relevant counties population)\n",
    "    relevantCountiesInState= list(set(qdf[qdf[\"Province_State\"]==state][\"Coverage.location\"]) - set([state]))\n",
    "    relevant_county_population_lookup = qdf[qdf[\"Coverage.location\"].isin(relevantCountiesInState)][[\"Coverage.location\",\"population_size\"]].drop_duplicates()\n",
    "    state_population_size = state_populations[state_populations[\"Province_State\"]==state].state_population_size.values[0]\n",
    "    other_population = state_population_size - relevant_county_population_lookup.population_size.sum()\n",
    "    qdf.loc[len(qdf)] = [state,\"Regional\",\"Others\",np.nan,other_population,state_population_size,np.nan]\n",
    "    relevantCountiesInState  = relevantCountiesInState + [\"Others\"]\n",
    "    for statewideEvent in statewideEvents.iterrows(): \n",
    "    #     statewideLockdown_date = \"2020-03-12\"\n",
    "    #     statewideSeverity = \"0.1\"\n",
    "        statewideLockdown_date = statewideEvent[1].lockdown_date\n",
    "        statewideSeverity = statewideEvent[1].severityScore\n",
    "        for county in relevantCountiesInState: \n",
    "            #print(county)\n",
    "            #display(qdf[qdf[\"Coverage.location\"]==county])\n",
    "            try:\n",
    "                # Catch error since some counties don't show up until a later date, ignore these counties \n",
    "                clone = np.repeat(qdf[qdf[\"Coverage.location\"]==county].iloc[0],1)\n",
    "                clone.lockdown_date = statewideLockdown_date\n",
    "                clone.severityScore = statewideSeverity\n",
    "                df_state_replacements.append(clone)\n",
    "            except (IndexError):\n",
    "                pass\n",
    "                \n",
    "\n",
    "    df_state_replacements = pd.DataFrame(df_state_replacements,columns=qdf.columns)\n",
    "    return df_state_replacements "
   ]
  },
  {
   "cell_type": "code",
   "execution_count": 69,
   "metadata": {},
   "outputs": [],
   "source": [
    "def compute_state_intervention_footprint_curve(state):\n",
    "    qdf = quarantine_df[quarantine_df[\"Province_State\"]==state]\n",
    "    qdf_additional = compute_state_replacements(qdf,state)\n",
    "    qdf_result = pd.concat([qdf,qdf_additional])\n",
    "    # For each date, compute a cumulative max, keeping only the entry with the maximum severity score\n",
    "    qdf_keep_all=[]\n",
    "    for ldate in qdf.lockdown_date.unique():\n",
    "        # ldate = \"2020-03-13\"\n",
    "        qdf_before = qdf_result[qdf_result[\"lockdown_date\"]<=ldate]\n",
    "        # Compute the max severity for that location for the given day\n",
    "        qdf_before[\"severityMax\"] = qdf_before.groupby(\"Coverage.location\")[\"severityScore\"].transform(max)\n",
    "        qdf_keep = qdf_before[qdf_before[\"severityScore\"] == qdf_before[\"severityMax\"]]\n",
    "        qdf_keep[\"dateBefore\"] = ldate\n",
    "        qdf_keep = qdf_keep.drop_duplicates(subset=\"Coverage.location\") # applicable only for the last date when severityMax=1 for multiple lockdown_dates, keep just one so that last entry doesn't exceed 1\n",
    "        qdf_keep_all.append(qdf_keep)\n",
    "    #     display(qdf_keep)\n",
    "    qdf_keep_all = pd.concat(qdf_keep_all)\n",
    "\n",
    "    # compute the intervention footprint for the kept df\n",
    "    qdf_keep_all[\"pctStateAffected\"]= qdf_keep_all[\"population_size\"]/qdf_keep_all[\"state_population_size\"]\n",
    "    qdf_keep_all[\"interventionFootprint\"] = qdf_keep_all[\"pctStateAffected\"]*qdf_keep_all[\"severityScore\"]\n",
    "\n",
    "    qdf_keep_all = qdf_keep_all[qdf_keep_all[\"Coverage\"]==\"Regional\"]\n",
    "    # Sum the intervention footprint based on the date we used for the keep max (note this is based on the lockdown date)\n",
    "    qdf_keep_all_result = qdf_keep_all.groupby(\"dateBefore\").sum().reset_index()\n",
    "    return qdf_keep_all_result"
   ]
  },
  {
   "cell_type": "code",
   "execution_count": 70,
   "metadata": {},
   "outputs": [
    {
     "name": "stderr",
     "output_type": "stream",
     "text": [
      "/usr/local/lib/python3.7/site-packages/pandas/core/indexing.py:965: SettingWithCopyWarning: \n",
      "A value is trying to be set on a copy of a slice from a DataFrame.\n",
      "Try using .loc[row_indexer,col_indexer] = value instead\n",
      "\n",
      "See the caveats in the documentation: https://pandas.pydata.org/pandas-docs/stable/user_guide/indexing.html#returning-a-view-versus-a-copy\n",
      "  self.obj[item] = s\n",
      "/usr/local/lib/python3.7/site-packages/ipykernel_launcher.py:13: SettingWithCopyWarning: \n",
      "A value is trying to be set on a copy of a slice from a DataFrame.\n",
      "Try using .loc[row_indexer,col_indexer] = value instead\n",
      "\n",
      "See the caveats in the documentation: https://pandas.pydata.org/pandas-docs/stable/user_guide/indexing.html#returning-a-view-versus-a-copy\n",
      "  del sys.path[0]\n",
      "/usr/local/lib/python3.7/site-packages/ipykernel_launcher.py:11: SettingWithCopyWarning: \n",
      "A value is trying to be set on a copy of a slice from a DataFrame.\n",
      "Try using .loc[row_indexer,col_indexer] = value instead\n",
      "\n",
      "See the caveats in the documentation: https://pandas.pydata.org/pandas-docs/stable/user_guide/indexing.html#returning-a-view-versus-a-copy\n",
      "  # This is added back by InteractiveShellApp.init_path()\n"
     ]
    }
   ],
   "source": [
    "statedf = compute_state_intervention_footprint_curve(\"Missouri\")"
   ]
  },
  {
   "cell_type": "code",
   "execution_count": 71,
   "metadata": {},
   "outputs": [
    {
     "name": "stdout",
     "output_type": "stream",
     "text": [
      "Alabama\n",
      "Virginia\n",
      "Arkansas\n",
      "Missouri\n"
     ]
    },
    {
     "name": "stderr",
     "output_type": "stream",
     "text": [
      "/usr/local/lib/python3.7/site-packages/pandas/core/indexing.py:670: SettingWithCopyWarning: \n",
      "A value is trying to be set on a copy of a slice from a DataFrame\n",
      "\n",
      "See the caveats in the documentation: https://pandas.pydata.org/pandas-docs/stable/user_guide/indexing.html#returning-a-view-versus-a-copy\n",
      "  self._setitem_with_indexer(indexer, value)\n",
      "/usr/local/lib/python3.7/site-packages/ipykernel_launcher.py:11: SettingWithCopyWarning: \n",
      "A value is trying to be set on a copy of a slice from a DataFrame.\n",
      "Try using .loc[row_indexer,col_indexer] = value instead\n",
      "\n",
      "See the caveats in the documentation: https://pandas.pydata.org/pandas-docs/stable/user_guide/indexing.html#returning-a-view-versus-a-copy\n",
      "  # This is added back by InteractiveShellApp.init_path()\n",
      "/usr/local/lib/python3.7/site-packages/ipykernel_launcher.py:13: SettingWithCopyWarning: \n",
      "A value is trying to be set on a copy of a slice from a DataFrame.\n",
      "Try using .loc[row_indexer,col_indexer] = value instead\n",
      "\n",
      "See the caveats in the documentation: https://pandas.pydata.org/pandas-docs/stable/user_guide/indexing.html#returning-a-view-versus-a-copy\n",
      "  del sys.path[0]\n"
     ]
    },
    {
     "name": "stdout",
     "output_type": "stream",
     "text": [
      "California\n",
      "South Carolina\n",
      "Mississippi\n",
      "West Virginia\n",
      "Washington\n",
      "Wyoming\n",
      "Wisconsin\n",
      "Utah\n",
      "Arizona\n",
      "Oklahoma\n",
      "Ohio\n",
      "Vermont\n",
      "Massachusetts\n",
      "Nebraska\n",
      "Minnesota\n",
      "Michigan\n",
      "South Dakota\n",
      "Tennessee\n",
      "Colorado\n",
      "Montana\n",
      "Alaska\n",
      "North Carolina\n",
      "Texas\n",
      "North Dakota\n",
      "Maryland\n",
      "Kansas\n",
      "Maine\n",
      "Florida\n",
      "Nevada\n",
      "Connecticut\n",
      "Rhode Island\n",
      "Georgia\n",
      "New York\n",
      "Pennsylvania\n",
      "Louisiana\n",
      "Kentucky\n",
      "Oregon\n",
      "New Hampshire\n",
      "Idaho\n",
      "New Mexico\n",
      "New Jersey\n",
      "Delaware\n",
      "Illinois\n",
      "Indiana\n",
      "Hawaii\n",
      "Iowa\n"
     ]
    }
   ],
   "source": [
    "df_all = []\n",
    "for state in quarantine_df.Province_State.unique():\n",
    "    print (state)\n",
    "    \n",
    "    statedf = compute_state_intervention_footprint_curve(state)\n",
    "    statedf[\"State\"]=state\n",
    "    df_all.append(statedf)\n",
    "\n",
    "df_all = pd.concat(df_all)"
   ]
  },
  {
   "cell_type": "code",
   "execution_count": 77,
   "metadata": {},
   "outputs": [
    {
     "data": {
      "text/plain": [
       "Timestamp('2020-04-28 00:00:00')"
      ]
     },
     "execution_count": 77,
     "metadata": {},
     "output_type": "execute_result"
    }
   ],
   "source": [
    "# df_all.dateBefore.min()\n",
    "# df_all.dateBefore.max()"
   ]
  },
  {
   "cell_type": "code",
   "execution_count": 108,
   "metadata": {
    "scrolled": false
   },
   "outputs": [
    {
     "data": {
      "text/html": [
       "\n",
       "<div id=\"altair-viz-ef04cb9523754d13a214194b3e4fae1a\"></div>\n",
       "<script type=\"text/javascript\">\n",
       "  (function(spec, embedOpt){\n",
       "    const outputDiv = document.getElementById(\"altair-viz-ef04cb9523754d13a214194b3e4fae1a\");\n",
       "    const paths = {\n",
       "      \"vega\": \"https://cdn.jsdelivr.net/npm//vega@5?noext\",\n",
       "      \"vega-lib\": \"https://cdn.jsdelivr.net/npm//vega-lib?noext\",\n",
       "      \"vega-lite\": \"https://cdn.jsdelivr.net/npm//vega-lite@4.0.2?noext\",\n",
       "      \"vega-embed\": \"https://cdn.jsdelivr.net/npm//vega-embed@6?noext\",\n",
       "    };\n",
       "\n",
       "    function loadScript(lib) {\n",
       "      return new Promise(function(resolve, reject) {\n",
       "        var s = document.createElement('script');\n",
       "        s.src = paths[lib];\n",
       "        s.async = true;\n",
       "        s.onload = () => resolve(paths[lib]);\n",
       "        s.onerror = () => reject(`Error loading script: ${paths[lib]}`);\n",
       "        document.getElementsByTagName(\"head\")[0].appendChild(s);\n",
       "      });\n",
       "    }\n",
       "\n",
       "    function showError(err) {\n",
       "      outputDiv.innerHTML = `<div class=\"error\" style=\"color:red;\">${err}</div>`;\n",
       "      throw err;\n",
       "    }\n",
       "\n",
       "    function displayChart(vegaEmbed) {\n",
       "      vegaEmbed(outputDiv, spec, embedOpt)\n",
       "        .catch(err => showError(`Javascript Error: ${err.message}<br>This usually means there's a typo in your chart specification. See the javascript console for the full traceback.`));\n",
       "    }\n",
       "\n",
       "    if(typeof define === \"function\" && define.amd) {\n",
       "      requirejs.config({paths});\n",
       "      require([\"vega-embed\"], displayChart, err => showError(`Error loading script: ${err.message}`));\n",
       "    } else if (typeof vegaEmbed === \"function\") {\n",
       "      displayChart(vegaEmbed);\n",
       "    } else {\n",
       "      loadScript(\"vega\")\n",
       "        .then(() => loadScript(\"vega-lite\"))\n",
       "        .then(() => loadScript(\"vega-embed\"))\n",
       "        .catch(showError)\n",
       "        .then(() => displayChart(vegaEmbed));\n",
       "    }\n",
       "  })({\"config\": {\"view\": {\"continuousWidth\": 400, \"continuousHeight\": 300}}, \"data\": {\"name\": \"data-37d1d4ea987d2cebecb52af21049e099\"}, \"mark\": \"line\", \"encoding\": {\"facet\": {\"type\": \"ordinal\", \"columns\": 4, \"field\": \"State\"}, \"x\": {\"type\": \"temporal\", \"field\": \"dateBefore\", \"scale\": {\"domain\": [1583020800000.0, 1585699200000.0]}}, \"y\": {\"type\": \"quantitative\", \"field\": \"interventionFootprint\", \"scale\": {\"align\": 0, \"base\": 1}}}, \"height\": 100, \"selection\": {\"selector009\": {\"type\": \"interval\", \"bind\": \"scales\", \"encodings\": [\"x\", \"y\"]}}, \"width\": 150, \"$schema\": \"https://vega.github.io/schema/vega-lite/v4.0.2.json\", \"datasets\": {\"data-37d1d4ea987d2cebecb52af21049e099\": [{\"dateBefore\": \"2020-03-13T00:00:00\", \"population_size\": 4903185, \"state_population_size\": 19612740, \"severityScore\": 0.4, \"severityMax\": 0.4, \"pctStateAffected\": 1.0, \"interventionFootprint\": 0.1, \"State\": \"Alabama\"}, {\"dateBefore\": \"2020-03-18T00:00:00\", \"population_size\": 4903185, \"state_population_size\": 19612740, \"severityScore\": 2.0, \"severityMax\": 2.0, \"pctStateAffected\": 1.0, \"interventionFootprint\": 0.5, \"State\": \"Alabama\"}, {\"dateBefore\": \"2020-03-24T00:00:00\", \"population_size\": 4903185, \"state_population_size\": 19612740, \"severityScore\": 2.5, \"severityMax\": 2.5, \"pctStateAffected\": 1.0, \"interventionFootprint\": 0.5214024149608877, \"State\": \"Alabama\"}, {\"dateBefore\": \"2020-03-27T00:00:00\", \"population_size\": 4903185, \"state_population_size\": 19612740, \"severityScore\": 3.7, \"severityMax\": 3.7, \"pctStateAffected\": 1.0, \"interventionFootprint\": 0.731155932317463, \"State\": \"Alabama\"}, {\"dateBefore\": \"2020-04-04T00:00:00\", \"population_size\": 4903185, \"state_population_size\": 19612740, \"severityScore\": 4.0, \"severityMax\": 4.0, \"pctStateAffected\": 1.0, \"interventionFootprint\": 1.0, \"State\": \"Alabama\"}, {\"dateBefore\": \"2020-03-12T00:00:00\", \"population_size\": 8535519, \"state_population_size\": 8535519, \"severityScore\": 0.1, \"severityMax\": 0.1, \"pctStateAffected\": 1.0, \"interventionFootprint\": 0.1, \"State\": \"Virginia\"}, {\"dateBefore\": \"2020-03-17T00:00:00\", \"population_size\": 8535519, \"state_population_size\": 8535519, \"severityScore\": 0.2, \"severityMax\": 0.2, \"pctStateAffected\": 1.0, \"interventionFootprint\": 0.2, \"State\": \"Virginia\"}, {\"dateBefore\": \"2020-03-23T00:00:00\", \"population_size\": 8535519, \"state_population_size\": 8535519, \"severityScore\": 0.7, \"severityMax\": 0.7, \"pctStateAffected\": 1.0, \"interventionFootprint\": 0.7, \"State\": \"Virginia\"}, {\"dateBefore\": \"2020-03-30T00:00:00\", \"population_size\": 8535519, \"state_population_size\": 8535519, \"severityScore\": 1.0, \"severityMax\": 1.0, \"pctStateAffected\": 1.0, \"interventionFootprint\": 1.0, \"State\": \"Virginia\"}, {\"dateBefore\": \"2020-03-11T00:00:00\", \"population_size\": 3017804, \"state_population_size\": 15089020, \"severityScore\": 0.5, \"severityMax\": 0.5, \"pctStateAffected\": 1.0, \"interventionFootprint\": 0.1, \"State\": \"Arkansas\"}, {\"dateBefore\": \"2020-03-12T00:00:00\", \"population_size\": 3017804, \"state_population_size\": 15089020, \"severityScore\": 2.1, \"severityMax\": 2.1, \"pctStateAffected\": 1.0, \"interventionFootprint\": 0.17945340386585742, \"State\": \"Arkansas\"}, {\"dateBefore\": \"2020-03-17T00:00:00\", \"population_size\": 3017804, \"state_population_size\": 15089020, \"severityScore\": 2.5, \"severityMax\": 2.5, \"pctStateAffected\": 1.0, \"interventionFootprint\": 0.5, \"State\": \"Arkansas\"}, {\"dateBefore\": \"2020-03-19T00:00:00\", \"population_size\": 3017804, \"state_population_size\": 15089020, \"severityScore\": 2.5, \"severityMax\": 2.5, \"pctStateAffected\": 1.0, \"interventionFootprint\": 0.5, \"State\": \"Arkansas\"}, {\"dateBefore\": \"2020-03-13T00:00:00\", \"population_size\": 6113830, \"state_population_size\": 233222264, \"severityScore\": 3.800000000000002, \"severityMax\": 3.800000000000002, \"pctStateAffected\": 0.9961550669107646, \"interventionFootprint\": 0.09961550669107647, \"State\": \"Missouri\"}, {\"dateBefore\": \"2020-03-19T00:00:00\", \"population_size\": 6113830, \"state_population_size\": 233222264, \"severityScore\": 19.0, \"severityMax\": 19.0, \"pctStateAffected\": 0.9961550669107646, \"interventionFootprint\": 0.4980775334553823, \"State\": \"Missouri\"}, {\"dateBefore\": \"2020-03-22T00:00:00\", \"population_size\": 6137428, \"state_population_size\": 239359692, \"severityScore\": 21.5, \"severityMax\": 21.5, \"pctStateAffected\": 1.0, \"interventionFootprint\": 0.5708669820647998, \"State\": \"Missouri\"}, {\"dateBefore\": \"2020-03-24T00:00:00\", \"population_size\": 6137428, \"state_population_size\": 239359692, \"severityScore\": 23.5, \"severityMax\": 23.5, \"pctStateAffected\": 1.0, \"interventionFootprint\": 0.6367611970356312, \"State\": \"Missouri\"}, {\"dateBefore\": \"2020-03-25T00:00:00\", \"population_size\": 6137428, \"state_population_size\": 239359692, \"severityScore\": 25.5, \"severityMax\": 25.5, \"pctStateAffected\": 1.0, \"interventionFootprint\": 0.6653895573194504, \"State\": \"Missouri\"}, {\"dateBefore\": \"2020-03-26T00:00:00\", \"population_size\": 6137428, \"state_population_size\": 239359692, \"severityScore\": 28.0, \"severityMax\": 28.0, \"pctStateAffected\": 1.0, \"interventionFootprint\": 0.6874375552755976, \"State\": \"Missouri\"}, {\"dateBefore\": \"2020-03-27T00:00:00\", \"population_size\": 6137428, \"state_population_size\": 239359692, \"severityScore\": 28.5, \"severityMax\": 28.5, \"pctStateAffected\": 1.0, \"interventionFootprint\": 0.6881723907799815, \"State\": \"Missouri\"}, {\"dateBefore\": \"2020-03-28T00:00:00\", \"population_size\": 6137428, \"state_population_size\": 239359692, \"severityScore\": 29.5, \"severityMax\": 29.5, \"pctStateAffected\": 1.0, \"interventionFootprint\": 0.6954231479375399, \"State\": \"Missouri\"}, {\"dateBefore\": \"2020-03-29T00:00:00\", \"population_size\": 6137428, \"state_population_size\": 239359692, \"severityScore\": 30.0, \"severityMax\": 30.0, \"pctStateAffected\": 1.0, \"interventionFootprint\": 0.700230780711399, \"State\": \"Missouri\"}, {\"dateBefore\": \"2020-03-30T00:00:00\", \"population_size\": 6137428, \"state_population_size\": 239359692, \"severityScore\": 31.5, \"severityMax\": 31.5, \"pctStateAffected\": 1.0, \"interventionFootprint\": 0.7028336625700538, \"State\": \"Missouri\"}, {\"dateBefore\": \"2020-03-31T00:00:00\", \"population_size\": 6137428, \"state_population_size\": 239359692, \"severityScore\": 32.5, \"severityMax\": 32.5, \"pctStateAffected\": 1.0, \"interventionFootprint\": 0.7066963555417676, \"State\": \"Missouri\"}, {\"dateBefore\": \"2020-04-01T00:00:00\", \"population_size\": 6137428, \"state_population_size\": 239359692, \"severityScore\": 34.5, \"severityMax\": 34.5, \"pctStateAffected\": 1.0, \"interventionFootprint\": 0.7146174260618617, \"State\": \"Missouri\"}, {\"dateBefore\": \"2020-04-02T00:00:00\", \"population_size\": 6137428, \"state_population_size\": 239359692, \"severityScore\": 35.5, \"severityMax\": 35.5, \"pctStateAffected\": 1.0, \"interventionFootprint\": 0.721267768843887, \"State\": \"Missouri\"}, {\"dateBefore\": \"2020-04-03T00:00:00\", \"population_size\": 6137428, \"state_population_size\": 239359692, \"severityScore\": 37.0, \"severityMax\": 37.0, \"pctStateAffected\": 1.0, \"interventionFootprint\": 0.7288238656323138, \"State\": \"Missouri\"}, {\"dateBefore\": \"2020-04-04T00:00:00\", \"population_size\": 6137428, \"state_population_size\": 239359692, \"severityScore\": 38.0, \"severityMax\": 38.0, \"pctStateAffected\": 1.0, \"interventionFootprint\": 0.7336176489565336, \"State\": \"Missouri\"}, {\"dateBefore\": \"2020-04-05T00:00:00\", \"population_size\": 6137428, \"state_population_size\": 239359692, \"severityScore\": 38.5, \"severityMax\": 38.5, \"pctStateAffected\": 1.0, \"interventionFootprint\": 0.7351086644112159, \"State\": \"Missouri\"}, {\"dateBefore\": \"2020-04-06T00:00:00\", \"population_size\": 6137428, \"state_population_size\": 239359692, \"severityScore\": 39.0, \"severityMax\": 39.0, \"pctStateAffected\": 1.0, \"interventionFootprint\": 1.0, \"State\": \"Missouri\"}, {\"dateBefore\": \"2020-03-04T00:00:00\", \"population_size\": 39512223, \"state_population_size\": 592683345, \"severityScore\": 1.5000000000000002, \"severityMax\": 1.5000000000000002, \"pctStateAffected\": 1.0, \"interventionFootprint\": 0.1, \"State\": \"California\"}, {\"dateBefore\": \"2020-03-12T00:00:00\", \"population_size\": 39512223, \"state_population_size\": 592683345, \"severityScore\": 3.0000000000000004, \"severityMax\": 3.0000000000000004, \"pctStateAffected\": 1.0, \"interventionFootprint\": 0.2, \"State\": \"California\"}, {\"dateBefore\": \"2020-03-13T00:00:00\", \"population_size\": 39512223, \"state_population_size\": 592683345, \"severityScore\": 6.300000000000001, \"severityMax\": 6.300000000000001, \"pctStateAffected\": 1.0, \"interventionFootprint\": 0.27977205686453027, \"State\": \"California\"}, {\"dateBefore\": \"2020-03-17T00:00:00\", \"population_size\": 39512223, \"state_population_size\": 592683345, \"severityScore\": 10.2, \"severityMax\": 10.2, \"pctStateAffected\": 1.0, \"interventionFootprint\": 0.38924863073383653, \"State\": \"California\"}, {\"dateBefore\": \"2020-03-19T00:00:00\", \"population_size\": 39512223, \"state_population_size\": 592683345, \"severityScore\": 15.0, \"severityMax\": 15.0, \"pctStateAffected\": 1.0, \"interventionFootprint\": 1.0, \"State\": \"California\"}, {\"dateBefore\": \"2020-03-13T00:00:00\", \"population_size\": 5148714, \"state_population_size\": 25743570, \"severityScore\": 0.5, \"severityMax\": 0.5, \"pctStateAffected\": 1.0, \"interventionFootprint\": 0.09999999999999999, \"State\": \"South Carolina\"}, {\"dateBefore\": \"2020-03-15T00:00:00\", \"population_size\": 5148714, \"state_population_size\": 25743570, \"severityScore\": 2.5, \"severityMax\": 2.5, \"pctStateAffected\": 1.0, \"interventionFootprint\": 0.5, \"State\": \"South Carolina\"}, {\"dateBefore\": \"2020-03-17T00:00:00\", \"population_size\": 5148714, \"state_population_size\": 25743570, \"severityScore\": 2.5, \"severityMax\": 2.5, \"pctStateAffected\": 1.0, \"interventionFootprint\": 0.5, \"State\": \"South Carolina\"}, {\"dateBefore\": \"2020-03-23T00:00:00\", \"population_size\": 5148714, \"state_population_size\": 25743570, \"severityScore\": 2.5, \"severityMax\": 2.5, \"pctStateAffected\": 1.0, \"interventionFootprint\": 0.5, \"State\": \"South Carolina\"}, {\"dateBefore\": \"2020-03-25T00:00:00\", \"population_size\": 5148714, \"state_population_size\": 25743570, \"severityScore\": 3.0, \"severityMax\": 3.0, \"pctStateAffected\": 1.0, \"interventionFootprint\": 0.5132273806624333, \"State\": \"South Carolina\"}, {\"dateBefore\": \"2020-03-26T00:00:00\", \"population_size\": 5148714, \"state_population_size\": 25743570, \"severityScore\": 3.5, \"severityMax\": 3.5, \"pctStateAffected\": 1.0, \"interventionFootprint\": 0.526187024565746, \"State\": \"South Carolina\"}, {\"dateBefore\": \"2020-03-27T00:00:00\", \"population_size\": 5148714, \"state_population_size\": 25743570, \"severityScore\": 4.0, \"severityMax\": 4.0, \"pctStateAffected\": 1.0, \"interventionFootprint\": 0.5291361104928337, \"State\": \"South Carolina\"}, {\"dateBefore\": \"2020-04-01T00:00:00\", \"population_size\": 5148714, \"state_population_size\": 25743570, \"severityScore\": 4.4, \"severityMax\": 4.4, \"pctStateAffected\": 1.0, \"interventionFootprint\": 0.7174816662957002, \"State\": \"South Carolina\"}, {\"dateBefore\": \"2020-04-02T00:00:00\", \"population_size\": 5148714, \"state_population_size\": 25743570, \"severityScore\": 4.7, \"severityMax\": 4.7, \"pctStateAffected\": 1.0, \"interventionFootprint\": 0.722687121483151, \"State\": \"South Carolina\"}, {\"dateBefore\": \"2020-04-07T00:00:00\", \"population_size\": 5148714, \"state_population_size\": 25743570, \"severityScore\": 5.0, \"severityMax\": 5.0, \"pctStateAffected\": 1.0, \"interventionFootprint\": 1.0, \"State\": \"South Carolina\"}, {\"dateBefore\": \"2020-03-14T00:00:00\", \"population_size\": 2976149, \"state_population_size\": 20833043, \"severityScore\": 0.7, \"severityMax\": 0.7, \"pctStateAffected\": 1.0, \"interventionFootprint\": 0.1, \"State\": \"Mississippi\"}, {\"dateBefore\": \"2020-03-21T00:00:00\", \"population_size\": 2976149, \"state_population_size\": 20833043, \"severityScore\": 1.6000000000000005, \"severityMax\": 1.6000000000000005, \"pctStateAffected\": 1.0, \"interventionFootprint\": 0.10721324772382029, \"State\": \"Mississippi\"}, {\"dateBefore\": \"2020-03-22T00:00:00\", \"population_size\": 2976149, \"state_population_size\": 20833043, \"severityScore\": 3.4000000000000004, \"severityMax\": 3.4000000000000004, \"pctStateAffected\": 1.0, \"interventionFootprint\": 0.12618427370403834, \"State\": \"Mississippi\"}, {\"dateBefore\": \"2020-03-24T00:00:00\", \"population_size\": 2976149, \"state_population_size\": 20833043, \"severityScore\": 4.6000000000000005, \"severityMax\": 4.6000000000000005, \"pctStateAffected\": 1.0, \"interventionFootprint\": 0.22435899546696084, \"State\": \"Mississippi\"}, {\"dateBefore\": \"2020-03-31T00:00:00\", \"population_size\": 2976149, \"state_population_size\": 20833043, \"severityScore\": 6.2, \"severityMax\": 6.2, \"pctStateAffected\": 1.0, \"interventionFootprint\": 0.25431717296412243, \"State\": \"Mississippi\"}, {\"dateBefore\": \"2020-04-01T00:00:00\", \"population_size\": 2976149, \"state_population_size\": 20833043, \"severityScore\": 7.0, \"severityMax\": 7.0, \"pctStateAffected\": 1.0, \"interventionFootprint\": 1.0, \"State\": \"Mississippi\"}, {\"dateBefore\": \"2020-03-14T00:00:00\", \"population_size\": 1792147, \"state_population_size\": 1792147, \"severityScore\": 0.5, \"severityMax\": 0.5, \"pctStateAffected\": 1.0, \"interventionFootprint\": 0.5, \"State\": \"West Virginia\"}, {\"dateBefore\": \"2020-03-16T00:00:00\", \"population_size\": 1792147, \"state_population_size\": 1792147, \"severityScore\": 0.5, \"severityMax\": 0.5, \"pctStateAffected\": 1.0, \"interventionFootprint\": 0.5, \"State\": \"West Virginia\"}, {\"dateBefore\": \"2020-03-23T00:00:00\", \"population_size\": 1792147, \"state_population_size\": 1792147, \"severityScore\": 1.0, \"severityMax\": 1.0, \"pctStateAffected\": 1.0, \"interventionFootprint\": 1.0, \"State\": \"West Virginia\"}, {\"dateBefore\": \"2020-02-29T00:00:00\", \"population_size\": 7614893, \"state_population_size\": 60919144, \"severityScore\": 0.7999999999999999, \"severityMax\": 0.7999999999999999, \"pctStateAffected\": 1.0, \"interventionFootprint\": 0.1, \"State\": \"Washington\"}, {\"dateBefore\": \"2020-03-11T00:00:00\", \"population_size\": 7614893, \"state_population_size\": 60919144, \"severityScore\": 1.1, \"severityMax\": 1.1, \"pctStateAffected\": 1.0, \"interventionFootprint\": 0.15226396483837662, \"State\": \"Washington\"}, {\"dateBefore\": \"2020-03-12T00:00:00\", \"population_size\": 7614893, \"state_population_size\": 60919144, \"severityScore\": 4.0, \"severityMax\": 4.0, \"pctStateAffected\": 1.0, \"interventionFootprint\": 0.5, \"State\": \"Washington\"}, {\"dateBefore\": \"2020-03-15T00:00:00\", \"population_size\": 7614893, \"state_population_size\": 60919144, \"severityScore\": 4.0, \"severityMax\": 4.0, \"pctStateAffected\": 1.0, \"interventionFootprint\": 0.5, \"State\": \"Washington\"}, {\"dateBefore\": \"2020-03-21T00:00:00\", \"population_size\": 7614893, \"state_population_size\": 60919144, \"severityScore\": 4.5, \"severityMax\": 4.5, \"pctStateAffected\": 1.0000000000000002, \"interventionFootprint\": 0.5073055524220761, \"State\": \"Washington\"}, {\"dateBefore\": \"2020-03-22T00:00:00\", \"population_size\": 7614893, \"state_population_size\": 60919144, \"severityScore\": 5.5, \"severityMax\": 5.5, \"pctStateAffected\": 1.0, \"interventionFootprint\": 0.5265861910338071, \"State\": \"Washington\"}, {\"dateBefore\": \"2020-03-23T00:00:00\", \"population_size\": 7614893, \"state_population_size\": 60919144, \"severityScore\": 8.0, \"severityMax\": 8.0, \"pctStateAffected\": 1.0, \"interventionFootprint\": 1.0, \"State\": \"Washington\"}, {\"dateBefore\": \"2020-03-24T00:00:00\", \"population_size\": 7614893, \"state_population_size\": 60919144, \"severityScore\": 8.0, \"severityMax\": 8.0, \"pctStateAffected\": 1.0, \"interventionFootprint\": 1.0, \"State\": \"Washington\"}, {\"dateBefore\": \"2020-03-13T00:00:00\", \"population_size\": 578759, \"state_population_size\": 1736277, \"severityScore\": 0.30000000000000004, \"severityMax\": 0.30000000000000004, \"pctStateAffected\": 1.0, \"interventionFootprint\": 0.1, \"State\": \"Wyoming\"}, {\"dateBefore\": \"2020-03-15T00:00:00\", \"population_size\": 578759, \"state_population_size\": 1736277, \"severityScore\": 1.5, \"severityMax\": 1.5, \"pctStateAffected\": 1.0, \"interventionFootprint\": 0.5, \"State\": \"Wyoming\"}, {\"dateBefore\": \"2020-03-28T00:00:00\", \"population_size\": 578759, \"state_population_size\": 1736277, \"severityScore\": 2.5, \"severityMax\": 2.5, \"pctStateAffected\": 1.0, \"interventionFootprint\": 0.529280754165378, \"State\": \"Wyoming\"}, {\"dateBefore\": \"2020-03-12T00:00:00\", \"population_size\": 5822434, \"state_population_size\": 11644868, \"severityScore\": 0.2, \"severityMax\": 0.2, \"pctStateAffected\": 1.0, \"interventionFootprint\": 0.1, \"State\": \"Wisconsin\"}, {\"dateBefore\": \"2020-03-13T00:00:00\", \"population_size\": 5822434, \"state_population_size\": 11644868, \"severityScore\": 1.0, \"severityMax\": 1.0, \"pctStateAffected\": 1.0, \"interventionFootprint\": 0.5, \"State\": \"Wisconsin\"}, {\"dateBefore\": \"2020-03-16T00:00:00\", \"population_size\": 5822434, \"state_population_size\": 11644868, \"severityScore\": 1.0, \"severityMax\": 1.0, \"pctStateAffected\": 1.0, \"interventionFootprint\": 0.5, \"State\": \"Wisconsin\"}, {\"dateBefore\": \"2020-03-17T00:00:00\", \"population_size\": 5822434, \"state_population_size\": 11644868, \"severityScore\": 1.0, \"severityMax\": 1.0, \"pctStateAffected\": 1.0, \"interventionFootprint\": 0.5, \"State\": \"Wisconsin\"}, {\"dateBefore\": \"2020-03-23T00:00:00\", \"population_size\": 5822434, \"state_population_size\": 11644868, \"severityScore\": 1.5, \"severityMax\": 1.5, \"pctStateAffected\": 1.0, \"interventionFootprint\": 0.5508399923468432, \"State\": \"Wisconsin\"}, {\"dateBefore\": \"2020-03-24T00:00:00\", \"population_size\": 5822434, \"state_population_size\": 11644868, \"severityScore\": 2.0, \"severityMax\": 2.0, \"pctStateAffected\": 1.0, \"interventionFootprint\": 1.0, \"State\": \"Wisconsin\"}, {\"dateBefore\": \"2020-03-13T00:00:00\", \"population_size\": 3205958, \"state_population_size\": 12823832, \"severityScore\": 2.0, \"severityMax\": 2.0, \"pctStateAffected\": 1.0, \"interventionFootprint\": 0.5, \"State\": \"Utah\"}, {\"dateBefore\": \"2020-03-27T00:00:00\", \"population_size\": 3205958, \"state_population_size\": 12823832, \"severityScore\": 3.0, \"severityMax\": 3.0, \"pctStateAffected\": 1.0, \"interventionFootprint\": 0.5378570149702522, \"State\": \"Utah\"}, {\"dateBefore\": \"2020-04-01T00:00:00\", \"population_size\": 3205958, \"state_population_size\": 12823832, \"severityScore\": 3.5, \"severityMax\": 3.5, \"pctStateAffected\": 1.0, \"interventionFootprint\": 0.5932976975992823, \"State\": \"Utah\"}, {\"dateBefore\": \"2020-03-12T00:00:00\", \"population_size\": 7278717, \"state_population_size\": 58229736, \"severityScore\": 0.7999999999999999, \"severityMax\": 0.7999999999999999, \"pctStateAffected\": 1.0, \"interventionFootprint\": 0.10000000000000002, \"State\": \"Arizona\"}, {\"dateBefore\": \"2020-03-17T00:00:00\", \"population_size\": 7278717, \"state_population_size\": 58229736, \"severityScore\": 2.0000000000000004, \"severityMax\": 2.0000000000000004, \"pctStateAffected\": 1.0, \"interventionFootprint\": 0.28186559526905636, \"State\": \"Arizona\"}, {\"dateBefore\": \"2020-03-20T00:00:00\", \"population_size\": 7278717, \"state_population_size\": 58229736, \"severityScore\": 5.0, \"severityMax\": 5.0, \"pctStateAffected\": 1.0, \"interventionFootprint\": 0.7126384086646039, \"State\": \"Arizona\"}, {\"dateBefore\": \"2020-03-31T00:00:00\", \"population_size\": 7278717, \"state_population_size\": 58229736, \"severityScore\": 8.0, \"severityMax\": 8.0, \"pctStateAffected\": 1.0, \"interventionFootprint\": 1.0, \"State\": \"Arizona\"}, {\"dateBefore\": \"2020-03-15T00:00:00\", \"population_size\": 3956971, \"state_population_size\": 142450956, \"severityScore\": 3.600000000000002, \"severityMax\": 3.600000000000002, \"pctStateAffected\": 0.9999999999999998, \"interventionFootprint\": 0.09999999999999998, \"State\": \"Oklahoma\"}, {\"dateBefore\": \"2020-03-24T00:00:00\", \"population_size\": 3956971, \"state_population_size\": 142450956, \"severityScore\": 8.000000000000004, \"severityMax\": 8.000000000000004, \"pctStateAffected\": 0.9999999999999998, \"interventionFootprint\": 0.2249627303308515, \"State\": \"Oklahoma\"}, {\"dateBefore\": \"2020-03-25T00:00:00\", \"population_size\": 3956971, \"state_population_size\": 142450956, \"severityScore\": 22.299999999999994, \"severityMax\": 22.299999999999994, \"pctStateAffected\": 1.0000000000000002, \"interventionFootprint\": 0.6439774261676416, \"State\": \"Oklahoma\"}, {\"dateBefore\": \"2020-03-28T00:00:00\", \"population_size\": 3956971, \"state_population_size\": 142450956, \"severityScore\": 23.299999999999994, \"severityMax\": 23.299999999999994, \"pctStateAffected\": 1.0, \"interventionFootprint\": 0.7766154970557024, \"State\": \"Oklahoma\"}, {\"dateBefore\": \"2020-03-29T00:00:00\", \"population_size\": 3956971, \"state_population_size\": 142450956, \"severityScore\": 24.09999999999999, \"severityMax\": 24.09999999999999, \"pctStateAffected\": 0.9999999999999996, \"interventionFootprint\": 0.7877584142011654, \"State\": \"Oklahoma\"}, {\"dateBefore\": \"2020-03-30T00:00:00\", \"population_size\": 3956971, \"state_population_size\": 142450956, \"severityScore\": 25.09999999999999, \"severityMax\": 25.09999999999999, \"pctStateAffected\": 1.0, \"interventionFootprint\": 0.80589324511097, \"State\": \"Oklahoma\"}, {\"dateBefore\": \"2020-04-01T00:00:00\", \"population_size\": 3956971, \"state_population_size\": 142450956, \"severityScore\": 26.59999999999999, \"severityMax\": 26.59999999999999, \"pctStateAffected\": 1.0, \"interventionFootprint\": 0.8360617755348726, \"State\": \"Oklahoma\"}, {\"dateBefore\": \"2020-04-04T00:00:00\", \"population_size\": 3956971, \"state_population_size\": 142450956, \"severityScore\": 27.09999999999999, \"severityMax\": 27.09999999999999, \"pctStateAffected\": 1.0, \"interventionFootprint\": 0.8439090657980562, \"State\": \"Oklahoma\"}, {\"dateBefore\": \"2020-04-06T00:00:00\", \"population_size\": 3956971, \"state_population_size\": 142450956, \"severityScore\": 28.09999999999999, \"severityMax\": 28.09999999999999, \"pctStateAffected\": 1.0, \"interventionFootprint\": 0.8477254950819707, \"State\": \"Oklahoma\"}, {\"dateBefore\": \"2020-04-08T00:00:00\", \"population_size\": 3956971, \"state_population_size\": 142450956, \"severityScore\": 28.59999999999999, \"severityMax\": 28.59999999999999, \"pctStateAffected\": 1.0, \"interventionFootprint\": 0.8501859629499435, \"State\": \"Oklahoma\"}, {\"dateBefore\": \"2020-03-09T00:00:00\", \"population_size\": 11689100, \"state_population_size\": 11689100, \"severityScore\": 0.1, \"severityMax\": 0.1, \"pctStateAffected\": 1.0, \"interventionFootprint\": 0.1, \"State\": \"Ohio\"}, {\"dateBefore\": \"2020-03-12T00:00:00\", \"population_size\": 11689100, \"state_population_size\": 11689100, \"severityScore\": 0.2, \"severityMax\": 0.2, \"pctStateAffected\": 1.0, \"interventionFootprint\": 0.2, \"State\": \"Ohio\"}, {\"dateBefore\": \"2020-03-15T00:00:00\", \"population_size\": 11689100, \"state_population_size\": 11689100, \"severityScore\": 0.4, \"severityMax\": 0.4, \"pctStateAffected\": 1.0, \"interventionFootprint\": 0.4, \"State\": \"Ohio\"}, {\"dateBefore\": \"2020-03-16T00:00:00\", \"population_size\": 11689100, \"state_population_size\": 11689100, \"severityScore\": 0.7, \"severityMax\": 0.7, \"pctStateAffected\": 1.0, \"interventionFootprint\": 0.7, \"State\": \"Ohio\"}, {\"dateBefore\": \"2020-03-18T00:00:00\", \"population_size\": 11689100, \"state_population_size\": 11689100, \"severityScore\": 0.7, \"severityMax\": 0.7, \"pctStateAffected\": 1.0, \"interventionFootprint\": 0.7, \"State\": \"Ohio\"}, {\"dateBefore\": \"2020-03-23T00:00:00\", \"population_size\": 11689100, \"state_population_size\": 11689100, \"severityScore\": 1.0, \"severityMax\": 1.0, \"pctStateAffected\": 1.0, \"interventionFootprint\": 1.0, \"State\": \"Ohio\"}, {\"dateBefore\": \"2020-03-13T00:00:00\", \"population_size\": 623989, \"state_population_size\": 1247978, \"severityScore\": 0.2, \"severityMax\": 0.2, \"pctStateAffected\": 1.0, \"interventionFootprint\": 0.10000000000000002, \"State\": \"Vermont\"}, {\"dateBefore\": \"2020-03-15T00:00:00\", \"population_size\": 623989, \"state_population_size\": 1247978, \"severityScore\": 1.0, \"severityMax\": 1.0, \"pctStateAffected\": 1.0, \"interventionFootprint\": 0.5, \"State\": \"Vermont\"}, {\"dateBefore\": \"2020-03-16T00:00:00\", \"population_size\": 623989, \"state_population_size\": 1247978, \"severityScore\": 1.2, \"severityMax\": 1.2, \"pctStateAffected\": 1.0, \"interventionFootprint\": 0.5137499218736228, \"State\": \"Vermont\"}, {\"dateBefore\": \"2020-03-17T00:00:00\", \"population_size\": 623989, \"state_population_size\": 1247978, \"severityScore\": 1.4, \"severityMax\": 1.4, \"pctStateAffected\": 1.0, \"interventionFootprint\": 0.7000000000000001, \"State\": \"Vermont\"}, {\"dateBefore\": \"2020-03-25T00:00:00\", \"population_size\": 623989, \"state_population_size\": 1247978, \"severityScore\": 2.0, \"severityMax\": 2.0, \"pctStateAffected\": 1.0, \"interventionFootprint\": 1.0, \"State\": \"Vermont\"}, {\"dateBefore\": \"2020-03-30T00:00:00\", \"population_size\": 623989, \"state_population_size\": 1247978, \"severityScore\": 2.0, \"severityMax\": 2.0, \"pctStateAffected\": 1.0, \"interventionFootprint\": 1.0, \"State\": \"Vermont\"}, {\"dateBefore\": \"2020-03-10T00:00:00\", \"population_size\": 6892503, \"state_population_size\": 27570012, \"severityScore\": 0.4, \"severityMax\": 0.4, \"pctStateAffected\": 1.0, \"interventionFootprint\": 0.10000000000000002, \"State\": \"Massachusetts\"}, {\"dateBefore\": \"2020-03-13T00:00:00\", \"population_size\": 6892503, \"state_population_size\": 27570012, \"severityScore\": 1.6, \"severityMax\": 1.6, \"pctStateAffected\": 1.0, \"interventionFootprint\": 0.14617701290808288, \"State\": \"Massachusetts\"}, {\"dateBefore\": \"2020-03-17T00:00:00\", \"population_size\": 6892503, \"state_population_size\": 27570012, \"severityScore\": 2.0, \"severityMax\": 2.0, \"pctStateAffected\": 1.0, \"interventionFootprint\": 0.5, \"State\": \"Massachusetts\"}, {\"dateBefore\": \"2020-03-24T00:00:00\", \"population_size\": 6892503, \"state_population_size\": 27570012, \"severityScore\": 4.0, \"severityMax\": 4.0, \"pctStateAffected\": 1.0, \"interventionFootprint\": 1.0, \"State\": \"Massachusetts\"}, {\"dateBefore\": \"2020-03-27T00:00:00\", \"population_size\": 6892503, \"state_population_size\": 27570012, \"severityScore\": 4.0, \"severityMax\": 4.0, \"pctStateAffected\": 1.0, \"interventionFootprint\": 1.0, \"State\": \"Massachusetts\"}, {\"dateBefore\": \"2020-03-13T00:00:00\", \"population_size\": 1934408, \"state_population_size\": 110261256, \"severityScore\": 5.699999999999996, \"severityMax\": 5.699999999999996, \"pctStateAffected\": 1.0, \"interventionFootprint\": 0.1, \"State\": \"Nebraska\"}, {\"dateBefore\": \"2020-03-19T00:00:00\", \"population_size\": 1934408, \"state_population_size\": 110261256, \"severityScore\": 6.8999999999999915, \"severityMax\": 6.8999999999999915, \"pctStateAffected\": 1.0000000000000002, \"interventionFootprint\": 0.26227621060293377, \"State\": \"Nebraska\"}, {\"dateBefore\": \"2020-03-25T00:00:00\", \"population_size\": 1934408, \"state_population_size\": 110261256, \"severityScore\": 8.499999999999984, \"severityMax\": 8.499999999999984, \"pctStateAffected\": 1.0, \"interventionFootprint\": 0.3445674335507299, \"State\": \"Nebraska\"}, {\"dateBefore\": \"2020-03-29T00:00:00\", \"population_size\": 1934408, \"state_population_size\": 110261256, \"severityScore\": 10.099999999999984, \"severityMax\": 10.099999999999984, \"pctStateAffected\": 1.0000000000000002, \"interventionFootprint\": 0.35621420093382594, \"State\": \"Nebraska\"}, {\"dateBefore\": \"2020-03-30T00:00:00\", \"population_size\": 1934408, \"state_population_size\": 110261256, \"severityScore\": 14.899999999999988, \"severityMax\": 14.899999999999988, \"pctStateAffected\": 1.0000000000000002, \"interventionFootprint\": 0.3734980417781566, \"State\": \"Nebraska\"}, {\"dateBefore\": \"2020-03-31T00:00:00\", \"population_size\": 1934408, \"state_population_size\": 110261256, \"severityScore\": 19.300000000000033, \"severityMax\": 19.300000000000033, \"pctStateAffected\": 1.0000000000000002, \"interventionFootprint\": 0.4029298886274253, \"State\": \"Nebraska\"}, {\"dateBefore\": \"2020-04-01T00:00:00\", \"population_size\": 1934408, \"state_population_size\": 110261256, \"severityScore\": 25.30000000000001, \"severityMax\": 25.30000000000001, \"pctStateAffected\": 0.9999999999999999, \"interventionFootprint\": 0.42000880889657194, \"State\": \"Nebraska\"}, {\"dateBefore\": \"2020-04-03T00:00:00\", \"population_size\": 1934408, \"state_population_size\": 110261256, \"severityScore\": 28.5, \"severityMax\": 28.5, \"pctStateAffected\": 0.9999999999999999, \"interventionFootprint\": 0.49999999999999994, \"State\": \"Nebraska\"}, {\"dateBefore\": \"2020-04-28T00:00:00\", \"population_size\": 1934408, \"state_population_size\": 110261256, \"severityScore\": 28.5, \"severityMax\": 28.5, \"pctStateAffected\": 0.9999999999999998, \"interventionFootprint\": 0.4999999999999999, \"State\": \"Nebraska\"}, {\"dateBefore\": \"2020-03-13T00:00:00\", \"population_size\": 5639632, \"state_population_size\": 11279264, \"severityScore\": 0.2, \"severityMax\": 0.2, \"pctStateAffected\": 1.0, \"interventionFootprint\": 0.1, \"State\": \"Minnesota\"}, {\"dateBefore\": \"2020-03-14T00:00:00\", \"population_size\": 5639632, \"state_population_size\": 11279264, \"severityScore\": 0.30000000000000004, \"severityMax\": 0.30000000000000004, \"pctStateAffected\": 1.0, \"interventionFootprint\": 0.1054559410968659, \"State\": \"Minnesota\"}, {\"dateBefore\": \"2020-03-17T00:00:00\", \"population_size\": 5639632, \"state_population_size\": 11279264, \"severityScore\": 1.4, \"severityMax\": 1.4, \"pctStateAffected\": 1.0, \"interventionFootprint\": 0.7000000000000001, \"State\": \"Minnesota\"}, {\"dateBefore\": \"2020-03-18T00:00:00\", \"population_size\": 5639632, \"state_population_size\": 11279264, \"severityScore\": 1.4, \"severityMax\": 1.4, \"pctStateAffected\": 1.0, \"interventionFootprint\": 0.7000000000000001, \"State\": \"Minnesota\"}, {\"dateBefore\": \"2020-03-27T00:00:00\", \"population_size\": 5639632, \"state_population_size\": 11279264, \"severityScore\": 2.0, \"severityMax\": 2.0, \"pctStateAffected\": 1.0, \"interventionFootprint\": 1.0, \"State\": \"Minnesota\"}, {\"dateBefore\": \"2020-03-12T00:00:00\", \"population_size\": 9986857, \"state_population_size\": 9986857, \"severityScore\": 0.5, \"severityMax\": 0.5, \"pctStateAffected\": 1.0, \"interventionFootprint\": 0.5, \"State\": \"Michigan\"}, {\"dateBefore\": \"2020-03-13T00:00:00\", \"population_size\": 9986857, \"state_population_size\": 9986857, \"severityScore\": 0.5, \"severityMax\": 0.5, \"pctStateAffected\": 1.0, \"interventionFootprint\": 0.5, \"State\": \"Michigan\"}, {\"dateBefore\": \"2020-03-16T00:00:00\", \"population_size\": 9986857, \"state_population_size\": 9986857, \"severityScore\": 0.5, \"severityMax\": 0.5, \"pctStateAffected\": 1.0, \"interventionFootprint\": 0.5, \"State\": \"Michigan\"}, {\"dateBefore\": \"2020-03-17T00:00:00\", \"population_size\": 9986857, \"state_population_size\": 9986857, \"severityScore\": 0.5, \"severityMax\": 0.5, \"pctStateAffected\": 1.0, \"interventionFootprint\": 0.5, \"State\": \"Michigan\"}, {\"dateBefore\": \"2020-03-22T00:00:00\", \"population_size\": 9986857, \"state_population_size\": 9986857, \"severityScore\": 0.7, \"severityMax\": 0.7, \"pctStateAffected\": 1.0, \"interventionFootprint\": 0.7, \"State\": \"Michigan\"}, {\"dateBefore\": \"2020-03-24T00:00:00\", \"population_size\": 9986857, \"state_population_size\": 9986857, \"severityScore\": 1.0, \"severityMax\": 1.0, \"pctStateAffected\": 1.0, \"interventionFootprint\": 1.0, \"State\": \"Michigan\"}, {\"dateBefore\": \"2020-03-13T00:00:00\", \"population_size\": 884659, \"state_population_size\": 884659, \"severityScore\": 0.1, \"severityMax\": 0.1, \"pctStateAffected\": 1.0, \"interventionFootprint\": 0.1, \"State\": \"South Dakota\"}, {\"dateBefore\": \"2020-03-16T00:00:00\", \"population_size\": 884659, \"state_population_size\": 884659, \"severityScore\": 0.5, \"severityMax\": 0.5, \"pctStateAffected\": 1.0, \"interventionFootprint\": 0.5, \"State\": \"South Dakota\"}, {\"dateBefore\": \"2020-03-15T00:00:00\", \"population_size\": 694144, \"state_population_size\": 6829174, \"severityScore\": 0.7, \"severityMax\": 0.7, \"pctStateAffected\": 0.1016439176978065, \"interventionFootprint\": 0.07115074238846454, \"State\": \"Tennessee\"}, {\"dateBefore\": \"2020-03-19T00:00:00\", \"population_size\": 874701, \"state_population_size\": 13658348, \"severityScore\": 1.4, \"severityMax\": 1.4, \"pctStateAffected\": 0.1280829863172325, \"interventionFootprint\": 0.08965809042206274, \"State\": \"Tennessee\"}, {\"dateBefore\": \"2020-03-20T00:00:00\", \"population_size\": 1062201, \"state_population_size\": 20487522, \"severityScore\": 2.0999999999999996, \"severityMax\": 2.0999999999999996, \"pctStateAffected\": 0.155538722545362, \"interventionFootprint\": 0.10887710578175339, \"State\": \"Tennessee\"}, {\"dateBefore\": \"2020-03-22T00:00:00\", \"population_size\": 1731254, \"state_population_size\": 27316696, \"severityScore\": 3.4, \"severityMax\": 3.4, \"pctStateAffected\": 0.2535085502287685, \"interventionFootprint\": 0.23734010877450185, \"State\": \"Tennessee\"}, {\"dateBefore\": \"2020-03-24T00:00:00\", \"population_size\": 3789351, \"state_population_size\": 47804218, \"severityScore\": 6.7, \"severityMax\": 6.7, \"pctStateAffected\": 0.5548769148362598, \"interventionFootprint\": 0.546945194250432, \"State\": \"Tennessee\"}, {\"dateBefore\": \"2020-03-25T00:00:00\", \"population_size\": 3870265, \"state_population_size\": 54633392, \"severityScore\": 7.7, \"severityMax\": 7.7, \"pctStateAffected\": 0.5667251998557952, \"interventionFootprint\": 0.5587934792699674, \"State\": \"Tennessee\"}, {\"dateBefore\": \"2020-03-30T00:00:00\", \"population_size\": 6829174, \"state_population_size\": 61462566, \"severityScore\": 8.4, \"severityMax\": 8.4, \"pctStateAffected\": 1.0, \"interventionFootprint\": 0.8620858393709108, \"State\": \"Tennessee\"}, {\"dateBefore\": \"2020-04-02T00:00:00\", \"population_size\": 6829174, \"state_population_size\": 61462566, \"severityScore\": 9.0, \"severityMax\": 9.0, \"pctStateAffected\": 1.0, \"interventionFootprint\": 1.0, \"State\": \"Tennessee\"}, {\"dateBefore\": \"2020-03-10T00:00:00\", \"population_size\": 5758736, \"state_population_size\": 74863568, \"severityScore\": 1.3, \"severityMax\": 1.3, \"pctStateAffected\": 1.0, \"interventionFootprint\": 0.1, \"State\": \"Colorado\"}, {\"dateBefore\": \"2020-03-18T00:00:00\", \"population_size\": 5758736, \"state_population_size\": 74863568, \"severityScore\": 9.399999999999999, \"severityMax\": 9.399999999999999, \"pctStateAffected\": 1.0, \"interventionFootprint\": 0.7004260830848991, \"State\": \"Colorado\"}, {\"dateBefore\": \"2020-03-23T00:00:00\", \"population_size\": 5758736, \"state_population_size\": 74863568, \"severityScore\": 10.299999999999999, \"severityMax\": 10.299999999999999, \"pctStateAffected\": 1.0, \"interventionFootprint\": 0.7442696626481923, \"State\": \"Colorado\"}, {\"dateBefore\": \"2020-03-25T00:00:00\", \"population_size\": 5758736, \"state_population_size\": 74863568, \"severityScore\": 12.7, \"severityMax\": 12.7, \"pctStateAffected\": 1.0, \"interventionFootprint\": 0.9102486899903035, \"State\": \"Colorado\"}, {\"dateBefore\": \"2020-03-26T00:00:00\", \"population_size\": 5758736, \"state_population_size\": 74863568, \"severityScore\": 13.0, \"severityMax\": 13.0, \"pctStateAffected\": 1.0, \"interventionFootprint\": 1.0, \"State\": \"Colorado\"}, {\"dateBefore\": \"2020-03-12T00:00:00\", \"population_size\": 1068778, \"state_population_size\": 1068778, \"severityScore\": 0.1, \"severityMax\": 0.1, \"pctStateAffected\": 1.0, \"interventionFootprint\": 0.1, \"State\": \"Montana\"}, {\"dateBefore\": \"2020-03-16T00:00:00\", \"population_size\": 1068778, \"state_population_size\": 1068778, \"severityScore\": 0.5, \"severityMax\": 0.5, \"pctStateAffected\": 1.0, \"interventionFootprint\": 0.5, \"State\": \"Montana\"}, {\"dateBefore\": \"2020-03-20T00:00:00\", \"population_size\": 1068778, \"state_population_size\": 1068778, \"severityScore\": 0.7, \"severityMax\": 0.7, \"pctStateAffected\": 1.0, \"interventionFootprint\": 0.7, \"State\": \"Montana\"}, {\"dateBefore\": \"2020-03-28T00:00:00\", \"population_size\": 1068778, \"state_population_size\": 1068778, \"severityScore\": 1.0, \"severityMax\": 1.0, \"pctStateAffected\": 1.0, \"interventionFootprint\": 1.0, \"State\": \"Montana\"}, {\"dateBefore\": \"2020-03-11T00:00:00\", \"population_size\": 731545, \"state_population_size\": 1463090, \"severityScore\": 0.2, \"severityMax\": 0.2, \"pctStateAffected\": 1.0, \"interventionFootprint\": 0.1, \"State\": \"Alaska\"}, {\"dateBefore\": \"2020-03-16T00:00:00\", \"population_size\": 731545, \"state_population_size\": 1463090, \"severityScore\": 1.0, \"severityMax\": 1.0, \"pctStateAffected\": 1.0, \"interventionFootprint\": 0.5, \"State\": \"Alaska\"}, {\"dateBefore\": \"2020-03-18T00:00:00\", \"population_size\": 731545, \"state_population_size\": 1463090, \"severityScore\": 1.4, \"severityMax\": 1.4, \"pctStateAffected\": 1.0, \"interventionFootprint\": 0.7, \"State\": \"Alaska\"}, {\"dateBefore\": \"2020-03-22T00:00:00\", \"population_size\": 731545, \"state_population_size\": 1463090, \"severityScore\": 1.7, \"severityMax\": 1.7, \"pctStateAffected\": 1.0, \"interventionFootprint\": 0.8181061998920094, \"State\": \"Alaska\"}, {\"dateBefore\": \"2020-03-25T00:00:00\", \"population_size\": 731545, \"state_population_size\": 1463090, \"severityScore\": 1.7, \"severityMax\": 1.7, \"pctStateAffected\": 1.0, \"interventionFootprint\": 0.8181061998920094, \"State\": \"Alaska\"}, {\"dateBefore\": \"2020-03-10T00:00:00\", \"population_size\": 10488084, \"state_population_size\": 230737848, \"severityScore\": 2.2000000000000006, \"severityMax\": 2.2000000000000006, \"pctStateAffected\": 0.9999999999999999, \"interventionFootprint\": 0.1, \"State\": \"North Carolina\"}, {\"dateBefore\": \"2020-03-14T00:00:00\", \"population_size\": 10488084, \"state_population_size\": 230737848, \"severityScore\": 11.0, \"severityMax\": 11.0, \"pctStateAffected\": 0.9999999999999999, \"interventionFootprint\": 0.49999999999999994, \"State\": \"North Carolina\"}, {\"dateBefore\": \"2020-03-17T00:00:00\", \"population_size\": 10488084, \"state_population_size\": 230737848, \"severityScore\": 11.0, \"severityMax\": 11.0, \"pctStateAffected\": 0.9999999999999999, \"interventionFootprint\": 0.49999999999999994, \"State\": \"North Carolina\"}, {\"dateBefore\": \"2020-03-23T00:00:00\", \"population_size\": 10488084, \"state_population_size\": 230737848, \"severityScore\": 15.399999999999993, \"severityMax\": 15.399999999999993, \"pctStateAffected\": 0.9999999999999999, \"interventionFootprint\": 0.7, \"State\": \"North Carolina\"}, {\"dateBefore\": \"2020-03-25T00:00:00\", \"population_size\": 10488084, \"state_population_size\": 230737848, \"severityScore\": 16.599999999999994, \"severityMax\": 16.599999999999994, \"pctStateAffected\": 1.0, \"interventionFootprint\": 0.714982202659704, \"State\": \"North Carolina\"}, {\"dateBefore\": \"2020-03-26T00:00:00\", \"population_size\": 10488084, \"state_population_size\": 230737848, \"severityScore\": 18.39999999999999, \"severityMax\": 18.39999999999999, \"pctStateAffected\": 1.0, \"interventionFootprint\": 0.7574891276614489, \"State\": \"North Carolina\"}, {\"dateBefore\": \"2020-03-27T00:00:00\", \"population_size\": 10488084, \"state_population_size\": 230737848, \"severityScore\": 21.099999999999998, \"severityMax\": 21.099999999999998, \"pctStateAffected\": 1.0, \"interventionFootprint\": 0.8169877644000563, \"State\": \"North Carolina\"}, {\"dateBefore\": \"2020-03-28T00:00:00\", \"population_size\": 10488084, \"state_population_size\": 230737848, \"severityScore\": 21.7, \"severityMax\": 21.7, \"pctStateAffected\": 0.9999999999999999, \"interventionFootprint\": 0.8222636374765876, \"State\": \"North Carolina\"}, {\"dateBefore\": \"2020-03-30T00:00:00\", \"population_size\": 10488084, \"state_population_size\": 230737848, \"severityScore\": 22.0, \"severityMax\": 22.0, \"pctStateAffected\": 0.9999999999999999, \"interventionFootprint\": 0.9999999999999999, \"State\": \"North Carolina\"}, {\"dateBefore\": \"2020-03-13T00:00:00\", \"population_size\": 28995881, \"state_population_size\": 927868192, \"severityScore\": 3.2000000000000015, \"severityMax\": 3.2000000000000015, \"pctStateAffected\": 0.9999999999999999, \"interventionFootprint\": 0.1, \"State\": \"Texas\"}, {\"dateBefore\": \"2020-03-19T00:00:00\", \"population_size\": 28995881, \"state_population_size\": 927868192, \"severityScore\": 16.0, \"severityMax\": 16.0, \"pctStateAffected\": 0.9999999999999999, \"interventionFootprint\": 0.49999999999999994, \"State\": \"Texas\"}, {\"dateBefore\": \"2020-03-23T00:00:00\", \"population_size\": 28995881, \"state_population_size\": 927868192, \"severityScore\": 31.5, \"severityMax\": 31.5, \"pctStateAffected\": 1.0, \"interventionFootprint\": 0.8155270226140052, \"State\": \"Texas\"}, {\"dateBefore\": \"2020-03-24T00:00:00\", \"population_size\": 28995881, \"state_population_size\": 927868192, \"severityScore\": 31.5, \"severityMax\": 31.5, \"pctStateAffected\": 1.0, \"interventionFootprint\": 0.8155270226140052, \"State\": \"Texas\"}, {\"dateBefore\": \"2020-03-30T00:00:00\", \"population_size\": 28995881, \"state_population_size\": 927868192, \"severityScore\": 32.0, \"severityMax\": 32.0, \"pctStateAffected\": 1.0, \"interventionFootprint\": 1.0, \"State\": \"Texas\"}, {\"dateBefore\": \"2020-03-13T00:00:00\", \"population_size\": 762062, \"state_population_size\": 762062, \"severityScore\": 0.1, \"severityMax\": 0.1, \"pctStateAffected\": 1.0, \"interventionFootprint\": 0.1, \"State\": \"North Dakota\"}, {\"dateBefore\": \"2020-03-19T00:00:00\", \"population_size\": 762062, \"state_population_size\": 762062, \"severityScore\": 0.7, \"severityMax\": 0.7, \"pctStateAffected\": 1.0, \"interventionFootprint\": 0.7, \"State\": \"North Dakota\"}, {\"dateBefore\": \"2020-04-08T00:00:00\", \"population_size\": 762062, \"state_population_size\": 762062, \"severityScore\": 0.7, \"severityMax\": 0.7, \"pctStateAffected\": 1.0, \"interventionFootprint\": 0.7, \"State\": \"North Dakota\"}, {\"dateBefore\": \"2020-03-05T00:00:00\", \"population_size\": 6045680, \"state_population_size\": 6045680, \"severityScore\": 0.1, \"severityMax\": 0.1, \"pctStateAffected\": 1.0, \"interventionFootprint\": 0.1, \"State\": \"Maryland\"}, {\"dateBefore\": \"2020-03-12T00:00:00\", \"population_size\": 6045680, \"state_population_size\": 6045680, \"severityScore\": 0.2, \"severityMax\": 0.2, \"pctStateAffected\": 1.0, \"interventionFootprint\": 0.2, \"State\": \"Maryland\"}, {\"dateBefore\": \"2020-03-15T00:00:00\", \"population_size\": 6045680, \"state_population_size\": 6045680, \"severityScore\": 0.7, \"severityMax\": 0.7, \"pctStateAffected\": 1.0, \"interventionFootprint\": 0.7, \"State\": \"Maryland\"}, {\"dateBefore\": \"2020-03-16T00:00:00\", \"population_size\": 6045680, \"state_population_size\": 6045680, \"severityScore\": 0.7, \"severityMax\": 0.7, \"pctStateAffected\": 1.0, \"interventionFootprint\": 0.7, \"State\": \"Maryland\"}, {\"dateBefore\": \"2020-03-23T00:00:00\", \"population_size\": 6045680, \"state_population_size\": 6045680, \"severityScore\": 0.7, \"severityMax\": 0.7, \"pctStateAffected\": 1.0, \"interventionFootprint\": 0.7, \"State\": \"Maryland\"}, {\"dateBefore\": \"2020-03-30T00:00:00\", \"population_size\": 6045680, \"state_population_size\": 6045680, \"severityScore\": 1.0, \"severityMax\": 1.0, \"pctStateAffected\": 1.0, \"interventionFootprint\": 1.0, \"State\": \"Maryland\"}, {\"dateBefore\": \"2020-03-12T00:00:00\", \"population_size\": 2913314, \"state_population_size\": 55352966, \"severityScore\": 1.9000000000000006, \"severityMax\": 1.9000000000000006, \"pctStateAffected\": 1.0, \"interventionFootprint\": 0.10000000000000003, \"State\": \"Kansas\"}, {\"dateBefore\": \"2020-03-15T00:00:00\", \"population_size\": 2913314, \"state_population_size\": 55352966, \"severityScore\": 9.5, \"severityMax\": 9.5, \"pctStateAffected\": 1.0, \"interventionFootprint\": 0.5, \"State\": \"Kansas\"}, {\"dateBefore\": \"2020-03-16T00:00:00\", \"population_size\": 2913314, \"state_population_size\": 55352966, \"severityScore\": 9.5, \"severityMax\": 9.5, \"pctStateAffected\": 1.0, \"interventionFootprint\": 0.5, \"State\": \"Kansas\"}, {\"dateBefore\": \"2020-03-17T00:00:00\", \"population_size\": 2913314, \"state_population_size\": 55352966, \"severityScore\": 9.5, \"severityMax\": 9.5, \"pctStateAffected\": 1.0, \"interventionFootprint\": 0.5, \"State\": \"Kansas\"}, {\"dateBefore\": \"2020-03-22T00:00:00\", \"population_size\": 2913314, \"state_population_size\": 55352966, \"severityScore\": 11.0, \"severityMax\": 11.0, \"pctStateAffected\": 1.0, \"interventionFootprint\": 0.6458112651090819, \"State\": \"Kansas\"}, {\"dateBefore\": \"2020-03-24T00:00:00\", \"population_size\": 2913314, \"state_population_size\": 55352966, \"severityScore\": 11.5, \"severityMax\": 11.5, \"pctStateAffected\": 0.9999999999999999, \"interventionFootprint\": 0.6667940702581321, \"State\": \"Kansas\"}, {\"dateBefore\": \"2020-03-25T00:00:00\", \"population_size\": 2913314, \"state_population_size\": 55352966, \"severityScore\": 13.5, \"severityMax\": 13.5, \"pctStateAffected\": 1.0, \"interventionFootprint\": 0.7649592525900057, \"State\": \"Kansas\"}, {\"dateBefore\": \"2020-03-26T00:00:00\", \"population_size\": 2913314, \"state_population_size\": 55352966, \"severityScore\": 15.5, \"severityMax\": 15.5, \"pctStateAffected\": 1.0, \"interventionFootprint\": 0.8037207798404153, \"State\": \"Kansas\"}, {\"dateBefore\": \"2020-03-27T00:00:00\", \"population_size\": 2913314, \"state_population_size\": 55352966, \"severityScore\": 16.0, \"severityMax\": 16.0, \"pctStateAffected\": 1.0, \"interventionFootprint\": 0.8076400278171183, \"State\": \"Kansas\"}, {\"dateBefore\": \"2020-03-28T00:00:00\", \"population_size\": 2913314, \"state_population_size\": 55352966, \"severityScore\": 17.5, \"severityMax\": 17.5, \"pctStateAffected\": 1.0, \"interventionFootprint\": 0.8141000249200738, \"State\": \"Kansas\"}, {\"dateBefore\": \"2020-03-30T00:00:00\", \"population_size\": 2913314, \"state_population_size\": 55352966, \"severityScore\": 19.0, \"severityMax\": 19.0, \"pctStateAffected\": 1.0, \"interventionFootprint\": 1.0, \"State\": \"Kansas\"}, {\"dateBefore\": \"2020-03-15T00:00:00\", \"population_size\": 1344212, \"state_population_size\": 5376848, \"severityScore\": 0.4, \"severityMax\": 0.4, \"pctStateAffected\": 1.0, \"interventionFootprint\": 0.1, \"State\": \"Maine\"}, {\"dateBefore\": \"2020-03-23T00:00:00\", \"population_size\": 1344212, \"state_population_size\": 5376848, \"severityScore\": 1.3000000000000003, \"severityMax\": 1.3000000000000003, \"pctStateAffected\": 1.0, \"interventionFootprint\": 0.2975154960675846, \"State\": \"Maine\"}, {\"dateBefore\": \"2020-03-25T00:00:00\", \"population_size\": 1344212, \"state_population_size\": 5376848, \"severityScore\": 2.2, \"severityMax\": 2.2, \"pctStateAffected\": 1.0, \"interventionFootprint\": 0.3419841513094661, \"State\": \"Maine\"}, {\"dateBefore\": \"2020-03-26T00:00:00\", \"population_size\": 1344212, \"state_population_size\": 5376848, \"severityScore\": 3.1, \"severityMax\": 3.1, \"pctStateAffected\": 1.0, \"interventionFootprint\": 0.35912832202063366, \"State\": \"Maine\"}, {\"dateBefore\": \"2020-03-31T00:00:00\", \"population_size\": 1344212, \"state_population_size\": 5376848, \"severityScore\": 4.0, \"severityMax\": 4.0, \"pctStateAffected\": 1.0, \"interventionFootprint\": 1.0, \"State\": \"Maine\"}, {\"dateBefore\": \"2020-03-01T00:00:00\", \"population_size\": 21477737, \"state_population_size\": 644332110, \"severityScore\": 3.0000000000000013, \"severityMax\": 3.0000000000000013, \"pctStateAffected\": 1.0, \"interventionFootprint\": 0.1, \"State\": \"Florida\"}, {\"dateBefore\": \"2020-03-17T00:00:00\", \"population_size\": 21477737, \"state_population_size\": 644332110, \"severityScore\": 20.99999999999999, \"severityMax\": 20.99999999999999, \"pctStateAffected\": 1.0, \"interventionFootprint\": 0.7, \"State\": \"Florida\"}, {\"dateBefore\": \"2020-03-24T00:00:00\", \"population_size\": 21477737, \"state_population_size\": 644332110, \"severityScore\": 21.599999999999987, \"severityMax\": 21.599999999999987, \"pctStateAffected\": 1.0, \"interventionFootprint\": 0.7050390923401288, \"State\": \"Florida\"}, {\"dateBefore\": \"2020-03-25T00:00:00\", \"population_size\": 21477737, \"state_population_size\": 644332110, \"severityScore\": 22.19999999999999, \"severityMax\": 22.19999999999999, \"pctStateAffected\": 1.0, \"interventionFootprint\": 0.7100033862971689, \"State\": \"Florida\"}, {\"dateBefore\": \"2020-03-26T00:00:00\", \"population_size\": 21477737, \"state_population_size\": 644332110, \"severityScore\": 23.999999999999986, \"severityMax\": 23.999999999999986, \"pctStateAffected\": 1.0, \"interventionFootprint\": 0.7319625573215651, \"State\": \"Florida\"}, {\"dateBefore\": \"2020-03-27T00:00:00\", \"population_size\": 21477737, \"state_population_size\": 644332110, \"severityScore\": 24.899999999999988, \"severityMax\": 24.899999999999988, \"pctStateAffected\": 1.0, \"interventionFootprint\": 0.7816640645148043, \"State\": \"Florida\"}, {\"dateBefore\": \"2020-03-28T00:00:00\", \"population_size\": 21477737, \"state_population_size\": 644332110, \"severityScore\": 28.199999999999996, \"severityMax\": 28.199999999999996, \"pctStateAffected\": 1.0, \"interventionFootprint\": 0.7956957104000296, \"State\": \"Florida\"}, {\"dateBefore\": \"2020-03-30T00:00:00\", \"population_size\": 21477737, \"state_population_size\": 644332110, \"severityScore\": 29.4, \"severityMax\": 29.4, \"pctStateAffected\": 1.0000000000000002, \"interventionFootprint\": 0.8565582118823787, \"State\": \"Florida\"}, {\"dateBefore\": \"2020-03-31T00:00:00\", \"population_size\": 21477737, \"state_population_size\": 644332110, \"severityScore\": 29.7, \"severityMax\": 29.7, \"pctStateAffected\": 1.0000000000000002, \"interventionFootprint\": 0.8584078480893962, \"State\": \"Florida\"}, {\"dateBefore\": \"2020-04-01T00:00:00\", \"population_size\": 21477737, \"state_population_size\": 644332110, \"severityScore\": 30.0, \"severityMax\": 30.0, \"pctStateAffected\": 1.0000000000000002, \"interventionFootprint\": 1.0000000000000002, \"State\": \"Florida\"}, {\"dateBefore\": \"2020-03-12T00:00:00\", \"population_size\": 3080156, \"state_population_size\": 3080156, \"severityScore\": 0.1, \"severityMax\": 0.1, \"pctStateAffected\": 1.0, \"interventionFootprint\": 0.1, \"State\": \"Nevada\"}, {\"dateBefore\": \"2020-03-15T00:00:00\", \"population_size\": 3080156, \"state_population_size\": 3080156, \"severityScore\": 0.5, \"severityMax\": 0.5, \"pctStateAffected\": 1.0, \"interventionFootprint\": 0.5, \"State\": \"Nevada\"}, {\"dateBefore\": \"2020-03-17T00:00:00\", \"population_size\": 3080156, \"state_population_size\": 3080156, \"severityScore\": 0.7, \"severityMax\": 0.7, \"pctStateAffected\": 1.0, \"interventionFootprint\": 0.7, \"State\": \"Nevada\"}, {\"dateBefore\": \"2020-03-24T00:00:00\", \"population_size\": 3080156, \"state_population_size\": 3080156, \"severityScore\": 0.7, \"severityMax\": 0.7, \"pctStateAffected\": 1.0, \"interventionFootprint\": 0.7, \"State\": \"Nevada\"}, {\"dateBefore\": \"2020-03-10T00:00:00\", \"population_size\": 3565287, \"state_population_size\": 3565287, \"severityScore\": 0.1, \"severityMax\": 0.1, \"pctStateAffected\": 1.0, \"interventionFootprint\": 0.1, \"State\": \"Connecticut\"}, {\"dateBefore\": \"2020-03-13T00:00:00\", \"population_size\": 3565287, \"state_population_size\": 3565287, \"severityScore\": 0.5, \"severityMax\": 0.5, \"pctStateAffected\": 1.0, \"interventionFootprint\": 0.5, \"State\": \"Connecticut\"}, {\"dateBefore\": \"2020-03-09T00:00:00\", \"population_size\": 1059361, \"state_population_size\": 1059361, \"severityScore\": 0.1, \"severityMax\": 0.1, \"pctStateAffected\": 1.0, \"interventionFootprint\": 0.1, \"State\": \"Rhode Island\"}, {\"dateBefore\": \"2020-03-16T00:00:00\", \"population_size\": 1059361, \"state_population_size\": 1059361, \"severityScore\": 0.5, \"severityMax\": 0.5, \"pctStateAffected\": 1.0, \"interventionFootprint\": 0.5, \"State\": \"Rhode Island\"}, {\"dateBefore\": \"2020-03-17T00:00:00\", \"population_size\": 1059361, \"state_population_size\": 1059361, \"severityScore\": 0.5, \"severityMax\": 0.5, \"pctStateAffected\": 1.0, \"interventionFootprint\": 0.5, \"State\": \"Rhode Island\"}, {\"dateBefore\": \"2020-03-26T00:00:00\", \"population_size\": 1059361, \"state_population_size\": 1059361, \"severityScore\": 0.5, \"severityMax\": 0.5, \"pctStateAffected\": 1.0, \"interventionFootprint\": 0.5, \"State\": \"Rhode Island\"}, {\"dateBefore\": \"2020-03-28T00:00:00\", \"population_size\": 1059361, \"state_population_size\": 1059361, \"severityScore\": 1.0, \"severityMax\": 1.0, \"pctStateAffected\": 1.0, \"interventionFootprint\": 1.0, \"State\": \"Rhode Island\"}, {\"dateBefore\": \"2020-03-13T00:00:00\", \"population_size\": 10617423, \"state_population_size\": 307905267, \"severityScore\": 2.9000000000000012, \"severityMax\": 2.9000000000000012, \"pctStateAffected\": 0.9999999999999998, \"interventionFootprint\": 0.09999999999999999, \"State\": \"Georgia\"}, {\"dateBefore\": \"2020-03-18T00:00:00\", \"population_size\": 10617423, \"state_population_size\": 307905267, \"severityScore\": 14.5, \"severityMax\": 14.5, \"pctStateAffected\": 0.9999999999999998, \"interventionFootprint\": 0.4999999999999999, \"State\": \"Georgia\"}, {\"dateBefore\": \"2020-03-19T00:00:00\", \"population_size\": 10617423, \"state_population_size\": 307905267, \"severityScore\": 15.0, \"severityMax\": 15.0, \"pctStateAffected\": 0.9999999999999998, \"interventionFootprint\": 0.5059319478935707, \"State\": \"Georgia\"}, {\"dateBefore\": \"2020-03-22T00:00:00\", \"population_size\": 10617423, \"state_population_size\": 307905267, \"severityScore\": 15.5, \"severityMax\": 15.5, \"pctStateAffected\": 0.9999999999999999, \"interventionFootprint\": 0.5100740076005259, \"State\": \"Georgia\"}, {\"dateBefore\": \"2020-03-23T00:00:00\", \"population_size\": 10617423, \"state_population_size\": 307905267, \"severityScore\": 20.899999999999988, \"severityMax\": 20.899999999999988, \"pctStateAffected\": 0.9999999999999999, \"interventionFootprint\": 0.7060444045603156, \"State\": \"Georgia\"}, {\"dateBefore\": \"2020-03-24T00:00:00\", \"population_size\": 10617423, \"state_population_size\": 307905267, \"severityScore\": 23.899999999999988, \"severityMax\": 23.899999999999988, \"pctStateAffected\": 0.9999999999999999, \"interventionFootprint\": 0.7381089366035429, \"State\": \"Georgia\"}, {\"dateBefore\": \"2020-03-25T00:00:00\", \"population_size\": 10617423, \"state_population_size\": 307905267, \"severityScore\": 24.79999999999999, \"severityMax\": 24.79999999999999, \"pctStateAffected\": 0.9999999999999999, \"interventionFootprint\": 0.763198216742424, \"State\": \"Georgia\"}, {\"dateBefore\": \"2020-03-26T00:00:00\", \"population_size\": 10617423, \"state_population_size\": 307905267, \"severityScore\": 25.699999999999992, \"severityMax\": 25.699999999999992, \"pctStateAffected\": 1.0, \"interventionFootprint\": 0.7712908584314668, \"State\": \"Georgia\"}, {\"dateBefore\": \"2020-03-27T00:00:00\", \"population_size\": 10617423, \"state_population_size\": 307905267, \"severityScore\": 26.599999999999994, \"severityMax\": 26.599999999999994, \"pctStateAffected\": 0.9999999999999999, \"interventionFootprint\": 0.7752298085891463, \"State\": \"Georgia\"}, {\"dateBefore\": \"2020-03-28T00:00:00\", \"population_size\": 10617423, \"state_population_size\": 307905267, \"severityScore\": 28.099999999999998, \"severityMax\": 28.099999999999998, \"pctStateAffected\": 0.9999999999999999, \"interventionFootprint\": 0.8254632409389735, \"State\": \"Georgia\"}, {\"dateBefore\": \"2020-03-30T00:00:00\", \"population_size\": 10617423, \"state_population_size\": 307905267, \"severityScore\": 28.4, \"severityMax\": 28.4, \"pctStateAffected\": 0.9999999999999999, \"interventionFootprint\": 0.8260301299100543, \"State\": \"Georgia\"}, {\"dateBefore\": \"2020-04-01T00:00:00\", \"population_size\": 10617423, \"state_population_size\": 307905267, \"severityScore\": 28.7, \"severityMax\": 28.7, \"pctStateAffected\": 1.0, \"interventionFootprint\": 0.8560921421327943, \"State\": \"Georgia\"}, {\"dateBefore\": \"2020-04-02T00:00:00\", \"population_size\": 10617423, \"state_population_size\": 307905267, \"severityScore\": 29.0, \"severityMax\": 29.0, \"pctStateAffected\": 1.0, \"interventionFootprint\": 1.0, \"State\": \"Georgia\"}, {\"dateBefore\": \"2020-03-07T00:00:00\", \"population_size\": 19453561, \"state_population_size\": 194535610, \"severityScore\": 0.9999999999999999, \"severityMax\": 0.9999999999999999, \"pctStateAffected\": 1.0, \"interventionFootprint\": 0.1, \"State\": \"New York\"}, {\"dateBefore\": \"2020-03-08T00:00:00\", \"population_size\": 19453561, \"state_population_size\": 194535610, \"severityScore\": 1.4000000000000001, \"severityMax\": 1.4000000000000001, \"pctStateAffected\": 0.9999999999999999, \"interventionFootprint\": 0.1198936534036108, \"State\": \"New York\"}, {\"dateBefore\": \"2020-03-12T00:00:00\", \"population_size\": 19453561, \"state_population_size\": 194535610, \"severityScore\": 2.3, \"severityMax\": 2.3, \"pctStateAffected\": 0.9999999999999999, \"interventionFootprint\": 0.2149202400527081, \"State\": \"New York\"}, {\"dateBefore\": \"2020-03-13T00:00:00\", \"population_size\": 19453561, \"state_population_size\": 194535610, \"severityScore\": 3.8000000000000007, \"severityMax\": 3.8000000000000007, \"pctStateAffected\": 1.0, \"interventionFootprint\": 0.2350140933066188, \"State\": \"New York\"}, {\"dateBefore\": \"2020-03-16T00:00:00\", \"population_size\": 19453561, \"state_population_size\": 194535610, \"severityScore\": 4.7, \"severityMax\": 4.7, \"pctStateAffected\": 1.0, \"interventionFootprint\": 0.2936310889301964, \"State\": \"New York\"}, {\"dateBefore\": \"2020-03-22T00:00:00\", \"population_size\": 19453561, \"state_population_size\": 194535610, \"severityScore\": 10.0, \"severityMax\": 10.0, \"pctStateAffected\": 1.0, \"interventionFootprint\": 1.0, \"State\": \"New York\"}, {\"dateBefore\": \"2020-03-13T00:00:00\", \"population_size\": 12801989, \"state_population_size\": 435267626, \"severityScore\": 17.0, \"severityMax\": 17.0, \"pctStateAffected\": 0.9999999999999999, \"interventionFootprint\": 0.49999999999999994, \"State\": \"Pennsylvania\"}, {\"dateBefore\": \"2020-03-16T00:00:00\", \"population_size\": 12801989, \"state_population_size\": 435267626, \"severityScore\": 23.799999999999986, \"severityMax\": 23.799999999999986, \"pctStateAffected\": 0.9999999999999999, \"interventionFootprint\": 0.7, \"State\": \"Pennsylvania\"}, {\"dateBefore\": \"2020-03-23T00:00:00\", \"population_size\": 12801989, \"state_population_size\": 435267626, \"severityScore\": 25.899999999999984, \"severityMax\": 25.899999999999984, \"pctStateAffected\": 1.0, \"interventionFootprint\": 0.8293871210168982, \"State\": \"Pennsylvania\"}, {\"dateBefore\": \"2020-03-25T00:00:00\", \"population_size\": 12801989, \"state_population_size\": 435267626, \"severityScore\": 26.799999999999983, \"severityMax\": 26.799999999999983, \"pctStateAffected\": 0.9999999999999999, \"interventionFootprint\": 0.8515164401406687, \"State\": \"Pennsylvania\"}, {\"dateBefore\": \"2020-03-27T00:00:00\", \"population_size\": 12801989, \"state_population_size\": 435267626, \"severityScore\": 29.49999999999999, \"severityMax\": 29.49999999999999, \"pctStateAffected\": 1.0, \"interventionFootprint\": 0.9121388715456638, \"State\": \"Pennsylvania\"}, {\"dateBefore\": \"2020-03-28T00:00:00\", \"population_size\": 12801989, \"state_population_size\": 435267626, \"severityScore\": 30.39999999999999, \"severityMax\": 30.39999999999999, \"pctStateAffected\": 1.0, \"interventionFootprint\": 0.9246333128391222, \"State\": \"Pennsylvania\"}, {\"dateBefore\": \"2020-03-30T00:00:00\", \"population_size\": 12801989, \"state_population_size\": 435267626, \"severityScore\": 31.599999999999994, \"severityMax\": 31.599999999999994, \"pctStateAffected\": 0.9999999999999999, \"interventionFootprint\": 0.9419089877362026, \"State\": \"Pennsylvania\"}, {\"dateBefore\": \"2020-03-31T00:00:00\", \"population_size\": 12801989, \"state_population_size\": 435267626, \"severityScore\": 33.7, \"severityMax\": 33.7, \"pctStateAffected\": 1.0, \"interventionFootprint\": 0.9548468679359121, \"State\": \"Pennsylvania\"}, {\"dateBefore\": \"2020-04-01T00:00:00\", \"population_size\": 12801989, \"state_population_size\": 435267626, \"severityScore\": 34.0, \"severityMax\": 34.0, \"pctStateAffected\": 1.0, \"interventionFootprint\": 1.0, \"State\": \"Pennsylvania\"}, {\"dateBefore\": \"2020-03-11T00:00:00\", \"population_size\": 4648794, \"state_population_size\": 9297588, \"severityScore\": 0.2, \"severityMax\": 0.2, \"pctStateAffected\": 1.0, \"interventionFootprint\": 0.1, \"State\": \"Louisiana\"}, {\"dateBefore\": \"2020-03-16T00:00:00\", \"population_size\": 4648794, \"state_population_size\": 9297588, \"severityScore\": 1.4, \"severityMax\": 1.4, \"pctStateAffected\": 1.0, \"interventionFootprint\": 0.7, \"State\": \"Louisiana\"}, {\"dateBefore\": \"2020-03-20T00:00:00\", \"population_size\": 4648794, \"state_population_size\": 9297588, \"severityScore\": 1.7, \"severityMax\": 1.7, \"pctStateAffected\": 1.0, \"interventionFootprint\": 0.7252327377810245, \"State\": \"Louisiana\"}, {\"dateBefore\": \"2020-03-23T00:00:00\", \"population_size\": 4648794, \"state_population_size\": 9297588, \"severityScore\": 2.0, \"severityMax\": 2.0, \"pctStateAffected\": 1.0, \"interventionFootprint\": 1.0, \"State\": \"Louisiana\"}, {\"dateBefore\": \"2020-03-06T00:00:00\", \"population_size\": 4467673, \"state_population_size\": 4467673, \"severityScore\": 0.1, \"severityMax\": 0.1, \"pctStateAffected\": 1.0, \"interventionFootprint\": 0.1, \"State\": \"Kentucky\"}, {\"dateBefore\": \"2020-03-16T00:00:00\", \"population_size\": 4467673, \"state_population_size\": 4467673, \"severityScore\": 0.5, \"severityMax\": 0.5, \"pctStateAffected\": 1.0, \"interventionFootprint\": 0.5, \"State\": \"Kentucky\"}, {\"dateBefore\": \"2020-03-17T00:00:00\", \"population_size\": 4467673, \"state_population_size\": 4467673, \"severityScore\": 0.7, \"severityMax\": 0.7, \"pctStateAffected\": 1.0, \"interventionFootprint\": 0.7, \"State\": \"Kentucky\"}, {\"dateBefore\": \"2020-03-23T00:00:00\", \"population_size\": 4467673, \"state_population_size\": 4467673, \"severityScore\": 0.7, \"severityMax\": 0.7, \"pctStateAffected\": 1.0, \"interventionFootprint\": 0.7, \"State\": \"Kentucky\"}, {\"dateBefore\": \"2020-04-01T00:00:00\", \"population_size\": 4467673, \"state_population_size\": 4467673, \"severityScore\": 0.7, \"severityMax\": 0.7, \"pctStateAffected\": 1.0, \"interventionFootprint\": 0.7, \"State\": \"Kentucky\"}, {\"dateBefore\": \"2020-02-28T00:00:00\", \"population_size\": 4217737, \"state_population_size\": 4217737, \"severityScore\": 0.2, \"severityMax\": 0.2, \"pctStateAffected\": 1.0, \"interventionFootprint\": 0.2, \"State\": \"Oregon\"}, {\"dateBefore\": \"2020-03-08T00:00:00\", \"population_size\": 4217737, \"state_population_size\": 4217737, \"severityScore\": 0.2, \"severityMax\": 0.2, \"pctStateAffected\": 1.0, \"interventionFootprint\": 0.2, \"State\": \"Oregon\"}, {\"dateBefore\": \"2020-03-12T00:00:00\", \"population_size\": 4217737, \"state_population_size\": 4217737, \"severityScore\": 0.5, \"severityMax\": 0.5, \"pctStateAffected\": 1.0, \"interventionFootprint\": 0.5, \"State\": \"Oregon\"}, {\"dateBefore\": \"2020-03-23T00:00:00\", \"population_size\": 4217737, \"state_population_size\": 4217737, \"severityScore\": 1.0, \"severityMax\": 1.0, \"pctStateAffected\": 1.0, \"interventionFootprint\": 1.0, \"State\": \"Oregon\"}, {\"dateBefore\": \"2020-03-13T00:00:00\", \"population_size\": 1359711, \"state_population_size\": 1359711, \"severityScore\": 0.1, \"severityMax\": 0.1, \"pctStateAffected\": 1.0, \"interventionFootprint\": 0.1, \"State\": \"New Hampshire\"}, {\"dateBefore\": \"2020-03-15T00:00:00\", \"population_size\": 1359711, \"state_population_size\": 1359711, \"severityScore\": 0.5, \"severityMax\": 0.5, \"pctStateAffected\": 1.0, \"interventionFootprint\": 0.5, \"State\": \"New Hampshire\"}, {\"dateBefore\": \"2020-03-16T00:00:00\", \"population_size\": 1359711, \"state_population_size\": 1359711, \"severityScore\": 0.5, \"severityMax\": 0.5, \"pctStateAffected\": 1.0, \"interventionFootprint\": 0.5, \"State\": \"New Hampshire\"}, {\"dateBefore\": \"2020-03-27T00:00:00\", \"population_size\": 1359711, \"state_population_size\": 1359711, \"severityScore\": 1.0, \"severityMax\": 1.0, \"pctStateAffected\": 1.0, \"interventionFootprint\": 1.0, \"State\": \"New Hampshire\"}, {\"dateBefore\": \"2020-03-13T00:00:00\", \"population_size\": 1787065, \"state_population_size\": 3574130, \"severityScore\": 0.2, \"severityMax\": 0.2, \"pctStateAffected\": 1.0, \"interventionFootprint\": 0.09999999999999999, \"State\": \"Idaho\"}, {\"dateBefore\": \"2020-03-17T00:00:00\", \"population_size\": 1787065, \"state_population_size\": 3574130, \"severityScore\": 1.1, \"severityMax\": 1.1, \"pctStateAffected\": 1.0, \"interventionFootprint\": 0.11159381443875852, \"State\": \"Idaho\"}, {\"dateBefore\": \"2020-03-23T00:00:00\", \"population_size\": 1787065, \"state_population_size\": 3574130, \"severityScore\": 1.5, \"severityMax\": 1.5, \"pctStateAffected\": 1.0, \"interventionFootprint\": 0.5064410080215325, \"State\": \"Idaho\"}, {\"dateBefore\": \"2020-03-25T00:00:00\", \"population_size\": 1787065, \"state_population_size\": 3574130, \"severityScore\": 2.0, \"severityMax\": 2.0, \"pctStateAffected\": 1.0, \"interventionFootprint\": 1.0, \"State\": \"Idaho\"}, {\"dateBefore\": \"2020-03-11T00:00:00\", \"population_size\": 2096829, \"state_population_size\": 2096829, \"severityScore\": 0.1, \"severityMax\": 0.1, \"pctStateAffected\": 1.0, \"interventionFootprint\": 0.1, \"State\": \"New Mexico\"}, {\"dateBefore\": \"2020-03-24T00:00:00\", \"population_size\": 2096829, \"state_population_size\": 2096829, \"severityScore\": 1.0, \"severityMax\": 1.0, \"pctStateAffected\": 1.0, \"interventionFootprint\": 1.0, \"State\": \"New Mexico\"}, {\"dateBefore\": \"2020-03-09T00:00:00\", \"population_size\": 8882190, \"state_population_size\": 17764380, \"severityScore\": 0.2, \"severityMax\": 0.2, \"pctStateAffected\": 1.0, \"interventionFootprint\": 0.1, \"State\": \"New Jersey\"}, {\"dateBefore\": \"2020-03-10T00:00:00\", \"population_size\": 8882190, \"state_population_size\": 17764380, \"severityScore\": 1.0, \"severityMax\": 1.0, \"pctStateAffected\": 1.0, \"interventionFootprint\": 0.5, \"State\": \"New Jersey\"}, {\"dateBefore\": \"2020-03-14T00:00:00\", \"population_size\": 8882190, \"state_population_size\": 17764380, \"severityScore\": 1.5, \"severityMax\": 1.5, \"pctStateAffected\": 1.0, \"interventionFootprint\": 0.5030091114916478, \"State\": \"New Jersey\"}, {\"dateBefore\": \"2020-03-16T00:00:00\", \"population_size\": 8882190, \"state_population_size\": 17764380, \"severityScore\": 2.0, \"severityMax\": 2.0, \"pctStateAffected\": 1.0, \"interventionFootprint\": 1.0, \"State\": \"New Jersey\"}, {\"dateBefore\": \"2020-03-21T00:00:00\", \"population_size\": 8882190, \"state_population_size\": 17764380, \"severityScore\": 2.0, \"severityMax\": 2.0, \"pctStateAffected\": 1.0, \"interventionFootprint\": 1.0, \"State\": \"New Jersey\"}, {\"dateBefore\": \"2020-03-12T00:00:00\", \"population_size\": 973764, \"state_population_size\": 973764, \"severityScore\": 0.1, \"severityMax\": 0.1, \"pctStateAffected\": 1.0, \"interventionFootprint\": 0.1, \"State\": \"Delaware\"}, {\"dateBefore\": \"2020-03-13T00:00:00\", \"population_size\": 973764, \"state_population_size\": 973764, \"severityScore\": 0.5, \"severityMax\": 0.5, \"pctStateAffected\": 1.0, \"interventionFootprint\": 0.5, \"State\": \"Delaware\"}, {\"dateBefore\": \"2020-03-23T00:00:00\", \"population_size\": 973764, \"state_population_size\": 973764, \"severityScore\": 1.0, \"severityMax\": 1.0, \"pctStateAffected\": 1.0, \"interventionFootprint\": 1.0, \"State\": \"Delaware\"}, {\"dateBefore\": \"2020-03-09T00:00:00\", \"population_size\": 12671821, \"state_population_size\": 12671821, \"severityScore\": 0.1, \"severityMax\": 0.1, \"pctStateAffected\": 1.0, \"interventionFootprint\": 0.1, \"State\": \"Illinois\"}, {\"dateBefore\": \"2020-03-15T00:00:00\", \"population_size\": 12671821, \"state_population_size\": 12671821, \"severityScore\": 0.4, \"severityMax\": 0.4, \"pctStateAffected\": 1.0, \"interventionFootprint\": 0.4, \"State\": \"Illinois\"}, {\"dateBefore\": \"2020-03-16T00:00:00\", \"population_size\": 12671821, \"state_population_size\": 12671821, \"severityScore\": 0.4, \"severityMax\": 0.4, \"pctStateAffected\": 1.0, \"interventionFootprint\": 0.4, \"State\": \"Illinois\"}, {\"dateBefore\": \"2020-03-17T00:00:00\", \"population_size\": 12671821, \"state_population_size\": 12671821, \"severityScore\": 0.5, \"severityMax\": 0.5, \"pctStateAffected\": 1.0, \"interventionFootprint\": 0.5, \"State\": \"Illinois\"}, {\"dateBefore\": \"2020-03-21T00:00:00\", \"population_size\": 12671821, \"state_population_size\": 12671821, \"severityScore\": 1.0, \"severityMax\": 1.0, \"pctStateAffected\": 1.0, \"interventionFootprint\": 1.0, \"State\": \"Illinois\"}, {\"dateBefore\": \"2020-03-06T00:00:00\", \"population_size\": 6732219, \"state_population_size\": 6732219, \"severityScore\": 0.1, \"severityMax\": 0.1, \"pctStateAffected\": 1.0, \"interventionFootprint\": 0.1, \"State\": \"Indiana\"}, {\"dateBefore\": \"2020-03-16T00:00:00\", \"population_size\": 6732219, \"state_population_size\": 6732219, \"severityScore\": 0.4, \"severityMax\": 0.4, \"pctStateAffected\": 1.0, \"interventionFootprint\": 0.4, \"State\": \"Indiana\"}, {\"dateBefore\": \"2020-03-19T00:00:00\", \"population_size\": 6732219, \"state_population_size\": 6732219, \"severityScore\": 0.5, \"severityMax\": 0.5, \"pctStateAffected\": 1.0, \"interventionFootprint\": 0.5, \"State\": \"Indiana\"}, {\"dateBefore\": \"2020-03-25T00:00:00\", \"population_size\": 6732219, \"state_population_size\": 6732219, \"severityScore\": 1.0, \"severityMax\": 1.0, \"pctStateAffected\": 1.0, \"interventionFootprint\": 1.0, \"State\": \"Indiana\"}, {\"dateBefore\": \"2020-03-04T00:00:00\", \"population_size\": 1415872, \"state_population_size\": 5663488, \"severityScore\": 0.4, \"severityMax\": 0.4, \"pctStateAffected\": 1.0, \"interventionFootprint\": 0.09999999999999998, \"State\": \"Hawaii\"}, {\"dateBefore\": \"2020-03-16T00:00:00\", \"population_size\": 1415872, \"state_population_size\": 5663488, \"severityScore\": 2.0, \"severityMax\": 2.0, \"pctStateAffected\": 1.0, \"interventionFootprint\": 0.5, \"State\": \"Hawaii\"}, {\"dateBefore\": \"2020-03-19T00:00:00\", \"population_size\": 1415872, \"state_population_size\": 5663488, \"severityScore\": 2.0, \"severityMax\": 2.0, \"pctStateAffected\": 1.0, \"interventionFootprint\": 0.5, \"State\": \"Hawaii\"}, {\"dateBefore\": \"2020-03-20T00:00:00\", \"population_size\": 1415872, \"state_population_size\": 5663488, \"severityScore\": 2.5, \"severityMax\": 2.5, \"pctStateAffected\": 1.0, \"interventionFootprint\": 0.5255294970166795, \"State\": \"Hawaii\"}, {\"dateBefore\": \"2020-03-21T00:00:00\", \"population_size\": 1415872, \"state_population_size\": 5663488, \"severityScore\": 2.5, \"severityMax\": 2.5, \"pctStateAffected\": 1.0, \"interventionFootprint\": 0.5255294970166795, \"State\": \"Hawaii\"}, {\"dateBefore\": \"2020-03-22T00:00:00\", \"population_size\": 1415872, \"state_population_size\": 5663488, \"severityScore\": 3.0, \"severityMax\": 3.0, \"pctStateAffected\": 1.0, \"interventionFootprint\": 0.8696859603127967, \"State\": \"Hawaii\"}, {\"dateBefore\": \"2020-03-25T00:00:00\", \"population_size\": 1415872, \"state_population_size\": 5663488, \"severityScore\": 4.0, \"severityMax\": 4.0, \"pctStateAffected\": 1.0, \"interventionFootprint\": 1.0, \"State\": \"Hawaii\"}, {\"dateBefore\": \"2020-03-09T00:00:00\", \"population_size\": 3155070, \"state_population_size\": 3155070, \"severityScore\": 0.1, \"severityMax\": 0.1, \"pctStateAffected\": 1.0, \"interventionFootprint\": 0.1, \"State\": \"Iowa\"}, {\"dateBefore\": \"2020-03-15T00:00:00\", \"population_size\": 3155070, \"state_population_size\": 3155070, \"severityScore\": 0.5, \"severityMax\": 0.5, \"pctStateAffected\": 1.0, \"interventionFootprint\": 0.5, \"State\": \"Iowa\"}]}}, {\"mode\": \"vega-lite\"});\n",
       "</script>"
      ],
      "text/plain": [
       "alt.Chart(...)"
      ]
     },
     "execution_count": 108,
     "metadata": {},
     "output_type": "execute_result"
    }
   ],
   "source": [
    "domain_pd = pd.to_datetime(['2020-03-01', '2020-04-01']).astype(int) / 10 ** 6\n",
    "chart = alt.Chart(df_all).mark_line().encode(\n",
    "        x = alt.X(\"dateBefore\", scale=alt.Scale(domain=list(domain_pd))),\n",
    "        y = alt.Y(\"interventionFootprint\", scale=alt.Scale(0,1)),\n",
    "        facet=alt.Facet('State:O', columns=4),\n",
    "    )\n",
    "chart.properties(width=150,height=100).interactive()"
   ]
  },
  {
   "cell_type": "code",
   "execution_count": 96,
   "metadata": {},
   "outputs": [],
   "source": [
    "# domain_pd = pd.to_datetime(['2020-03-01', '2020-04-01']).astype(int) / 10 ** 6\n",
    "# chart = alt.Chart().mark_line().encode(\n",
    "#         x = alt.X(\"dateBefore\", scale=alt.Scale(domain=list(domain_pd))),\n",
    "#         y = \"interventionFootprint\",\n",
    "#     )\n",
    "# chart2 = alt.Chart().mark_point().encode(\n",
    "#         x = alt.X(\"dateBefore\", scale=alt.Scale(domain=list(domain_pd))),\n",
    "#         y = \"interventionFootprint\"\n",
    "#     )\n",
    "# # alt.layer(chart2).facet(data=df_all,columns='State')\n",
    "# # alt.layer(chart,chart2,data=df_all).facet(column='State')"
   ]
  },
  {
   "cell_type": "code",
   "execution_count": null,
   "metadata": {},
   "outputs": [],
   "source": []
  }
 ],
 "metadata": {
  "kernelspec": {
   "display_name": "Python 3",
   "language": "python",
   "name": "python3"
  },
  "language_info": {
   "codemirror_mode": {
    "name": "ipython",
    "version": 3
   },
   "file_extension": ".py",
   "mimetype": "text/x-python",
   "name": "python",
   "nbconvert_exporter": "python",
   "pygments_lexer": "ipython3",
   "version": "3.7.7"
  }
 },
 "nbformat": 4,
 "nbformat_minor": 2
}
