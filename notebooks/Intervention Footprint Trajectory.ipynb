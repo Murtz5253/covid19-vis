{
 "cells": [
  {
   "cell_type": "code",
   "execution_count": 1,
   "metadata": {},
   "outputs": [
    {
     "name": "stdout",
     "output_type": "stream",
     "text": [
      "/Users/dorislee/Desktop/Research/covid/covid19-vis\n"
     ]
    }
   ],
   "source": [
    "cd .."
   ]
  },
  {
   "cell_type": "code",
   "execution_count": 2,
   "metadata": {},
   "outputs": [],
   "source": [
    "import pandas as pd"
   ]
  },
  {
   "cell_type": "code",
   "execution_count": 3,
   "metadata": {},
   "outputs": [],
   "source": [
    "df = pd.read_csv(\"data/quarantine-activity-US-Apr16-long.csv\")"
   ]
  },
  {
   "cell_type": "code",
   "execution_count": 4,
   "metadata": {},
   "outputs": [],
   "source": [
    "import numpy as np"
   ]
  },
  {
   "cell_type": "code",
   "execution_count": 5,
   "metadata": {},
   "outputs": [],
   "source": [
    "from chartlib.utils import create_lockdown_type, split_into_list, str2emo"
   ]
  },
  {
   "cell_type": "code",
   "execution_count": 6,
   "metadata": {},
   "outputs": [],
   "source": [
    "# START modified from _ingest_usa_quarantine_df\n",
    "quarantine_csv = \"data/quarantine-activity-US-Apr16-long.csv\"\n",
    "quarantine_df = pd.read_csv(quarantine_csv)\n",
    "groupcol = 'Province_State'\n",
    "\n",
    "quarantine_df = quarantine_df.rename(columns={'State': 'Province_State', 'Effective Date': 'lockdown_date','Coverage.type':'Coverage'})\n",
    "quarantine_df = quarantine_df.sort_values('Coverage', ascending=True)\n",
    "quarantine_df['lockdown_type'] = quarantine_df.apply(lambda x: create_lockdown_type(x, 0), axis=1)\n",
    "quarantine_df['emoji_string'] = quarantine_df.apply(lambda x: create_lockdown_type(x, 1), axis=1)\n",
    "quarantine_df['lockdown_type'].replace('', np.nan, inplace=True)\n",
    "\n",
    "quarantine_df = quarantine_df.dropna(subset=['lockdown_type'])\n",
    "# #TODO: this is where the columns get dropped\n",
    "# quarantine_df = quarantine_df.groupby(['lockdown_date', 'Province_State']).agg({\n",
    "#     'lockdown_type': lambda col: '; '.join(col),\n",
    "#     'emoji_string': lambda col: ''.join(col),\n",
    "#     'population_size': lambda col:col,\n",
    "#     'Coverage.location': lambda col:col\n",
    "# }).reset_index()\n",
    "\n",
    "quarantine_df.loc[quarantine_df.lockdown_type==\"Regional Border Closure/Visitor Quarantine\",\"emoji_string\"]=\"t\"#bugfix\n",
    "# Breaking up emoji into separate rows for vertical stacking\n",
    "quarantine_df.emoji_string = quarantine_df.emoji_string.apply(split_into_list)\n",
    "\n",
    "quarantine_df = quarantine_df.explode(column='emoji_string')\n",
    "quarantine_df['Coverage'] = quarantine_df.emoji_string.apply(\n",
    "    lambda x: 'Statewide' if str(x).isupper() else 'Regional'\n",
    ")\n",
    "quarantine_df = quarantine_df.sort_values('Coverage', ascending=False)\n",
    "quarantine_df.emoji_string = quarantine_df.emoji_string.str.lower()\n",
    "quarantine_df['emoji'] = quarantine_df['emoji_string'].map(str2emo)\n",
    "quarantine_df['event_index'] = quarantine_df.groupby(['Province_State', 'lockdown_date']).cumcount()\n",
    "\n",
    "# # quarantine_cols = [\n",
    "# #     groupcol, 'lockdown_date', 'lockdown_type', 'emoji', 'emoji_string', 'event_index', 'Coverage','Coverage.location'\n",
    "# # ]\n",
    "quarantine_cols = ['Province_State', 'Coverage', 'Coverage.location', 'lockdown_date','population_size','lockdown_type', 'emoji_string', 'emoji',\n",
    "       'event_index']\n",
    "quarantine_df = quarantine_df[quarantine_cols]\n",
    "\n",
    "# # END modified from _ingest_usa_quarantine_df"
   ]
  },
  {
   "cell_type": "code",
   "execution_count": 7,
   "metadata": {},
   "outputs": [],
   "source": [
    "quarantine_df_orig = pd.read_csv(quarantine_csv)\n",
    "\n",
    "state_populations = quarantine_df_orig[quarantine_df_orig[\"Coverage.type\"]==\"State-wide\"][[\"State\",\"population_size\"]].drop_duplicates()\n",
    "# state_populations = state_populations.set_index(state_populations.State)\n",
    "# state_populations = state_populations.drop(columns=\"State\")\n",
    "# state_populations_lookup= state_populations.population_size.to_dict()"
   ]
  },
  {
   "cell_type": "code",
   "execution_count": 8,
   "metadata": {},
   "outputs": [],
   "source": [
    "state_populations = state_populations.rename(columns={'State': 'Province_State',\"population_size\":\"state_population_size\"})"
   ]
  },
  {
   "cell_type": "code",
   "execution_count": 9,
   "metadata": {},
   "outputs": [],
   "source": [
    "#https://www.census.gov/quickfacts/PR\n",
    "state_populations.loc[state_populations[\"Province_State\"]==\"Puerto Rico\",\"state_population_size\"] = 3725789"
   ]
  },
  {
   "cell_type": "code",
   "execution_count": 10,
   "metadata": {},
   "outputs": [],
   "source": [
    "state_populations.state_population_size = state_populations.state_population_size.astype(\"int\")"
   ]
  },
  {
   "cell_type": "code",
   "execution_count": 11,
   "metadata": {},
   "outputs": [],
   "source": [
    "# quarantine_df_orig = quarantine_df_orig[['State', 'Coverage.location', 'Effective Date','population_size']]\n",
    "# quarantine_df_orig = quarantine_df_orig.rename(columns={'State': 'Province_State', 'Effective Date': 'lockdown_date'})"
   ]
  },
  {
   "cell_type": "code",
   "execution_count": 12,
   "metadata": {},
   "outputs": [],
   "source": [
    "# len(quarantine_df_orig)"
   ]
  },
  {
   "cell_type": "code",
   "execution_count": 13,
   "metadata": {},
   "outputs": [],
   "source": [
    "# len(quarantine_df)"
   ]
  },
  {
   "cell_type": "code",
   "execution_count": 14,
   "metadata": {},
   "outputs": [],
   "source": [
    "# pd.concat([quarantine_df,quarantine_df_orig], axis=1, join='inner')"
   ]
  },
  {
   "cell_type": "code",
   "execution_count": 15,
   "metadata": {},
   "outputs": [],
   "source": [
    "# quarantine_df.join(quarantine_df_orig,on=[\"Province_State\",\"lockdown_date\",\"Coverage.location\"])"
   ]
  },
  {
   "cell_type": "code",
   "execution_count": 16,
   "metadata": {},
   "outputs": [],
   "source": [
    "quarantine_df = quarantine_df.merge(state_populations)"
   ]
  },
  {
   "cell_type": "code",
   "execution_count": 17,
   "metadata": {},
   "outputs": [],
   "source": [
    "# quarantine_df[\"state_population_size\"]/quarantine_df[\"state_population_size\"]"
   ]
  },
  {
   "cell_type": "code",
   "execution_count": 18,
   "metadata": {},
   "outputs": [],
   "source": [
    "# pd.merge(quarantine_df,quarantine_df_orig,on=[\"Province_State\",\"lockdown_date\",\"Coverage.location\"])"
   ]
  },
  {
   "cell_type": "code",
   "execution_count": 19,
   "metadata": {},
   "outputs": [],
   "source": [
    "severityScore = {'g':0.1, 's':0.5, 'r':0.4, 'n':0.7, 'l':1, 't':0.3, 'c':0.4, 'e':0.2}"
   ]
  },
  {
   "cell_type": "code",
   "execution_count": 20,
   "metadata": {},
   "outputs": [],
   "source": [
    "# quarantine_df.apply(lambda x: int(x[\"population_size\"])/int(state_populations_lookup[x[\"Province_State\"]]),axis=1)"
   ]
  },
  {
   "cell_type": "code",
   "execution_count": 21,
   "metadata": {},
   "outputs": [
    {
     "data": {
      "text/html": [
       "<div>\n",
       "<style scoped>\n",
       "    .dataframe tbody tr th:only-of-type {\n",
       "        vertical-align: middle;\n",
       "    }\n",
       "\n",
       "    .dataframe tbody tr th {\n",
       "        vertical-align: top;\n",
       "    }\n",
       "\n",
       "    .dataframe thead th {\n",
       "        text-align: right;\n",
       "    }\n",
       "</style>\n",
       "<table border=\"1\" class=\"dataframe\">\n",
       "  <thead>\n",
       "    <tr style=\"text-align: right;\">\n",
       "      <th></th>\n",
       "      <th>Province_State</th>\n",
       "      <th>Coverage</th>\n",
       "      <th>Coverage.location</th>\n",
       "      <th>lockdown_date</th>\n",
       "      <th>population_size</th>\n",
       "      <th>lockdown_type</th>\n",
       "      <th>emoji_string</th>\n",
       "      <th>emoji</th>\n",
       "      <th>event_index</th>\n",
       "      <th>state_population_size</th>\n",
       "    </tr>\n",
       "  </thead>\n",
       "  <tbody>\n",
       "    <tr>\n",
       "      <th>0</th>\n",
       "      <td>Alabama</td>\n",
       "      <td>Statewide</td>\n",
       "      <td>Alabama</td>\n",
       "      <td>2020-03-13</td>\n",
       "      <td>4903185</td>\n",
       "      <td>Declaration of Emergency</td>\n",
       "      <td>e</td>\n",
       "      <td>⚠️</td>\n",
       "      <td>0</td>\n",
       "      <td>4903185</td>\n",
       "    </tr>\n",
       "    <tr>\n",
       "      <th>1</th>\n",
       "      <td>Alabama</td>\n",
       "      <td>Statewide</td>\n",
       "      <td>Alabama</td>\n",
       "      <td>2020-03-27</td>\n",
       "      <td>4903185</td>\n",
       "      <td>Closure of Non-essential Businesses</td>\n",
       "      <td>n</td>\n",
       "      <td>🏬</td>\n",
       "      <td>0</td>\n",
       "      <td>4903185</td>\n",
       "    </tr>\n",
       "    <tr>\n",
       "      <th>2</th>\n",
       "      <td>Alabama</td>\n",
       "      <td>Statewide</td>\n",
       "      <td>Alabama</td>\n",
       "      <td>2020-04-04</td>\n",
       "      <td>4903185</td>\n",
       "      <td>Stay-at-home Order</td>\n",
       "      <td>l</td>\n",
       "      <td>🏠</td>\n",
       "      <td>0</td>\n",
       "      <td>4903185</td>\n",
       "    </tr>\n",
       "    <tr>\n",
       "      <th>3</th>\n",
       "      <td>Alabama</td>\n",
       "      <td>Statewide</td>\n",
       "      <td>Alabama</td>\n",
       "      <td>2020-03-18</td>\n",
       "      <td>4903185</td>\n",
       "      <td>Gatherings (&gt;50) Banned, Closure of Schools</td>\n",
       "      <td>s</td>\n",
       "      <td>🎓</td>\n",
       "      <td>0</td>\n",
       "      <td>4903185</td>\n",
       "    </tr>\n",
       "    <tr>\n",
       "      <th>4</th>\n",
       "      <td>Alabama</td>\n",
       "      <td>Statewide</td>\n",
       "      <td>Alabama</td>\n",
       "      <td>2020-03-18</td>\n",
       "      <td>4903185</td>\n",
       "      <td>Gatherings (&gt;50) Banned, Closure of Schools</td>\n",
       "      <td>g</td>\n",
       "      <td>👨‍👩‍👧‍👦</td>\n",
       "      <td>1</td>\n",
       "      <td>4903185</td>\n",
       "    </tr>\n",
       "    <tr>\n",
       "      <th>...</th>\n",
       "      <td>...</td>\n",
       "      <td>...</td>\n",
       "      <td>...</td>\n",
       "      <td>...</td>\n",
       "      <td>...</td>\n",
       "      <td>...</td>\n",
       "      <td>...</td>\n",
       "      <td>...</td>\n",
       "      <td>...</td>\n",
       "      <td>...</td>\n",
       "    </tr>\n",
       "    <tr>\n",
       "      <th>769</th>\n",
       "      <td>Hawaii</td>\n",
       "      <td>Regional</td>\n",
       "      <td>Kauai</td>\n",
       "      <td>2020-03-20</td>\n",
       "      <td>72293</td>\n",
       "      <td>Regional Border Closure/Visitor Quarantine, Cu...</td>\n",
       "      <td>l</td>\n",
       "      <td>🏠</td>\n",
       "      <td>0</td>\n",
       "      <td>1415872</td>\n",
       "    </tr>\n",
       "    <tr>\n",
       "      <th>770</th>\n",
       "      <td>Hawaii</td>\n",
       "      <td>Regional</td>\n",
       "      <td>Kauai</td>\n",
       "      <td>2020-03-20</td>\n",
       "      <td>72293</td>\n",
       "      <td>Regional Border Closure/Visitor Quarantine, Cu...</td>\n",
       "      <td>c</td>\n",
       "      <td>🛩</td>\n",
       "      <td>1</td>\n",
       "      <td>1415872</td>\n",
       "    </tr>\n",
       "    <tr>\n",
       "      <th>771</th>\n",
       "      <td>Hawaii</td>\n",
       "      <td>Regional</td>\n",
       "      <td>Maui</td>\n",
       "      <td>2020-03-19</td>\n",
       "      <td>167417</td>\n",
       "      <td>Regional Closure of Restaurants</td>\n",
       "      <td>r</td>\n",
       "      <td>🍔</td>\n",
       "      <td>1</td>\n",
       "      <td>1415872</td>\n",
       "    </tr>\n",
       "    <tr>\n",
       "      <th>772</th>\n",
       "      <td>Iowa</td>\n",
       "      <td>Statewide</td>\n",
       "      <td>Iowa</td>\n",
       "      <td>2020-03-09</td>\n",
       "      <td>3155070</td>\n",
       "      <td>Declaration of Emergency</td>\n",
       "      <td>e</td>\n",
       "      <td>⚠️</td>\n",
       "      <td>0</td>\n",
       "      <td>3155070</td>\n",
       "    </tr>\n",
       "    <tr>\n",
       "      <th>773</th>\n",
       "      <td>Iowa</td>\n",
       "      <td>Statewide</td>\n",
       "      <td>Iowa</td>\n",
       "      <td>2020-03-15</td>\n",
       "      <td>3155070</td>\n",
       "      <td>Closure of Schools</td>\n",
       "      <td>s</td>\n",
       "      <td>🎓</td>\n",
       "      <td>0</td>\n",
       "      <td>3155070</td>\n",
       "    </tr>\n",
       "  </tbody>\n",
       "</table>\n",
       "<p>774 rows × 10 columns</p>\n",
       "</div>"
      ],
      "text/plain": [
       "    Province_State   Coverage Coverage.location lockdown_date population_size  \\\n",
       "0          Alabama  Statewide           Alabama    2020-03-13         4903185   \n",
       "1          Alabama  Statewide           Alabama    2020-03-27         4903185   \n",
       "2          Alabama  Statewide           Alabama    2020-04-04         4903185   \n",
       "3          Alabama  Statewide           Alabama    2020-03-18         4903185   \n",
       "4          Alabama  Statewide           Alabama    2020-03-18         4903185   \n",
       "..             ...        ...               ...           ...             ...   \n",
       "769         Hawaii   Regional             Kauai    2020-03-20           72293   \n",
       "770         Hawaii   Regional             Kauai    2020-03-20           72293   \n",
       "771         Hawaii   Regional              Maui    2020-03-19          167417   \n",
       "772           Iowa  Statewide              Iowa    2020-03-09         3155070   \n",
       "773           Iowa  Statewide              Iowa    2020-03-15         3155070   \n",
       "\n",
       "                                         lockdown_type emoji_string    emoji  \\\n",
       "0                             Declaration of Emergency            e       ⚠️   \n",
       "1                  Closure of Non-essential Businesses            n        🏬   \n",
       "2                                   Stay-at-home Order            l        🏠   \n",
       "3          Gatherings (>50) Banned, Closure of Schools            s        🎓   \n",
       "4          Gatherings (>50) Banned, Closure of Schools            g  👨‍👩‍👧‍👦   \n",
       "..                                                 ...          ...      ...   \n",
       "769  Regional Border Closure/Visitor Quarantine, Cu...            l        🏠   \n",
       "770  Regional Border Closure/Visitor Quarantine, Cu...            c        🛩   \n",
       "771                    Regional Closure of Restaurants            r        🍔   \n",
       "772                           Declaration of Emergency            e       ⚠️   \n",
       "773                                 Closure of Schools            s        🎓   \n",
       "\n",
       "     event_index  state_population_size  \n",
       "0              0                4903185  \n",
       "1              0                4903185  \n",
       "2              0                4903185  \n",
       "3              0                4903185  \n",
       "4              1                4903185  \n",
       "..           ...                    ...  \n",
       "769            0                1415872  \n",
       "770            1                1415872  \n",
       "771            1                1415872  \n",
       "772            0                3155070  \n",
       "773            0                3155070  \n",
       "\n",
       "[774 rows x 10 columns]"
      ]
     },
     "execution_count": 21,
     "metadata": {},
     "output_type": "execute_result"
    }
   ],
   "source": [
    "quarantine_df"
   ]
  },
  {
   "cell_type": "code",
   "execution_count": 22,
   "metadata": {},
   "outputs": [],
   "source": [
    "# quarantine_df[quarantine_df[\"population_size\"].isna()]\n",
    "quarantine_df = quarantine_df.dropna(subset=[\"population_size\"])"
   ]
  },
  {
   "cell_type": "code",
   "execution_count": 23,
   "metadata": {},
   "outputs": [
    {
     "name": "stderr",
     "output_type": "stream",
     "text": [
      "/usr/local/lib/python3.7/site-packages/pandas/core/generic.py:5303: SettingWithCopyWarning: \n",
      "A value is trying to be set on a copy of a slice from a DataFrame.\n",
      "Try using .loc[row_indexer,col_indexer] = value instead\n",
      "\n",
      "See the caveats in the documentation: https://pandas.pydata.org/pandas-docs/stable/user_guide/indexing.html#returning-a-view-versus-a-copy\n",
      "  self[name] = value\n"
     ]
    }
   ],
   "source": [
    "quarantine_df.population_size = quarantine_df.population_size.str.replace(\",\",\"\")"
   ]
  },
  {
   "cell_type": "code",
   "execution_count": 24,
   "metadata": {},
   "outputs": [],
   "source": [
    "quarantine_df.population_size = quarantine_df.population_size.astype(\"int\")"
   ]
  },
  {
   "cell_type": "code",
   "execution_count": 25,
   "metadata": {},
   "outputs": [
    {
     "name": "stderr",
     "output_type": "stream",
     "text": [
      "/usr/local/lib/python3.7/site-packages/ipykernel_launcher.py:1: SettingWithCopyWarning: \n",
      "A value is trying to be set on a copy of a slice from a DataFrame.\n",
      "Try using .loc[row_indexer,col_indexer] = value instead\n",
      "\n",
      "See the caveats in the documentation: https://pandas.pydata.org/pandas-docs/stable/user_guide/indexing.html#returning-a-view-versus-a-copy\n",
      "  \"\"\"Entry point for launching an IPython kernel.\n"
     ]
    }
   ],
   "source": [
    "quarantine_df[\"pctStateAffected\"]= quarantine_df[\"population_size\"]/quarantine_df[\"state_population_size\"]"
   ]
  },
  {
   "cell_type": "code",
   "execution_count": 26,
   "metadata": {},
   "outputs": [],
   "source": [
    "assert all(quarantine_df[quarantine_df[\"pctStateAffected\"]==1][\"Coverage\"]==\"Statewide\")"
   ]
  },
  {
   "cell_type": "code",
   "execution_count": 27,
   "metadata": {},
   "outputs": [
    {
     "name": "stderr",
     "output_type": "stream",
     "text": [
      "/usr/local/lib/python3.7/site-packages/ipykernel_launcher.py:1: SettingWithCopyWarning: \n",
      "A value is trying to be set on a copy of a slice from a DataFrame.\n",
      "Try using .loc[row_indexer,col_indexer] = value instead\n",
      "\n",
      "See the caveats in the documentation: https://pandas.pydata.org/pandas-docs/stable/user_guide/indexing.html#returning-a-view-versus-a-copy\n",
      "  \"\"\"Entry point for launching an IPython kernel.\n"
     ]
    }
   ],
   "source": [
    "quarantine_df[\"severityScore\"] = quarantine_df.emoji_string.apply(lambda x: severityScore[x])"
   ]
  },
  {
   "cell_type": "code",
   "execution_count": 28,
   "metadata": {},
   "outputs": [
    {
     "name": "stderr",
     "output_type": "stream",
     "text": [
      "/usr/local/lib/python3.7/site-packages/ipykernel_launcher.py:1: SettingWithCopyWarning: \n",
      "A value is trying to be set on a copy of a slice from a DataFrame.\n",
      "Try using .loc[row_indexer,col_indexer] = value instead\n",
      "\n",
      "See the caveats in the documentation: https://pandas.pydata.org/pandas-docs/stable/user_guide/indexing.html#returning-a-view-versus-a-copy\n",
      "  \"\"\"Entry point for launching an IPython kernel.\n"
     ]
    }
   ],
   "source": [
    "quarantine_df[\"interventionFootprint\"] = quarantine_df[\"pctStateAffected\"]*quarantine_df[\"severityScore\"]"
   ]
  },
  {
   "cell_type": "code",
   "execution_count": 29,
   "metadata": {},
   "outputs": [],
   "source": [
    "quarantine_df.lockdown_date = quarantine_df.lockdown_date.str.replace(\"/\",\"-\")"
   ]
  },
  {
   "cell_type": "code",
   "execution_count": 46,
   "metadata": {},
   "outputs": [],
   "source": [
    "# from chartlib import CovidChart, DaysSinceNumReached, days_between\n",
    "# days_since = 20\n",
    "# jhu_df = pd.read_csv('./data/jhu-data.csv')\n",
    "# # grab us-specific\n",
    "# jhu_df = jhu_df[(jhu_df.Country_Region == 'United States') & jhu_df.Province_State.notnull()]\n",
    "# groupcol = 'Province_State'\n",
    "# chart = CovidChart(\n",
    "#     jhu_df,\n",
    "#     groupcol=groupcol,\n",
    "#     start_criterion=DaysSinceNumReached(days_since, 'Confirmed'),\n",
    "#     ycol='interventionFootprint',\n",
    "#     level='usa',\n",
    "#     xcol='Date',\n",
    "#     top_k_groups=30,\n",
    "#     quarantine_df=quarantine_df\n",
    "# )\n",
    "# from datetime import datetime\n",
    "# def first_alphabetic_group(df, groupcol):\n",
    "#     return sorted(df[groupcol].unique())[0]\n",
    "# EXTRA_DAYS_TO_INCLUDE = days_between('2020-04-28', datetime.now())\n",
    "# chart.set_unfocused_opacity(0.05)\n",
    "# chart = chart.set_ytitle('Number of Confirmed Cases (log scale)')\n",
    "# chart = chart.set_xtitle(['Days since {} Confirmed'.format(days_since), '(Events prior to Day 0 not shown)'])\n",
    "# chart.set_width(600).set_height(400)\n",
    "# chart.set_xdomain((0, 47 + EXTRA_DAYS_TO_INCLUDE)).set_ydomain((days_since, 200000))\n",
    "# chart.click_selection_init = first_alphabetic_group(chart._preprocess_df(), groupcol)"
   ]
  },
  {
   "cell_type": "code",
   "execution_count": 60,
   "metadata": {},
   "outputs": [
    {
     "name": "stderr",
     "output_type": "stream",
     "text": [
      "/usr/local/lib/python3.7/site-packages/pandas/core/generic.py:5303: SettingWithCopyWarning: \n",
      "A value is trying to be set on a copy of a slice from a DataFrame.\n",
      "Try using .loc[row_indexer,col_indexer] = value instead\n",
      "\n",
      "See the caveats in the documentation: https://pandas.pydata.org/pandas-docs/stable/user_guide/indexing.html#returning-a-view-versus-a-copy\n",
      "  self[name] = value\n"
     ]
    }
   ],
   "source": [
    "quarantine_df.lockdown_date = pd.to_datetime(quarantine_df.lockdown_date)"
   ]
  },
  {
   "cell_type": "code",
   "execution_count": 421,
   "metadata": {},
   "outputs": [],
   "source": [
    "state = \"California\"\n",
    "qdf = quarantine_df[quarantine_df[\"Province_State\"]==state]"
   ]
  },
  {
   "cell_type": "code",
   "execution_count": 422,
   "metadata": {},
   "outputs": [],
   "source": [
    "qdf = qdf.groupby(\"lockdown_date\").sum().reset_index()"
   ]
  },
  {
   "cell_type": "code",
   "execution_count": 423,
   "metadata": {},
   "outputs": [
    {
     "data": {
      "text/html": [
       "<div>\n",
       "<style scoped>\n",
       "    .dataframe tbody tr th:only-of-type {\n",
       "        vertical-align: middle;\n",
       "    }\n",
       "\n",
       "    .dataframe tbody tr th {\n",
       "        vertical-align: top;\n",
       "    }\n",
       "\n",
       "    .dataframe thead th {\n",
       "        text-align: right;\n",
       "    }\n",
       "</style>\n",
       "<table border=\"1\" class=\"dataframe\">\n",
       "  <thead>\n",
       "    <tr style=\"text-align: right;\">\n",
       "      <th></th>\n",
       "      <th>lockdown_date</th>\n",
       "      <th>population_size</th>\n",
       "      <th>event_index</th>\n",
       "      <th>state_population_size</th>\n",
       "      <th>pctStateAffected</th>\n",
       "      <th>severityScore</th>\n",
       "      <th>interventionFootprint</th>\n",
       "    </tr>\n",
       "  </thead>\n",
       "  <tbody>\n",
       "    <tr>\n",
       "      <th>0</th>\n",
       "      <td>2020-03-04</td>\n",
       "      <td>39512223</td>\n",
       "      <td>0</td>\n",
       "      <td>39512223</td>\n",
       "      <td>1.000000</td>\n",
       "      <td>0.2</td>\n",
       "      <td>0.200000</td>\n",
       "    </tr>\n",
       "    <tr>\n",
       "      <th>1</th>\n",
       "      <td>2020-03-12</td>\n",
       "      <td>39512223</td>\n",
       "      <td>0</td>\n",
       "      <td>39512223</td>\n",
       "      <td>1.000000</td>\n",
       "      <td>0.1</td>\n",
       "      <td>0.100000</td>\n",
       "    </tr>\n",
       "    <tr>\n",
       "      <th>2</th>\n",
       "      <td>2020-03-13</td>\n",
       "      <td>10506571</td>\n",
       "      <td>55</td>\n",
       "      <td>434634453</td>\n",
       "      <td>0.265907</td>\n",
       "      <td>5.5</td>\n",
       "      <td>0.132953</td>\n",
       "    </tr>\n",
       "    <tr>\n",
       "      <th>3</th>\n",
       "      <td>2020-03-17</td>\n",
       "      <td>6659655</td>\n",
       "      <td>15</td>\n",
       "      <td>237073338</td>\n",
       "      <td>0.168547</td>\n",
       "      <td>6.0</td>\n",
       "      <td>0.168547</td>\n",
       "    </tr>\n",
       "    <tr>\n",
       "      <th>4</th>\n",
       "      <td>2020-03-19</td>\n",
       "      <td>39512223</td>\n",
       "      <td>0</td>\n",
       "      <td>39512223</td>\n",
       "      <td>1.000000</td>\n",
       "      <td>1.0</td>\n",
       "      <td>1.000000</td>\n",
       "    </tr>\n",
       "  </tbody>\n",
       "</table>\n",
       "</div>"
      ],
      "text/plain": [
       "  lockdown_date  population_size  event_index  state_population_size  \\\n",
       "0    2020-03-04         39512223            0               39512223   \n",
       "1    2020-03-12         39512223            0               39512223   \n",
       "2    2020-03-13         10506571           55              434634453   \n",
       "3    2020-03-17          6659655           15              237073338   \n",
       "4    2020-03-19         39512223            0               39512223   \n",
       "\n",
       "   pctStateAffected  severityScore  interventionFootprint  \n",
       "0          1.000000            0.2               0.200000  \n",
       "1          1.000000            0.1               0.100000  \n",
       "2          0.265907            5.5               0.132953  \n",
       "3          0.168547            6.0               0.168547  \n",
       "4          1.000000            1.0               1.000000  "
      ]
     },
     "execution_count": 423,
     "metadata": {},
     "output_type": "execute_result"
    }
   ],
   "source": [
    "qdf"
   ]
  },
  {
   "cell_type": "code",
   "execution_count": 424,
   "metadata": {},
   "outputs": [],
   "source": [
    "# qdf.interventionFootprint.cumsum()\n"
   ]
  },
  {
   "cell_type": "code",
   "execution_count": 425,
   "metadata": {},
   "outputs": [],
   "source": [
    "qdf = qdf.agg({'lockdown_date':lambda x: x,'interventionFootprint':'cumsum'})"
   ]
  },
  {
   "cell_type": "code",
   "execution_count": 426,
   "metadata": {},
   "outputs": [
    {
     "data": {
      "text/html": [
       "<div>\n",
       "<style scoped>\n",
       "    .dataframe tbody tr th:only-of-type {\n",
       "        vertical-align: middle;\n",
       "    }\n",
       "\n",
       "    .dataframe tbody tr th {\n",
       "        vertical-align: top;\n",
       "    }\n",
       "\n",
       "    .dataframe thead th {\n",
       "        text-align: right;\n",
       "    }\n",
       "</style>\n",
       "<table border=\"1\" class=\"dataframe\">\n",
       "  <thead>\n",
       "    <tr style=\"text-align: right;\">\n",
       "      <th></th>\n",
       "      <th>lockdown_date</th>\n",
       "      <th>interventionFootprint</th>\n",
       "    </tr>\n",
       "  </thead>\n",
       "  <tbody>\n",
       "    <tr>\n",
       "      <th>0</th>\n",
       "      <td>2020-03-04</td>\n",
       "      <td>0.200000</td>\n",
       "    </tr>\n",
       "    <tr>\n",
       "      <th>1</th>\n",
       "      <td>2020-03-12</td>\n",
       "      <td>0.300000</td>\n",
       "    </tr>\n",
       "    <tr>\n",
       "      <th>2</th>\n",
       "      <td>2020-03-13</td>\n",
       "      <td>0.432953</td>\n",
       "    </tr>\n",
       "    <tr>\n",
       "      <th>3</th>\n",
       "      <td>2020-03-17</td>\n",
       "      <td>0.601500</td>\n",
       "    </tr>\n",
       "    <tr>\n",
       "      <th>4</th>\n",
       "      <td>2020-03-19</td>\n",
       "      <td>1.601500</td>\n",
       "    </tr>\n",
       "  </tbody>\n",
       "</table>\n",
       "</div>"
      ],
      "text/plain": [
       "  lockdown_date  interventionFootprint\n",
       "0    2020-03-04               0.200000\n",
       "1    2020-03-12               0.300000\n",
       "2    2020-03-13               0.432953\n",
       "3    2020-03-17               0.601500\n",
       "4    2020-03-19               1.601500"
      ]
     },
     "execution_count": 426,
     "metadata": {},
     "output_type": "execute_result"
    }
   ],
   "source": [
    "qdf"
   ]
  },
  {
   "cell_type": "code",
   "execution_count": 427,
   "metadata": {},
   "outputs": [
    {
     "data": {
      "text/plain": [
       "0    0.200000\n",
       "1    0.300000\n",
       "2    0.432953\n",
       "3    0.601500\n",
       "4    1.000000\n",
       "Name: interventionFootprint, dtype: float64"
      ]
     },
     "execution_count": 427,
     "metadata": {},
     "output_type": "execute_result"
    }
   ],
   "source": [
    "qdf = qdf.interventionFootprint.clip(0,1)"
   ]
  },
  {
   "cell_type": "code",
   "execution_count": 430,
   "metadata": {},
   "outputs": [],
   "source": [
    "df_all = []\n",
    "for state in quarantine_df.Province_State.unique():\n",
    "    qdf = quarantine_df[quarantine_df[\"Province_State\"]==state]\n",
    "    qdf = qdf.groupby(\"lockdown_date\").sum().reset_index()\n",
    "    qdf = qdf.agg({'lockdown_date':lambda x: x,'interventionFootprint':'cumsum'})\n",
    "    qdf.interventionFootprint = qdf.interventionFootprint.clip(0,1)\n",
    "    qdf[\"State\"]=state\n",
    "    df_all.append(qdf)\n",
    "\n",
    "df_all = pd.concat(df_all)"
   ]
  },
  {
   "cell_type": "code",
   "execution_count": 431,
   "metadata": {},
   "outputs": [
    {
     "data": {
      "text/html": [
       "\n",
       "<div id=\"altair-viz-fddfa34ba6d441b28db5018f34883e46\"></div>\n",
       "<script type=\"text/javascript\">\n",
       "  (function(spec, embedOpt){\n",
       "    const outputDiv = document.getElementById(\"altair-viz-fddfa34ba6d441b28db5018f34883e46\");\n",
       "    const paths = {\n",
       "      \"vega\": \"https://cdn.jsdelivr.net/npm//vega@5?noext\",\n",
       "      \"vega-lib\": \"https://cdn.jsdelivr.net/npm//vega-lib?noext\",\n",
       "      \"vega-lite\": \"https://cdn.jsdelivr.net/npm//vega-lite@4.0.2?noext\",\n",
       "      \"vega-embed\": \"https://cdn.jsdelivr.net/npm//vega-embed@6?noext\",\n",
       "    };\n",
       "\n",
       "    function loadScript(lib) {\n",
       "      return new Promise(function(resolve, reject) {\n",
       "        var s = document.createElement('script');\n",
       "        s.src = paths[lib];\n",
       "        s.async = true;\n",
       "        s.onload = () => resolve(paths[lib]);\n",
       "        s.onerror = () => reject(`Error loading script: ${paths[lib]}`);\n",
       "        document.getElementsByTagName(\"head\")[0].appendChild(s);\n",
       "      });\n",
       "    }\n",
       "\n",
       "    function showError(err) {\n",
       "      outputDiv.innerHTML = `<div class=\"error\" style=\"color:red;\">${err}</div>`;\n",
       "      throw err;\n",
       "    }\n",
       "\n",
       "    function displayChart(vegaEmbed) {\n",
       "      vegaEmbed(outputDiv, spec, embedOpt)\n",
       "        .catch(err => showError(`Javascript Error: ${err.message}<br>This usually means there's a typo in your chart specification. See the javascript console for the full traceback.`));\n",
       "    }\n",
       "\n",
       "    if(typeof define === \"function\" && define.amd) {\n",
       "      requirejs.config({paths});\n",
       "      require([\"vega-embed\"], displayChart, err => showError(`Error loading script: ${err.message}`));\n",
       "    } else if (typeof vegaEmbed === \"function\") {\n",
       "      displayChart(vegaEmbed);\n",
       "    } else {\n",
       "      loadScript(\"vega\")\n",
       "        .then(() => loadScript(\"vega-lite\"))\n",
       "        .then(() => loadScript(\"vega-embed\"))\n",
       "        .catch(showError)\n",
       "        .then(() => displayChart(vegaEmbed));\n",
       "    }\n",
       "  })({\"config\": {\"title\": {\"font\": \"Khula\"}, \"axis\": {\"labelFont\": \"Khula\", \"titleFont\": \"Khula\"}, \"header\": {\"labelFont\": \"Khula\", \"titleFont\": \"Khula\"}, \"legend\": {\"labelFont\": \"Khula\", \"titleFont\": \"Khula\"}}, \"data\": {\"name\": \"data-97392bfa55f3eb2cb785669f0c97be15\"}, \"mark\": \"line\", \"encoding\": {\"facet\": {\"type\": \"ordinal\", \"columns\": 4, \"field\": \"State\"}, \"x\": {\"type\": \"temporal\", \"field\": \"lockdown_date\"}, \"y\": {\"type\": \"quantitative\", \"field\": \"interventionFootprint\"}}, \"$schema\": \"https://vega.github.io/schema/vega-lite/v4.0.2.json\", \"datasets\": {\"data-97392bfa55f3eb2cb785669f0c97be15\": [{\"lockdown_date\": \"2020-03-13T00:00:00\", \"interventionFootprint\": 0.2, \"State\": \"Alabama\"}, {\"lockdown_date\": \"2020-03-18T00:00:00\", \"interventionFootprint\": 0.8, \"State\": \"Alabama\"}, {\"lockdown_date\": \"2020-03-24T00:00:00\", \"interventionFootprint\": 0.8428048299217754, \"State\": \"Alabama\"}, {\"lockdown_date\": \"2020-03-27T00:00:00\", \"interventionFootprint\": 1.0, \"State\": \"Alabama\"}, {\"lockdown_date\": \"2020-04-04T00:00:00\", \"interventionFootprint\": 1.0, \"State\": \"Alabama\"}, {\"lockdown_date\": \"2020-03-12T00:00:00\", \"interventionFootprint\": 0.2, \"State\": \"Virginia\"}, {\"lockdown_date\": \"2020-03-17T00:00:00\", \"interventionFootprint\": 0.30000000000000004, \"State\": \"Virginia\"}, {\"lockdown_date\": \"2020-03-23T00:00:00\", \"interventionFootprint\": 1.0, \"State\": \"Virginia\"}, {\"lockdown_date\": \"2020-03-30T00:00:00\", \"interventionFootprint\": 1.0, \"State\": \"Virginia\"}, {\"lockdown_date\": \"2020-03-11T00:00:00\", \"interventionFootprint\": 0.2, \"State\": \"Arkansas\"}, {\"lockdown_date\": \"2020-03-12T00:00:00\", \"interventionFootprint\": 0.2993167548323218, \"State\": \"Arkansas\"}, {\"lockdown_date\": \"2020-03-17T00:00:00\", \"interventionFootprint\": 0.7993167548323218, \"State\": \"Arkansas\"}, {\"lockdown_date\": \"2020-03-19T00:00:00\", \"interventionFootprint\": 1.0, \"State\": \"Arkansas\"}, {\"lockdown_date\": \"2020-03-13T00:00:00\", \"interventionFootprint\": 0.2, \"State\": \"Missouri\"}, {\"lockdown_date\": \"2020-03-19T00:00:00\", \"interventionFootprint\": 0.7, \"State\": \"Missouri\"}, {\"lockdown_date\": \"2020-03-22T00:00:00\", \"interventionFootprint\": 0.8417339641295996, \"State\": \"Missouri\"}, {\"lockdown_date\": \"2020-03-24T00:00:00\", \"interventionFootprint\": 0.9735223940712624, \"State\": \"Missouri\"}, {\"lockdown_date\": \"2020-03-25T00:00:00\", \"interventionFootprint\": 1.0, \"State\": \"Missouri\"}, {\"lockdown_date\": \"2020-03-26T00:00:00\", \"interventionFootprint\": 1.0, \"State\": \"Missouri\"}, {\"lockdown_date\": \"2020-03-27T00:00:00\", \"interventionFootprint\": 1.0, \"State\": \"Missouri\"}, {\"lockdown_date\": \"2020-03-28T00:00:00\", \"interventionFootprint\": 1.0, \"State\": \"Missouri\"}, {\"lockdown_date\": \"2020-03-29T00:00:00\", \"interventionFootprint\": 1.0, \"State\": \"Missouri\"}, {\"lockdown_date\": \"2020-03-30T00:00:00\", \"interventionFootprint\": 1.0, \"State\": \"Missouri\"}, {\"lockdown_date\": \"2020-03-31T00:00:00\", \"interventionFootprint\": 1.0, \"State\": \"Missouri\"}, {\"lockdown_date\": \"2020-04-01T00:00:00\", \"interventionFootprint\": 1.0, \"State\": \"Missouri\"}, {\"lockdown_date\": \"2020-04-02T00:00:00\", \"interventionFootprint\": 1.0, \"State\": \"Missouri\"}, {\"lockdown_date\": \"2020-04-03T00:00:00\", \"interventionFootprint\": 1.0, \"State\": \"Missouri\"}, {\"lockdown_date\": \"2020-04-04T00:00:00\", \"interventionFootprint\": 1.0, \"State\": \"Missouri\"}, {\"lockdown_date\": \"2020-04-05T00:00:00\", \"interventionFootprint\": 1.0, \"State\": \"Missouri\"}, {\"lockdown_date\": \"2020-04-06T00:00:00\", \"interventionFootprint\": 1.0, \"State\": \"Missouri\"}, {\"lockdown_date\": \"2020-03-04T00:00:00\", \"interventionFootprint\": 0.2, \"State\": \"California\"}, {\"lockdown_date\": \"2020-03-12T00:00:00\", \"interventionFootprint\": 0.30000000000000004, \"State\": \"California\"}, {\"lockdown_date\": \"2020-03-13T00:00:00\", \"interventionFootprint\": 0.43295342810755044, \"State\": \"California\"}, {\"lockdown_date\": \"2020-03-17T00:00:00\", \"interventionFootprint\": 0.6015001332625602, \"State\": \"California\"}, {\"lockdown_date\": \"2020-03-19T00:00:00\", \"interventionFootprint\": 1.0, \"State\": \"California\"}, {\"lockdown_date\": \"2020-03-13T00:00:00\", \"interventionFootprint\": 0.2, \"State\": \"South Carolina\"}, {\"lockdown_date\": \"2020-03-15T00:00:00\", \"interventionFootprint\": 0.7, \"State\": \"South Carolina\"}, {\"lockdown_date\": \"2020-03-17T00:00:00\", \"interventionFootprint\": 1.0, \"State\": \"South Carolina\"}, {\"lockdown_date\": \"2020-03-23T00:00:00\", \"interventionFootprint\": 1.0, \"State\": \"South Carolina\"}, {\"lockdown_date\": \"2020-03-25T00:00:00\", \"interventionFootprint\": 1.0, \"State\": \"South Carolina\"}, {\"lockdown_date\": \"2020-03-26T00:00:00\", \"interventionFootprint\": 1.0, \"State\": \"South Carolina\"}, {\"lockdown_date\": \"2020-03-27T00:00:00\", \"interventionFootprint\": 1.0, \"State\": \"South Carolina\"}, {\"lockdown_date\": \"2020-04-01T00:00:00\", \"interventionFootprint\": 1.0, \"State\": \"South Carolina\"}, {\"lockdown_date\": \"2020-04-02T00:00:00\", \"interventionFootprint\": 1.0, \"State\": \"South Carolina\"}, {\"lockdown_date\": \"2020-04-07T00:00:00\", \"interventionFootprint\": 1.0, \"State\": \"South Carolina\"}, {\"lockdown_date\": \"2020-03-14T00:00:00\", \"interventionFootprint\": 0.2, \"State\": \"Mississippi\"}, {\"lockdown_date\": \"2020-03-21T00:00:00\", \"interventionFootprint\": 0.20801471969313365, \"State\": \"Mississippi\"}, {\"lockdown_date\": \"2020-03-22T00:00:00\", \"interventionFootprint\": 0.2290936374489315, \"State\": \"Mississippi\"}, {\"lockdown_date\": \"2020-03-24T00:00:00\", \"interventionFootprint\": 0.330448744333701, \"State\": \"Mississippi\"}, {\"lockdown_date\": \"2020-03-31T00:00:00\", \"interventionFootprint\": 0.36789646620515304, \"State\": \"Mississippi\"}, {\"lockdown_date\": \"2020-04-01T00:00:00\", \"interventionFootprint\": 1.0, \"State\": \"Mississippi\"}, {\"lockdown_date\": \"2020-03-14T00:00:00\", \"interventionFootprint\": 0.5, \"State\": \"West Virginia\"}, {\"lockdown_date\": \"2020-03-16T00:00:00\", \"interventionFootprint\": 0.7, \"State\": \"West Virginia\"}, {\"lockdown_date\": \"2020-03-23T00:00:00\", \"interventionFootprint\": 1.0, \"State\": \"West Virginia\"}, {\"lockdown_date\": \"2020-02-29T00:00:00\", \"interventionFootprint\": 0.2, \"State\": \"Washington\"}, {\"lockdown_date\": \"2020-03-11T00:00:00\", \"interventionFootprint\": 0.2522639648383766, \"State\": \"Washington\"}, {\"lockdown_date\": \"2020-03-12T00:00:00\", \"interventionFootprint\": 0.7522639648383767, \"State\": \"Washington\"}, {\"lockdown_date\": \"2020-03-15T00:00:00\", \"interventionFootprint\": 1.0, \"State\": \"Washington\"}, {\"lockdown_date\": \"2020-03-21T00:00:00\", \"interventionFootprint\": 1.0, \"State\": \"Washington\"}, {\"lockdown_date\": \"2020-03-22T00:00:00\", \"interventionFootprint\": 1.0, \"State\": \"Washington\"}, {\"lockdown_date\": \"2020-03-23T00:00:00\", \"interventionFootprint\": 1.0, \"State\": \"Washington\"}, {\"lockdown_date\": \"2020-03-24T00:00:00\", \"interventionFootprint\": 1.0, \"State\": \"Washington\"}, {\"lockdown_date\": \"2020-03-13T00:00:00\", \"interventionFootprint\": 0.2, \"State\": \"Wyoming\"}, {\"lockdown_date\": \"2020-03-15T00:00:00\", \"interventionFootprint\": 0.7, \"State\": \"Wyoming\"}, {\"lockdown_date\": \"2020-03-28T00:00:00\", \"interventionFootprint\": 0.758561508330756, \"State\": \"Wyoming\"}, {\"lockdown_date\": \"2020-03-12T00:00:00\", \"interventionFootprint\": 0.2, \"State\": \"Wisconsin\"}, {\"lockdown_date\": \"2020-03-13T00:00:00\", \"interventionFootprint\": 0.7, \"State\": \"Wisconsin\"}, {\"lockdown_date\": \"2020-03-16T00:00:00\", \"interventionFootprint\": 0.7999999999999999, \"State\": \"Wisconsin\"}, {\"lockdown_date\": \"2020-03-17T00:00:00\", \"interventionFootprint\": 0.8999999999999999, \"State\": \"Wisconsin\"}, {\"lockdown_date\": \"2020-03-23T00:00:00\", \"interventionFootprint\": 1.0, \"State\": \"Wisconsin\"}, {\"lockdown_date\": \"2020-03-24T00:00:00\", \"interventionFootprint\": 1.0, \"State\": \"Wisconsin\"}, {\"lockdown_date\": \"2020-03-13T00:00:00\", \"interventionFootprint\": 0.5, \"State\": \"Utah\"}, {\"lockdown_date\": \"2020-03-27T00:00:00\", \"interventionFootprint\": 0.5757140299405046, \"State\": \"Utah\"}, {\"lockdown_date\": \"2020-04-01T00:00:00\", \"interventionFootprint\": 0.6865953951985647, \"State\": \"Utah\"}, {\"lockdown_date\": \"2020-03-12T00:00:00\", \"interventionFootprint\": 0.2, \"State\": \"Arizona\"}, {\"lockdown_date\": \"2020-03-17T00:00:00\", \"interventionFootprint\": 0.53342025799327, \"State\": \"Arizona\"}, {\"lockdown_date\": \"2020-03-20T00:00:00\", \"interventionFootprint\": 1.0, \"State\": \"Arizona\"}, {\"lockdown_date\": \"2020-03-31T00:00:00\", \"interventionFootprint\": 1.0, \"State\": \"Arizona\"}, {\"lockdown_date\": \"2020-03-15T00:00:00\", \"interventionFootprint\": 0.2, \"State\": \"Oklahoma\"}, {\"lockdown_date\": \"2020-03-24T00:00:00\", \"interventionFootprint\": 0.3312034129135645, \"State\": \"Oklahoma\"}, {\"lockdown_date\": \"2020-03-25T00:00:00\", \"interventionFootprint\": 1.0, \"State\": \"Oklahoma\"}, {\"lockdown_date\": \"2020-03-28T00:00:00\", \"interventionFootprint\": 1.0, \"State\": \"Oklahoma\"}, {\"lockdown_date\": \"2020-03-29T00:00:00\", \"interventionFootprint\": 1.0, \"State\": \"Oklahoma\"}, {\"lockdown_date\": \"2020-03-30T00:00:00\", \"interventionFootprint\": 1.0, \"State\": \"Oklahoma\"}, {\"lockdown_date\": \"2020-04-01T00:00:00\", \"interventionFootprint\": 1.0, \"State\": \"Oklahoma\"}, {\"lockdown_date\": \"2020-04-04T00:00:00\", \"interventionFootprint\": 1.0, \"State\": \"Oklahoma\"}, {\"lockdown_date\": \"2020-04-06T00:00:00\", \"interventionFootprint\": 1.0, \"State\": \"Oklahoma\"}, {\"lockdown_date\": \"2020-04-08T00:00:00\", \"interventionFootprint\": 1.0, \"State\": \"Oklahoma\"}, {\"lockdown_date\": \"2020-03-09T00:00:00\", \"interventionFootprint\": 0.2, \"State\": \"Ohio\"}, {\"lockdown_date\": \"2020-03-12T00:00:00\", \"interventionFootprint\": 0.30000000000000004, \"State\": \"Ohio\"}, {\"lockdown_date\": \"2020-03-15T00:00:00\", \"interventionFootprint\": 0.7000000000000001, \"State\": \"Ohio\"}, {\"lockdown_date\": \"2020-03-16T00:00:00\", \"interventionFootprint\": 1.0, \"State\": \"Ohio\"}, {\"lockdown_date\": \"2020-03-18T00:00:00\", \"interventionFootprint\": 1.0, \"State\": \"Ohio\"}, {\"lockdown_date\": \"2020-03-23T00:00:00\", \"interventionFootprint\": 1.0, \"State\": \"Ohio\"}, {\"lockdown_date\": \"2020-03-13T00:00:00\", \"interventionFootprint\": 0.2, \"State\": \"Vermont\"}, {\"lockdown_date\": \"2020-03-15T00:00:00\", \"interventionFootprint\": 0.7, \"State\": \"Vermont\"}, {\"lockdown_date\": \"2020-03-16T00:00:00\", \"interventionFootprint\": 0.8481247265576797, \"State\": \"Vermont\"}, {\"lockdown_date\": \"2020-03-17T00:00:00\", \"interventionFootprint\": 1.0, \"State\": \"Vermont\"}, {\"lockdown_date\": \"2020-03-25T00:00:00\", \"interventionFootprint\": 1.0, \"State\": \"Vermont\"}, {\"lockdown_date\": \"2020-03-30T00:00:00\", \"interventionFootprint\": 1.0, \"State\": \"Vermont\"}, {\"lockdown_date\": \"2020-03-10T00:00:00\", \"interventionFootprint\": 0.2, \"State\": \"Massachusetts\"}, {\"lockdown_date\": \"2020-03-13T00:00:00\", \"interventionFootprint\": 0.2577212661351036, \"State\": \"Massachusetts\"}, {\"lockdown_date\": \"2020-03-17T00:00:00\", \"interventionFootprint\": 1.0, \"State\": \"Massachusetts\"}, {\"lockdown_date\": \"2020-03-24T00:00:00\", \"interventionFootprint\": 1.0, \"State\": \"Massachusetts\"}, {\"lockdown_date\": \"2020-03-27T00:00:00\", \"interventionFootprint\": 1.0, \"State\": \"Massachusetts\"}, {\"lockdown_date\": \"2020-03-13T00:00:00\", \"interventionFootprint\": 0.2, \"State\": \"Nebraska\"}, {\"lockdown_date\": \"2020-03-19T00:00:00\", \"interventionFootprint\": 0.6056905265073347, \"State\": \"Nebraska\"}, {\"lockdown_date\": \"2020-03-25T00:00:00\", \"interventionFootprint\": 0.8114185838768244, \"State\": \"Nebraska\"}, {\"lockdown_date\": \"2020-03-29T00:00:00\", \"interventionFootprint\": 0.8405355023345644, \"State\": \"Nebraska\"}, {\"lockdown_date\": \"2020-03-30T00:00:00\", \"interventionFootprint\": 0.8837451044453911, \"State\": \"Nebraska\"}, {\"lockdown_date\": \"2020-03-31T00:00:00\", \"interventionFootprint\": 0.9573247215685626, \"State\": \"Nebraska\"}, {\"lockdown_date\": \"2020-04-01T00:00:00\", \"interventionFootprint\": 1.0, \"State\": \"Nebraska\"}, {\"lockdown_date\": \"2020-04-03T00:00:00\", \"interventionFootprint\": 1.0, \"State\": \"Nebraska\"}, {\"lockdown_date\": \"2020-04-28T00:00:00\", \"interventionFootprint\": 1.0, \"State\": \"Nebraska\"}, {\"lockdown_date\": \"2020-03-13T00:00:00\", \"interventionFootprint\": 0.2, \"State\": \"Minnesota\"}, {\"lockdown_date\": \"2020-03-14T00:00:00\", \"interventionFootprint\": 0.2054559410968659, \"State\": \"Minnesota\"}, {\"lockdown_date\": \"2020-03-17T00:00:00\", \"interventionFootprint\": 0.9054559410968659, \"State\": \"Minnesota\"}, {\"lockdown_date\": \"2020-03-18T00:00:00\", \"interventionFootprint\": 1.0, \"State\": \"Minnesota\"}, {\"lockdown_date\": \"2020-03-27T00:00:00\", \"interventionFootprint\": 1.0, \"State\": \"Minnesota\"}, {\"lockdown_date\": \"2020-03-12T00:00:00\", \"interventionFootprint\": 0.5, \"State\": \"Michigan\"}, {\"lockdown_date\": \"2020-03-13T00:00:00\", \"interventionFootprint\": 0.6, \"State\": \"Michigan\"}, {\"lockdown_date\": \"2020-03-16T00:00:00\", \"interventionFootprint\": 1.0, \"State\": \"Michigan\"}, {\"lockdown_date\": \"2020-03-17T00:00:00\", \"interventionFootprint\": 1.0, \"State\": \"Michigan\"}, {\"lockdown_date\": \"2020-03-22T00:00:00\", \"interventionFootprint\": 1.0, \"State\": \"Michigan\"}, {\"lockdown_date\": \"2020-03-24T00:00:00\", \"interventionFootprint\": 1.0, \"State\": \"Michigan\"}, {\"lockdown_date\": \"2020-03-13T00:00:00\", \"interventionFootprint\": 0.2, \"State\": \"South Dakota\"}, {\"lockdown_date\": \"2020-03-16T00:00:00\", \"interventionFootprint\": 0.7, \"State\": \"South Dakota\"}, {\"lockdown_date\": \"2020-03-15T00:00:00\", \"interventionFootprint\": 0.07115074238846454, \"State\": \"Tennessee\"}, {\"lockdown_date\": \"2020-03-19T00:00:00\", \"interventionFootprint\": 0.08965809042206274, \"State\": \"Tennessee\"}, {\"lockdown_date\": \"2020-03-20T00:00:00\", \"interventionFootprint\": 0.11985940027300518, \"State\": \"Tennessee\"}, {\"lockdown_date\": \"2020-03-22T00:00:00\", \"interventionFootprint\": 0.3194731456542182, \"State\": \"Tennessee\"}, {\"lockdown_date\": \"2020-03-24T00:00:00\", \"interventionFootprint\": 0.6482972464898391, \"State\": \"Tennessee\"}, {\"lockdown_date\": \"2020-03-25T00:00:00\", \"interventionFootprint\": 0.6601455315093744, \"State\": \"Tennessee\"}, {\"lockdown_date\": \"2020-03-30T00:00:00\", \"interventionFootprint\": 1.0, \"State\": \"Tennessee\"}, {\"lockdown_date\": \"2020-04-02T00:00:00\", \"interventionFootprint\": 1.0, \"State\": \"Tennessee\"}, {\"lockdown_date\": \"2020-03-10T00:00:00\", \"interventionFootprint\": 0.2, \"State\": \"Colorado\"}, {\"lockdown_date\": \"2020-03-18T00:00:00\", \"interventionFootprint\": 1.0, \"State\": \"Colorado\"}, {\"lockdown_date\": \"2020-03-23T00:00:00\", \"interventionFootprint\": 1.0, \"State\": \"Colorado\"}, {\"lockdown_date\": \"2020-03-25T00:00:00\", \"interventionFootprint\": 1.0, \"State\": \"Colorado\"}, {\"lockdown_date\": \"2020-03-26T00:00:00\", \"interventionFootprint\": 1.0, \"State\": \"Colorado\"}, {\"lockdown_date\": \"2020-03-12T00:00:00\", \"interventionFootprint\": 0.2, \"State\": \"Montana\"}, {\"lockdown_date\": \"2020-03-16T00:00:00\", \"interventionFootprint\": 0.7, \"State\": \"Montana\"}, {\"lockdown_date\": \"2020-03-20T00:00:00\", \"interventionFootprint\": 1.0, \"State\": \"Montana\"}, {\"lockdown_date\": \"2020-03-28T00:00:00\", \"interventionFootprint\": 1.0, \"State\": \"Montana\"}, {\"lockdown_date\": \"2020-03-11T00:00:00\", \"interventionFootprint\": 0.2, \"State\": \"Alaska\"}, {\"lockdown_date\": \"2020-03-16T00:00:00\", \"interventionFootprint\": 0.7, \"State\": \"Alaska\"}, {\"lockdown_date\": \"2020-03-18T00:00:00\", \"interventionFootprint\": 1.0, \"State\": \"Alaska\"}, {\"lockdown_date\": \"2020-03-22T00:00:00\", \"interventionFootprint\": 1.0, \"State\": \"Alaska\"}, {\"lockdown_date\": \"2020-03-25T00:00:00\", \"interventionFootprint\": 1.0, \"State\": \"Alaska\"}, {\"lockdown_date\": \"2020-03-10T00:00:00\", \"interventionFootprint\": 0.2, \"State\": \"North Carolina\"}, {\"lockdown_date\": \"2020-03-14T00:00:00\", \"interventionFootprint\": 0.8, \"State\": \"North Carolina\"}, {\"lockdown_date\": \"2020-03-17T00:00:00\", \"interventionFootprint\": 1.0, \"State\": \"North Carolina\"}, {\"lockdown_date\": \"2020-03-23T00:00:00\", \"interventionFootprint\": 1.0, \"State\": \"North Carolina\"}, {\"lockdown_date\": \"2020-03-25T00:00:00\", \"interventionFootprint\": 1.0, \"State\": \"North Carolina\"}, {\"lockdown_date\": \"2020-03-26T00:00:00\", \"interventionFootprint\": 1.0, \"State\": \"North Carolina\"}, {\"lockdown_date\": \"2020-03-27T00:00:00\", \"interventionFootprint\": 1.0, \"State\": \"North Carolina\"}, {\"lockdown_date\": \"2020-03-28T00:00:00\", \"interventionFootprint\": 1.0, \"State\": \"North Carolina\"}, {\"lockdown_date\": \"2020-03-30T00:00:00\", \"interventionFootprint\": 1.0, \"State\": \"North Carolina\"}, {\"lockdown_date\": \"2020-03-13T00:00:00\", \"interventionFootprint\": 0.2, \"State\": \"Texas\"}, {\"lockdown_date\": \"2020-03-19T00:00:00\", \"interventionFootprint\": 0.7, \"State\": \"Texas\"}, {\"lockdown_date\": \"2020-03-23T00:00:00\", \"interventionFootprint\": 1.0, \"State\": \"Texas\"}, {\"lockdown_date\": \"2020-03-24T00:00:00\", \"interventionFootprint\": 1.0, \"State\": \"Texas\"}, {\"lockdown_date\": \"2020-03-30T00:00:00\", \"interventionFootprint\": 1.0, \"State\": \"Texas\"}, {\"lockdown_date\": \"2020-03-13T00:00:00\", \"interventionFootprint\": 0.2, \"State\": \"North Dakota\"}, {\"lockdown_date\": \"2020-03-19T00:00:00\", \"interventionFootprint\": 1.0, \"State\": \"North Dakota\"}, {\"lockdown_date\": \"2020-04-08T00:00:00\", \"interventionFootprint\": 1.0, \"State\": \"North Dakota\"}, {\"lockdown_date\": \"2020-03-05T00:00:00\", \"interventionFootprint\": 0.2, \"State\": \"Maryland\"}, {\"lockdown_date\": \"2020-03-12T00:00:00\", \"interventionFootprint\": 0.30000000000000004, \"State\": \"Maryland\"}, {\"lockdown_date\": \"2020-03-15T00:00:00\", \"interventionFootprint\": 1.0, \"State\": \"Maryland\"}, {\"lockdown_date\": \"2020-03-16T00:00:00\", \"interventionFootprint\": 1.0, \"State\": \"Maryland\"}, {\"lockdown_date\": \"2020-03-23T00:00:00\", \"interventionFootprint\": 1.0, \"State\": \"Maryland\"}, {\"lockdown_date\": \"2020-03-30T00:00:00\", \"interventionFootprint\": 1.0, \"State\": \"Maryland\"}, {\"lockdown_date\": \"2020-03-12T00:00:00\", \"interventionFootprint\": 0.2, \"State\": \"Kansas\"}, {\"lockdown_date\": \"2020-03-15T00:00:00\", \"interventionFootprint\": 0.7, \"State\": \"Kansas\"}, {\"lockdown_date\": \"2020-03-16T00:00:00\", \"interventionFootprint\": 0.7999999999999999, \"State\": \"Kansas\"}, {\"lockdown_date\": \"2020-03-17T00:00:00\", \"interventionFootprint\": 0.9318996167251452, \"State\": \"Kansas\"}, {\"lockdown_date\": \"2020-03-22T00:00:00\", \"interventionFootprint\": 1.0, \"State\": \"Kansas\"}, {\"lockdown_date\": \"2020-03-24T00:00:00\", \"interventionFootprint\": 1.0, \"State\": \"Kansas\"}, {\"lockdown_date\": \"2020-03-25T00:00:00\", \"interventionFootprint\": 1.0, \"State\": \"Kansas\"}, {\"lockdown_date\": \"2020-03-26T00:00:00\", \"interventionFootprint\": 1.0, \"State\": \"Kansas\"}, {\"lockdown_date\": \"2020-03-27T00:00:00\", \"interventionFootprint\": 1.0, \"State\": \"Kansas\"}, {\"lockdown_date\": \"2020-03-28T00:00:00\", \"interventionFootprint\": 1.0, \"State\": \"Kansas\"}, {\"lockdown_date\": \"2020-03-30T00:00:00\", \"interventionFootprint\": 1.0, \"State\": \"Kansas\"}, {\"lockdown_date\": \"2020-03-15T00:00:00\", \"interventionFootprint\": 0.2, \"State\": \"Maine\"}, {\"lockdown_date\": \"2020-03-23T00:00:00\", \"interventionFootprint\": 0.4194616622973162, \"State\": \"Maine\"}, {\"lockdown_date\": \"2020-03-25T00:00:00\", \"interventionFootprint\": 0.4688712792327401, \"State\": \"Maine\"}, {\"lockdown_date\": \"2020-03-26T00:00:00\", \"interventionFootprint\": 0.4879203578007041, \"State\": \"Maine\"}, {\"lockdown_date\": \"2020-03-31T00:00:00\", \"interventionFootprint\": 1.0, \"State\": \"Maine\"}, {\"lockdown_date\": \"2020-03-01T00:00:00\", \"interventionFootprint\": 0.2, \"State\": \"Florida\"}, {\"lockdown_date\": \"2020-03-17T00:00:00\", \"interventionFootprint\": 1.0, \"State\": \"Florida\"}, {\"lockdown_date\": \"2020-03-24T00:00:00\", \"interventionFootprint\": 1.0, \"State\": \"Florida\"}, {\"lockdown_date\": \"2020-03-25T00:00:00\", \"interventionFootprint\": 1.0, \"State\": \"Florida\"}, {\"lockdown_date\": \"2020-03-26T00:00:00\", \"interventionFootprint\": 1.0, \"State\": \"Florida\"}, {\"lockdown_date\": \"2020-03-27T00:00:00\", \"interventionFootprint\": 1.0, \"State\": \"Florida\"}, {\"lockdown_date\": \"2020-03-28T00:00:00\", \"interventionFootprint\": 1.0, \"State\": \"Florida\"}, {\"lockdown_date\": \"2020-03-30T00:00:00\", \"interventionFootprint\": 1.0, \"State\": \"Florida\"}, {\"lockdown_date\": \"2020-03-31T00:00:00\", \"interventionFootprint\": 1.0, \"State\": \"Florida\"}, {\"lockdown_date\": \"2020-04-01T00:00:00\", \"interventionFootprint\": 1.0, \"State\": \"Florida\"}, {\"lockdown_date\": \"2020-03-12T00:00:00\", \"interventionFootprint\": 0.2, \"State\": \"Nevada\"}, {\"lockdown_date\": \"2020-03-15T00:00:00\", \"interventionFootprint\": 0.7, \"State\": \"Nevada\"}, {\"lockdown_date\": \"2020-03-17T00:00:00\", \"interventionFootprint\": 1.0, \"State\": \"Nevada\"}, {\"lockdown_date\": \"2020-03-24T00:00:00\", \"interventionFootprint\": 1.0, \"State\": \"Nevada\"}, {\"lockdown_date\": \"2020-03-10T00:00:00\", \"interventionFootprint\": 0.2, \"State\": \"Connecticut\"}, {\"lockdown_date\": \"2020-03-13T00:00:00\", \"interventionFootprint\": 0.7, \"State\": \"Connecticut\"}, {\"lockdown_date\": \"2020-03-09T00:00:00\", \"interventionFootprint\": 0.2, \"State\": \"Rhode Island\"}, {\"lockdown_date\": \"2020-03-16T00:00:00\", \"interventionFootprint\": 0.7, \"State\": \"Rhode Island\"}, {\"lockdown_date\": \"2020-03-17T00:00:00\", \"interventionFootprint\": 1.0, \"State\": \"Rhode Island\"}, {\"lockdown_date\": \"2020-03-26T00:00:00\", \"interventionFootprint\": 1.0, \"State\": \"Rhode Island\"}, {\"lockdown_date\": \"2020-03-28T00:00:00\", \"interventionFootprint\": 1.0, \"State\": \"Rhode Island\"}, {\"lockdown_date\": \"2020-03-13T00:00:00\", \"interventionFootprint\": 0.2, \"State\": \"Georgia\"}, {\"lockdown_date\": \"2020-03-18T00:00:00\", \"interventionFootprint\": 0.7, \"State\": \"Georgia\"}, {\"lockdown_date\": \"2020-03-19T00:00:00\", \"interventionFootprint\": 0.7118638957871415, \"State\": \"Georgia\"}, {\"lockdown_date\": \"2020-03-22T00:00:00\", \"interventionFootprint\": 0.720148015201052, \"State\": \"Georgia\"}, {\"lockdown_date\": \"2020-03-23T00:00:00\", \"interventionFootprint\": 1.0, \"State\": \"Georgia\"}, {\"lockdown_date\": \"2020-03-24T00:00:00\", \"interventionFootprint\": 1.0, \"State\": \"Georgia\"}, {\"lockdown_date\": \"2020-03-25T00:00:00\", \"interventionFootprint\": 1.0, \"State\": \"Georgia\"}, {\"lockdown_date\": \"2020-03-26T00:00:00\", \"interventionFootprint\": 1.0, \"State\": \"Georgia\"}, {\"lockdown_date\": \"2020-03-27T00:00:00\", \"interventionFootprint\": 1.0, \"State\": \"Georgia\"}, {\"lockdown_date\": \"2020-03-28T00:00:00\", \"interventionFootprint\": 1.0, \"State\": \"Georgia\"}, {\"lockdown_date\": \"2020-03-30T00:00:00\", \"interventionFootprint\": 1.0, \"State\": \"Georgia\"}, {\"lockdown_date\": \"2020-04-01T00:00:00\", \"interventionFootprint\": 1.0, \"State\": \"Georgia\"}, {\"lockdown_date\": \"2020-04-02T00:00:00\", \"interventionFootprint\": 1.0, \"State\": \"Georgia\"}, {\"lockdown_date\": \"2020-03-07T00:00:00\", \"interventionFootprint\": 0.2, \"State\": \"New York\"}, {\"lockdown_date\": \"2020-03-08T00:00:00\", \"interventionFootprint\": 0.22486706675451348, \"State\": \"New York\"}, {\"lockdown_date\": \"2020-03-12T00:00:00\", \"interventionFootprint\": 0.3248670667545135, \"State\": \"New York\"}, {\"lockdown_date\": \"2020-03-13T00:00:00\", \"interventionFootprint\": 0.358356822177698, \"State\": \"New York\"}, {\"lockdown_date\": \"2020-03-16T00:00:00\", \"interventionFootprint\": 0.45605181488366064, \"State\": \"New York\"}, {\"lockdown_date\": \"2020-03-22T00:00:00\", \"interventionFootprint\": 1.0, \"State\": \"New York\"}, {\"lockdown_date\": \"2020-03-13T00:00:00\", \"interventionFootprint\": 0.5, \"State\": \"Pennsylvania\"}, {\"lockdown_date\": \"2020-03-16T00:00:00\", \"interventionFootprint\": 1.0, \"State\": \"Pennsylvania\"}, {\"lockdown_date\": \"2020-03-23T00:00:00\", \"interventionFootprint\": 1.0, \"State\": \"Pennsylvania\"}, {\"lockdown_date\": \"2020-03-25T00:00:00\", \"interventionFootprint\": 1.0, \"State\": \"Pennsylvania\"}, {\"lockdown_date\": \"2020-03-27T00:00:00\", \"interventionFootprint\": 1.0, \"State\": \"Pennsylvania\"}, {\"lockdown_date\": \"2020-03-28T00:00:00\", \"interventionFootprint\": 1.0, \"State\": \"Pennsylvania\"}, {\"lockdown_date\": \"2020-03-30T00:00:00\", \"interventionFootprint\": 1.0, \"State\": \"Pennsylvania\"}, {\"lockdown_date\": \"2020-03-31T00:00:00\", \"interventionFootprint\": 1.0, \"State\": \"Pennsylvania\"}, {\"lockdown_date\": \"2020-04-01T00:00:00\", \"interventionFootprint\": 1.0, \"State\": \"Pennsylvania\"}, {\"lockdown_date\": \"2020-03-11T00:00:00\", \"interventionFootprint\": 0.2, \"State\": \"Louisiana\"}, {\"lockdown_date\": \"2020-03-16T00:00:00\", \"interventionFootprint\": 1.0, \"State\": \"Louisiana\"}, {\"lockdown_date\": \"2020-03-20T00:00:00\", \"interventionFootprint\": 1.0, \"State\": \"Louisiana\"}, {\"lockdown_date\": \"2020-03-23T00:00:00\", \"interventionFootprint\": 1.0, \"State\": \"Louisiana\"}, {\"lockdown_date\": \"2020-03-06T00:00:00\", \"interventionFootprint\": 0.2, \"State\": \"Kentucky\"}, {\"lockdown_date\": \"2020-03-16T00:00:00\", \"interventionFootprint\": 1.0, \"State\": \"Kentucky\"}, {\"lockdown_date\": \"2020-03-17T00:00:00\", \"interventionFootprint\": 1.0, \"State\": \"Kentucky\"}, {\"lockdown_date\": \"2020-03-23T00:00:00\", \"interventionFootprint\": 1.0, \"State\": \"Kentucky\"}, {\"lockdown_date\": \"2020-04-01T00:00:00\", \"interventionFootprint\": 1.0, \"State\": \"Kentucky\"}, {\"lockdown_date\": \"2020-02-28T00:00:00\", \"interventionFootprint\": 0.1, \"State\": \"Oregon\"}, {\"lockdown_date\": \"2020-03-08T00:00:00\", \"interventionFootprint\": 0.30000000000000004, \"State\": \"Oregon\"}, {\"lockdown_date\": \"2020-03-12T00:00:00\", \"interventionFootprint\": 0.8, \"State\": \"Oregon\"}, {\"lockdown_date\": \"2020-03-23T00:00:00\", \"interventionFootprint\": 1.0, \"State\": \"Oregon\"}, {\"lockdown_date\": \"2020-03-13T00:00:00\", \"interventionFootprint\": 0.2, \"State\": \"New Hampshire\"}, {\"lockdown_date\": \"2020-03-15T00:00:00\", \"interventionFootprint\": 0.7, \"State\": \"New Hampshire\"}, {\"lockdown_date\": \"2020-03-16T00:00:00\", \"interventionFootprint\": 1.0, \"State\": \"New Hampshire\"}, {\"lockdown_date\": \"2020-03-27T00:00:00\", \"interventionFootprint\": 1.0, \"State\": \"New Hampshire\"}, {\"lockdown_date\": \"2020-03-13T00:00:00\", \"interventionFootprint\": 0.2, \"State\": \"Idaho\"}, {\"lockdown_date\": \"2020-03-17T00:00:00\", \"interventionFootprint\": 0.21288201604306503, \"State\": \"Idaho\"}, {\"lockdown_date\": \"2020-03-23T00:00:00\", \"interventionFootprint\": 0.712882016043065, \"State\": \"Idaho\"}, {\"lockdown_date\": \"2020-03-25T00:00:00\", \"interventionFootprint\": 1.0, \"State\": \"Idaho\"}, {\"lockdown_date\": \"2020-03-11T00:00:00\", \"interventionFootprint\": 0.2, \"State\": \"New Mexico\"}, {\"lockdown_date\": \"2020-03-24T00:00:00\", \"interventionFootprint\": 1.0, \"State\": \"New Mexico\"}, {\"lockdown_date\": \"2020-03-09T00:00:00\", \"interventionFootprint\": 0.2, \"State\": \"New Jersey\"}, {\"lockdown_date\": \"2020-03-10T00:00:00\", \"interventionFootprint\": 0.7, \"State\": \"New Jersey\"}, {\"lockdown_date\": \"2020-03-14T00:00:00\", \"interventionFootprint\": 0.7060182229832958, \"State\": \"New Jersey\"}, {\"lockdown_date\": \"2020-03-16T00:00:00\", \"interventionFootprint\": 1.0, \"State\": \"New Jersey\"}, {\"lockdown_date\": \"2020-03-21T00:00:00\", \"interventionFootprint\": 1.0, \"State\": \"New Jersey\"}, {\"lockdown_date\": \"2020-03-12T00:00:00\", \"interventionFootprint\": 0.2, \"State\": \"Delaware\"}, {\"lockdown_date\": \"2020-03-13T00:00:00\", \"interventionFootprint\": 0.7, \"State\": \"Delaware\"}, {\"lockdown_date\": \"2020-03-23T00:00:00\", \"interventionFootprint\": 1.0, \"State\": \"Delaware\"}, {\"lockdown_date\": \"2020-03-09T00:00:00\", \"interventionFootprint\": 0.2, \"State\": \"Illinois\"}, {\"lockdown_date\": \"2020-03-15T00:00:00\", \"interventionFootprint\": 0.6000000000000001, \"State\": \"Illinois\"}, {\"lockdown_date\": \"2020-03-16T00:00:00\", \"interventionFootprint\": 0.7000000000000001, \"State\": \"Illinois\"}, {\"lockdown_date\": \"2020-03-17T00:00:00\", \"interventionFootprint\": 1.0, \"State\": \"Illinois\"}, {\"lockdown_date\": \"2020-03-21T00:00:00\", \"interventionFootprint\": 1.0, \"State\": \"Illinois\"}, {\"lockdown_date\": \"2020-03-06T00:00:00\", \"interventionFootprint\": 0.2, \"State\": \"Indiana\"}, {\"lockdown_date\": \"2020-03-16T00:00:00\", \"interventionFootprint\": 0.6000000000000001, \"State\": \"Indiana\"}, {\"lockdown_date\": \"2020-03-19T00:00:00\", \"interventionFootprint\": 1.0, \"State\": \"Indiana\"}, {\"lockdown_date\": \"2020-03-25T00:00:00\", \"interventionFootprint\": 1.0, \"State\": \"Indiana\"}, {\"lockdown_date\": \"2020-03-04T00:00:00\", \"interventionFootprint\": 0.2, \"State\": \"Hawaii\"}, {\"lockdown_date\": \"2020-03-16T00:00:00\", \"interventionFootprint\": 0.7, \"State\": \"Hawaii\"}, {\"lockdown_date\": \"2020-03-19T00:00:00\", \"interventionFootprint\": 1.0, \"State\": \"Hawaii\"}, {\"lockdown_date\": \"2020-03-20T00:00:00\", \"interventionFootprint\": 1.0, \"State\": \"Hawaii\"}, {\"lockdown_date\": \"2020-03-21T00:00:00\", \"interventionFootprint\": 1.0, \"State\": \"Hawaii\"}, {\"lockdown_date\": \"2020-03-22T00:00:00\", \"interventionFootprint\": 1.0, \"State\": \"Hawaii\"}, {\"lockdown_date\": \"2020-03-25T00:00:00\", \"interventionFootprint\": 1.0, \"State\": \"Hawaii\"}, {\"lockdown_date\": \"2020-03-09T00:00:00\", \"interventionFootprint\": 0.2, \"State\": \"Iowa\"}, {\"lockdown_date\": \"2020-03-15T00:00:00\", \"interventionFootprint\": 0.7, \"State\": \"Iowa\"}]}}, {\"mode\": \"vega-lite\"});\n",
       "</script>"
      ],
      "text/plain": [
       "alt.Chart(...)"
      ]
     },
     "execution_count": 431,
     "metadata": {},
     "output_type": "execute_result"
    }
   ],
   "source": [
    "chart = alt.Chart(df_all).mark_line().encode(\n",
    "        x = \"lockdown_date\",\n",
    "        y = \"interventionFootprint\",\n",
    "        facet=alt.Facet('State:O', columns=4),\n",
    "    )\n",
    "chart "
   ]
  }
 ],
 "metadata": {
  "kernelspec": {
   "display_name": "Python 3",
   "language": "python",
   "name": "python3"
  },
  "language_info": {
   "codemirror_mode": {
    "name": "ipython",
    "version": 3
   },
   "file_extension": ".py",
   "mimetype": "text/x-python",
   "name": "python",
   "nbconvert_exporter": "python",
   "pygments_lexer": "ipython3",
   "version": "3.7.7"
  }
 },
 "nbformat": 4,
 "nbformat_minor": 2
}
