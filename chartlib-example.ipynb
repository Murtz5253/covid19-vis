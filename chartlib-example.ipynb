{
 "cells": [
  {
   "cell_type": "code",
   "execution_count": null,
   "metadata": {},
   "outputs": [],
   "source": [
    "import pandas as pd\n",
    "from chartlib import CovidChart, DaysSinceNumReached"
   ]
  },
  {
   "cell_type": "code",
   "execution_count": null,
   "metadata": {},
   "outputs": [],
   "source": [
    "# Example 1: NYT US\n",
    "\n",
    "quarantine_df = pd.read_csv('quarantine-activity-US.csv')\n",
    "quarantine_cols = ['Province_State', 'Date Enacted', 'Lockdown Type']\n",
    "quarantine_df = quarantine_df[quarantine_cols]\n",
    "\n",
    "# CovidChart expects to have the following columns\n",
    "quarantine_df = quarantine_df.rename(columns={'Date Enacted': 'lockdown_date', 'Lockdown Type': 'lockdown_type'})\n",
    "\n",
    "# needs to have name identical to groupcol\n",
    "nyt_quarantine_df = quarantine_df.rename(columns={'Province_State': 'state'})\n",
    "nyt_chart = CovidChart(\n",
    "    './nyt-us-states.csv', \n",
    "    groupcol='state', \n",
    "    start_criterion=DaysSinceNumReached(1, 'deaths'), \n",
    "    ycol='deaths', \n",
    "    top_k_groups=10, \n",
    "    quarantine_df=nyt_quarantine_df\n",
    ")\n",
    "nyt_chart = nyt_chart.set_ytitle('Num Deaths (log)')\n",
    "nyt_chart = nyt_chart.set_xtitle('Days since 50 Confirmed')\n",
    "spec = nyt_chart.spec\n",
    "spec.lockdown_extrapolation = True\n",
    "# spec.tooltip_text = False\n",
    "# spec.interactive_legend = False\n",
    "\n",
    "nyt_chart.set_xdomain((0, 30)).set_ydomain((1, 2000))\n",
    "nyt_chart.compile()"
   ]
  },
  {
   "cell_type": "code",
   "execution_count": null,
   "metadata": {},
   "outputs": [],
   "source": [
    "# Example 2: JHU US\n",
    "\n",
    "jhu_df = pd.read_csv(\"./jhu-data.csv\")\n",
    "# grab us-specific\n",
    "jhu_df = jhu_df[(jhu_df[\"Country_Region\"]==\"United States\") & (jhu_df[\"Province_State\"].notnull())]\n",
    "\n",
    "quarantine_df = pd.read_csv('quarantine-activity-US.csv')\n",
    "quarantine_cols = ['Province_State', 'Date Enacted', 'Lockdown Type']\n",
    "quarantine_df = quarantine_df[quarantine_cols]\n",
    "\n",
    "# CovidChart expects to have the following columns\n",
    "quarantine_df = quarantine_df.rename(columns={'Date Enacted': 'lockdown_date', 'Lockdown Type': 'lockdown_type'})\n",
    "\n",
    "chart = CovidChart(\n",
    "    jhu_df, \n",
    "    groupcol='Province_State', \n",
    "    start_criterion=DaysSinceNumReached(50, 'Confirmed'), \n",
    "    ycol='Confirmed',\n",
    "    xcol='Date',\n",
    "    top_k_groups=10,\n",
    "    quarantine_df=quarantine_df # should have a column with same name as `groupcol`\n",
    ")\n",
    "\n",
    "chart = chart.set_ytitle('Num Confirmed Cases (log)')\n",
    "chart = chart.set_xtitle('Days since 50 Confirmed')\n",
    "spec = chart.spec\n",
    "# note: spec object autocompletes\n",
    "# can use it to adjust chart properties\n",
    "\n",
    "# spec.points = False\n",
    "# spec.tooltip_rules = False\n",
    "chart.set_xdomain((0, 30)).compile()"
   ]
  },
  {
   "cell_type": "code",
   "execution_count": null,
   "metadata": {},
   "outputs": [],
   "source": [
    "# Example 3: JHU World\n",
    "\n",
    "jhu_df = pd.read_csv(\"./jhu-data.csv\")\n",
    "jhu_df = jhu_df[jhu_df[\"Province_State\"].isnull()]\n",
    "\n",
    "quarantine_df = pd.read_csv('quarantine-activity.csv')\n",
    "quarantine_cols = ['Country_Region', 'Date Enacted', 'Lockdown Type']\n",
    "quarantine_df = quarantine_df[quarantine_cols]\n",
    "\n",
    "\n",
    "# CovidChart expects to have the following columns\n",
    "quarantine_df = quarantine_df.rename(columns={'Date Enacted': 'lockdown_date', 'Lockdown Type': 'lockdown_type'})\n",
    "# quarantine_df = quarantine_df.loc[quarantine_df.lockdown_type == 'Full']\n",
    "\n",
    "\n",
    "chart = CovidChart(\n",
    "    jhu_df, \n",
    "    groupcol='Country_Region', \n",
    "    start_criterion=DaysSinceNumReached(50, 'Confirmed'), \n",
    "    ycol='Confirmed',\n",
    "    xcol='Date',\n",
    "    top_k_groups=7,\n",
    "    quarantine_df=quarantine_df # should have a column with same name as `groupcol`\n",
    ")\n",
    "\n",
    "chart = chart.set_ytitle('Num Confirmed Cases (log)')\n",
    "chart = chart.set_xtitle('Days since 50 Confirmed')\n",
    "spec = chart.spec\n",
    "# note: spec object autocompletes\n",
    "# can use it to adjust chart properties\n",
    "\n",
    "# spec.lockdown_extrapolation = False\n",
    "# spec.yscale = 'linear'\n",
    "# spec.points = False\n",
    "# spec.tooltip_rules = False\n",
    "chart.set_ydomain((1, 200000))\n",
    "chart.set_xdomain((0, 70)).compile()"
   ]
  },
  {
   "cell_type": "code",
   "execution_count": null,
   "metadata": {},
   "outputs": [],
   "source": [
    "chart.export(\"jhu_country.js\",\"jhu_country\")"
   ]
  }
 ],
 "metadata": {
  "kernelspec": {
   "display_name": "Python 3",
   "language": "python",
   "name": "python3"
  },
  "language_info": {
   "codemirror_mode": {
    "name": "ipython",
    "version": 3
   },
   "file_extension": ".py",
   "mimetype": "text/x-python",
   "name": "python",
   "nbconvert_exporter": "python",
   "pygments_lexer": "ipython3",
   "version": "3.7.7"
  }
 },
 "nbformat": 4,
 "nbformat_minor": 4
}
